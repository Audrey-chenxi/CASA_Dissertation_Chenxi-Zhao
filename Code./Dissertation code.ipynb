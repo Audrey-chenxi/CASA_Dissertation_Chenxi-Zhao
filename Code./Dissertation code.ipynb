{
 "cells": [
  {
   "cell_type": "markdown",
   "metadata": {},
   "source": [
    "# Covid-19\n",
    "\n",
    "\n",
    "##### Programme: MSc Spatial Data Science and Visualisation\n",
    "##### Module: Dissertation\n",
    "##### Student id: 19035452"
   ]
  },
  {
   "cell_type": "markdown",
   "metadata": {},
   "source": [
    "## 1. Presentation of Data and Data preprocessing"
   ]
  },
  {
   "cell_type": "markdown",
   "metadata": {},
   "source": [
    "### 1.1 Import Library"
   ]
  },
  {
   "cell_type": "code",
   "execution_count": 1,
   "metadata": {},
   "outputs": [],
   "source": [
    "import os\n",
    "import copy\n",
    "import numpy as np\n",
    "import pandas as pd\n",
    "import matplotlib.pyplot as plt\n",
    "import statsmodels.api as sm\n",
    "from scipy import stats, integrate\n",
    "import seaborn as sns\n",
    "import os\n",
    "import copy\n",
    "import numpy as np\n",
    "import pandas as pd\n",
    "import seaborn as sns\n",
    "import seaborn as sn\n",
    "import scipy as sp\n",
    "import statsmodels.api as sm\n",
    "import scipy.stats as sps\n",
    "import matplotlib.pyplot as plt\n",
    "\n",
    "import sklearn\n",
    "import sklearn.metrics as sklm\n",
    "import sklearn.cluster as sklc\n",
    "from sklearn.linear_model import LogisticRegression\n",
    "from sklearn.linear_model import LinearRegression\n",
    "from sklearn.metrics import confusion_matrix\n",
    "from sklearn.cluster import KMeans, DBSCAN, OPTICS\n",
    "from sklearn.preprocessing import PowerTransformer, RobustScaler, StandardScaler, MinMaxScaler\n",
    "\n",
    "from sklearn import linear_model\n",
    "from sklearn.linear_model import lasso_path\n",
    "from sklearn.model_selection import train_test_split\n",
    "from sklearn.tree import DecisionTreeRegressor\n",
    "from sklearn import model_selection\n",
    "from sklearn.model_selection import validation_curve\n",
    "from sklearn.ensemble import RandomForestRegressor\n",
    "from sklearn import model_selection\n",
    "from sklearn.model_selection import validation_curve\n",
    "\n",
    "import matplotlib.pyplot as plt\n",
    "from itertools import cycle\n",
    "from statsmodels.formula.api import ols\n",
    "from statsmodels.stats.outliers_influence import variance_inflation_factor\n",
    "\n",
    "# seaborn中文乱码解决方案\n",
    "from matplotlib.font_manager import FontProperties\n",
    "myfont=FontProperties(fname=r'C:\\Windows\\Fonts\\simhei.ttf',size=14)\n",
    "sns.set(font=myfont.get_name())\n",
    "\n",
    "pd.set_option('display.max_rows', 300) # specifies number of rows to show\n",
    "pd.options.display.float_format = '{:40,.4f}'.format # specifies default number format to 4 decimal places\n",
    "plt.style.use('ggplot') # specifies that graphs should use ggplot styling\n",
    "%matplotlib inline\n"
   ]
  },
  {
   "cell_type": "markdown",
   "metadata": {},
   "source": [
    "### 1.2 Getting the Data"
   ]
  },
  {
   "cell_type": "code",
   "execution_count": 2,
   "metadata": {},
   "outputs": [
    {
     "name": "stdout",
     "output_type": "stream",
     "text": [
      "Data frame is 984 x 5\n",
      "Data frame is 32,844 x 11\n",
      "Data frame is 227,759 x 2\n",
      "Data frame is 984 x 10\n",
      "Data frame is 983 x 2\n",
      "Data frame is 7,201 x 2\n"
     ]
    }
   ],
   "source": [
    "Cases_MSOA = \"https://raw.githubusercontent.com/Audrey-chenxi/CASA_Dissertation_Chenxi-Zhao/main/Data/Cases_MSOA.csv\"\n",
    "df0 = pd.read_csv(Cases_MSOA, low_memory=False,encoding='gb18030')\n",
    "print(f\"Data frame is {df0.shape[0]:,} x {df0.shape[1]}\")\n",
    "Deprivation_indices_LSOA = \"https://raw.githubusercontent.com/Audrey-chenxi/CASA_Dissertation_Chenxi-Zhao/main/Data/Indices%20of%20deprivation_LSOA.csv\"\n",
    "df1 = pd.read_csv(Deprivation_indices_LSOA, low_memory=False)\n",
    "print(f\"Data frame is {df1.shape[0]:,} x {df1.shape[1]}\")\n",
    "LSOA_MSOA = \"https://raw.githubusercontent.com/Audrey-chenxi/CASA_Dissertation_Chenxi-Zhao/main/Data/LSOA_MSOA.csv\"\n",
    "df2 = pd.read_csv(LSOA_MSOA, low_memory=False)\n",
    "print(f\"Data frame is {df2.shape[0]:,} x {df2.shape[1]}\")\n",
    "Sociodemographics_MSOA = \"https://raw.githubusercontent.com/Audrey-chenxi/CASA_Dissertation_Chenxi-Zhao/main/Data/Sociodemographics_MSOA.csv\"\n",
    "df3 = pd.read_csv(Sociodemographics_MSOA, low_memory=False)\n",
    "print(f\"Data frame is {df3.shape[0]:,} x {df3.shape[1]}\")\n",
    "Bame_London_MSOA = \"https://raw.githubusercontent.com/Audrey-chenxi/CASA_Dissertation_Chenxi-Zhao/main/Data/bame_London_MSOA.csv\"\n",
    "df4 = pd.read_csv(Bame_London_MSOA, low_memory=False)\n",
    "print(f\"Data frame is {df4.shape[0]:,} x {df4.shape[1]}\")\n",
    "House_price_MSOA = \"https://raw.githubusercontent.com/Audrey-chenxi/CASA_Dissertation_Chenxi-Zhao/main/Data/house%20price_MSOA.csv\"\n",
    "df5 = pd.read_csv(House_price_MSOA, low_memory=False)\n",
    "print(f\"Data frame is {df5.shape[0]:,} x {df5.shape[1]}\")"
   ]
  },
  {
   "cell_type": "code",
   "execution_count": 3,
   "metadata": {},
   "outputs": [
    {
     "data": {
      "text/html": [
       "<div>\n",
       "<style scoped>\n",
       "    .dataframe tbody tr th:only-of-type {\n",
       "        vertical-align: middle;\n",
       "    }\n",
       "\n",
       "    .dataframe tbody tr th {\n",
       "        vertical-align: top;\n",
       "    }\n",
       "\n",
       "    .dataframe thead th {\n",
       "        text-align: right;\n",
       "    }\n",
       "</style>\n",
       "<table border=\"1\" class=\"dataframe\">\n",
       "  <thead>\n",
       "    <tr style=\"text-align: right;\">\n",
       "      <th></th>\n",
       "      <th>areaCode</th>\n",
       "      <th>areaName</th>\n",
       "      <th>RollingRate1</th>\n",
       "      <th>RollingRate2</th>\n",
       "      <th>RollingRate3</th>\n",
       "    </tr>\n",
       "  </thead>\n",
       "  <tbody>\n",
       "    <tr>\n",
       "      <th>0</th>\n",
       "      <td>E02000001</td>\n",
       "      <td>City of London</td>\n",
       "      <td>133.8000</td>\n",
       "      <td>956.7000</td>\n",
       "      <td>977.2000</td>\n",
       "    </tr>\n",
       "    <tr>\n",
       "      <th>1</th>\n",
       "      <td>E02000002</td>\n",
       "      <td>Marks Gate</td>\n",
       "      <td>142.2000</td>\n",
       "      <td>1,461.0000</td>\n",
       "      <td>2,611.5000</td>\n",
       "    </tr>\n",
       "    <tr>\n",
       "      <th>2</th>\n",
       "      <td>E02000003</td>\n",
       "      <td>Chadwell Heath East</td>\n",
       "      <td>313.1000</td>\n",
       "      <td>1,458.7000</td>\n",
       "      <td>2,174.7000</td>\n",
       "    </tr>\n",
       "    <tr>\n",
       "      <th>3</th>\n",
       "      <td>E02000004</td>\n",
       "      <td>Eastbrookend</td>\n",
       "      <td>508.5000</td>\n",
       "      <td>1,271.0000</td>\n",
       "      <td>2,482.5000</td>\n",
       "    </tr>\n",
       "    <tr>\n",
       "      <th>4</th>\n",
       "      <td>E02000005</td>\n",
       "      <td>Becontree Heath</td>\n",
       "      <td>210.9000</td>\n",
       "      <td>1,207.8000</td>\n",
       "      <td>2,339.0000</td>\n",
       "    </tr>\n",
       "  </tbody>\n",
       "</table>\n",
       "</div>"
      ],
      "text/plain": [
       "    areaCode             areaName                             RollingRate1  \\\n",
       "0  E02000001       City of London                                 133.8000   \n",
       "1  E02000002           Marks Gate                                 142.2000   \n",
       "2  E02000003  Chadwell Heath East                                 313.1000   \n",
       "3  E02000004         Eastbrookend                                 508.5000   \n",
       "4  E02000005      Becontree Heath                                 210.9000   \n",
       "\n",
       "                              RollingRate2  \\\n",
       "0                                 956.7000   \n",
       "1                               1,461.0000   \n",
       "2                               1,458.7000   \n",
       "3                               1,271.0000   \n",
       "4                               1,207.8000   \n",
       "\n",
       "                              RollingRate3  \n",
       "0                                 977.2000  \n",
       "1                               2,611.5000  \n",
       "2                               2,174.7000  \n",
       "3                               2,482.5000  \n",
       "4                               2,339.0000  "
      ]
     },
     "execution_count": 3,
     "metadata": {},
     "output_type": "execute_result"
    }
   ],
   "source": [
    "df0.head()"
   ]
  },
  {
   "cell_type": "code",
   "execution_count": 4,
   "metadata": {},
   "outputs": [
    {
     "data": {
      "text/html": [
       "<div>\n",
       "<style scoped>\n",
       "    .dataframe tbody tr th:only-of-type {\n",
       "        vertical-align: middle;\n",
       "    }\n",
       "\n",
       "    .dataframe tbody tr th {\n",
       "        vertical-align: top;\n",
       "    }\n",
       "\n",
       "    .dataframe thead th {\n",
       "        text-align: right;\n",
       "    }\n",
       "</style>\n",
       "<table border=\"1\" class=\"dataframe\">\n",
       "  <thead>\n",
       "    <tr style=\"text-align: right;\">\n",
       "      <th></th>\n",
       "      <th>MSOA Code</th>\n",
       "      <th>areaName</th>\n",
       "      <th>Not United Kingdom (%)</th>\n",
       "      <th>Owned: Owned outright (%)</th>\n",
       "      <th>Owned: Owned with a mortgage or loan (%)</th>\n",
       "      <th>Social rented (%)</th>\n",
       "      <th>Private rented (%)</th>\n",
       "      <th>Household spaces with no usual residents (%)</th>\n",
       "      <th>population_density</th>\n",
       "      <th>population_prop_over65</th>\n",
       "    </tr>\n",
       "  </thead>\n",
       "  <tbody>\n",
       "    <tr>\n",
       "      <th>0</th>\n",
       "      <td>E02000001</td>\n",
       "      <td>City of London</td>\n",
       "      <td>36.6780</td>\n",
       "      <td>24.9000</td>\n",
       "      <td>17.4000</td>\n",
       "      <td>16.5000</td>\n",
       "      <td>35.9000</td>\n",
       "      <td>20.7000</td>\n",
       "      <td>33.5438</td>\n",
       "      <td>0.1689</td>\n",
       "    </tr>\n",
       "    <tr>\n",
       "      <th>1</th>\n",
       "      <td>E02000002</td>\n",
       "      <td>Marks Gate</td>\n",
       "      <td>23.8524</td>\n",
       "      <td>22.0000</td>\n",
       "      <td>24.4000</td>\n",
       "      <td>41.8000</td>\n",
       "      <td>9.9000</td>\n",
       "      <td>2.9000</td>\n",
       "      <td>35.7771</td>\n",
       "      <td>0.1304</td>\n",
       "    </tr>\n",
       "    <tr>\n",
       "      <th>2</th>\n",
       "      <td>E02000003</td>\n",
       "      <td>Chadwell Heath East</td>\n",
       "      <td>28.3922</td>\n",
       "      <td>26.8000</td>\n",
       "      <td>38.4000</td>\n",
       "      <td>11.6000</td>\n",
       "      <td>21.6000</td>\n",
       "      <td>2.8000</td>\n",
       "      <td>52.1662</td>\n",
       "      <td>0.1171</td>\n",
       "    </tr>\n",
       "    <tr>\n",
       "      <th>3</th>\n",
       "      <td>E02000004</td>\n",
       "      <td>Eastbrookend</td>\n",
       "      <td>14.3966</td>\n",
       "      <td>31.0000</td>\n",
       "      <td>41.8000</td>\n",
       "      <td>16.0000</td>\n",
       "      <td>9.8000</td>\n",
       "      <td>1.9000</td>\n",
       "      <td>26.8231</td>\n",
       "      <td>0.1572</td>\n",
       "    </tr>\n",
       "    <tr>\n",
       "      <th>4</th>\n",
       "      <td>E02000005</td>\n",
       "      <td>Becontree Heath</td>\n",
       "      <td>24.9591</td>\n",
       "      <td>22.3000</td>\n",
       "      <td>36.0000</td>\n",
       "      <td>24.9000</td>\n",
       "      <td>15.1000</td>\n",
       "      <td>2.7000</td>\n",
       "      <td>87.8114</td>\n",
       "      <td>0.0886</td>\n",
       "    </tr>\n",
       "  </tbody>\n",
       "</table>\n",
       "</div>"
      ],
      "text/plain": [
       "   MSOA Code             areaName                   Not United Kingdom (%)  \\\n",
       "0  E02000001       City of London                                  36.6780   \n",
       "1  E02000002           Marks Gate                                  23.8524   \n",
       "2  E02000003  Chadwell Heath East                                  28.3922   \n",
       "3  E02000004         Eastbrookend                                  14.3966   \n",
       "4  E02000005      Becontree Heath                                  24.9591   \n",
       "\n",
       "                 Owned: Owned outright (%)  \\\n",
       "0                                  24.9000   \n",
       "1                                  22.0000   \n",
       "2                                  26.8000   \n",
       "3                                  31.0000   \n",
       "4                                  22.3000   \n",
       "\n",
       "   Owned: Owned with a mortgage or loan (%)  \\\n",
       "0                                   17.4000   \n",
       "1                                   24.4000   \n",
       "2                                   38.4000   \n",
       "3                                   41.8000   \n",
       "4                                   36.0000   \n",
       "\n",
       "                         Social rented (%)  \\\n",
       "0                                  16.5000   \n",
       "1                                  41.8000   \n",
       "2                                  11.6000   \n",
       "3                                  16.0000   \n",
       "4                                  24.9000   \n",
       "\n",
       "                        Private rented (%)  \\\n",
       "0                                  35.9000   \n",
       "1                                   9.9000   \n",
       "2                                  21.6000   \n",
       "3                                   9.8000   \n",
       "4                                  15.1000   \n",
       "\n",
       "   Household spaces with no usual residents (%)  \\\n",
       "0                                       20.7000   \n",
       "1                                        2.9000   \n",
       "2                                        2.8000   \n",
       "3                                        1.9000   \n",
       "4                                        2.7000   \n",
       "\n",
       "                        population_density  \\\n",
       "0                                  33.5438   \n",
       "1                                  35.7771   \n",
       "2                                  52.1662   \n",
       "3                                  26.8231   \n",
       "4                                  87.8114   \n",
       "\n",
       "                    population_prop_over65  \n",
       "0                                   0.1689  \n",
       "1                                   0.1304  \n",
       "2                                   0.1171  \n",
       "3                                   0.1572  \n",
       "4                                   0.0886  "
      ]
     },
     "execution_count": 4,
     "metadata": {},
     "output_type": "execute_result"
    }
   ],
   "source": [
    "df3.head()"
   ]
  },
  {
   "cell_type": "code",
   "execution_count": 5,
   "metadata": {},
   "outputs": [
    {
     "data": {
      "text/html": [
       "<div>\n",
       "<style scoped>\n",
       "    .dataframe tbody tr th:only-of-type {\n",
       "        vertical-align: middle;\n",
       "    }\n",
       "\n",
       "    .dataframe tbody tr th {\n",
       "        vertical-align: top;\n",
       "    }\n",
       "\n",
       "    .dataframe thead th {\n",
       "        text-align: right;\n",
       "    }\n",
       "</style>\n",
       "<table border=\"1\" class=\"dataframe\">\n",
       "  <thead>\n",
       "    <tr style=\"text-align: right;\">\n",
       "      <th></th>\n",
       "      <th>MSOA11CD</th>\n",
       "      <th>all_bame_prop</th>\n",
       "    </tr>\n",
       "  </thead>\n",
       "  <tbody>\n",
       "    <tr>\n",
       "      <th>0</th>\n",
       "      <td>E02000001</td>\n",
       "      <td>0.2137</td>\n",
       "    </tr>\n",
       "    <tr>\n",
       "      <th>1</th>\n",
       "      <td>E02000002</td>\n",
       "      <td>0.3501</td>\n",
       "    </tr>\n",
       "    <tr>\n",
       "      <th>2</th>\n",
       "      <td>E02000003</td>\n",
       "      <td>0.4539</td>\n",
       "    </tr>\n",
       "    <tr>\n",
       "      <th>3</th>\n",
       "      <td>E02000004</td>\n",
       "      <td>0.1902</td>\n",
       "    </tr>\n",
       "    <tr>\n",
       "      <th>4</th>\n",
       "      <td>E02000005</td>\n",
       "      <td>0.3373</td>\n",
       "    </tr>\n",
       "  </tbody>\n",
       "</table>\n",
       "</div>"
      ],
      "text/plain": [
       "    MSOA11CD                            all_bame_prop\n",
       "0  E02000001                                   0.2137\n",
       "1  E02000002                                   0.3501\n",
       "2  E02000003                                   0.4539\n",
       "3  E02000004                                   0.1902\n",
       "4  E02000005                                   0.3373"
      ]
     },
     "execution_count": 5,
     "metadata": {},
     "output_type": "execute_result"
    }
   ],
   "source": [
    "df4.head()"
   ]
  },
  {
   "cell_type": "code",
   "execution_count": 6,
   "metadata": {},
   "outputs": [
    {
     "data": {
      "text/html": [
       "<div>\n",
       "<style scoped>\n",
       "    .dataframe tbody tr th:only-of-type {\n",
       "        vertical-align: middle;\n",
       "    }\n",
       "\n",
       "    .dataframe tbody tr th {\n",
       "        vertical-align: top;\n",
       "    }\n",
       "\n",
       "    .dataframe thead th {\n",
       "        text-align: right;\n",
       "    }\n",
       "</style>\n",
       "<table border=\"1\" class=\"dataframe\">\n",
       "  <thead>\n",
       "    <tr style=\"text-align: right;\">\n",
       "      <th></th>\n",
       "      <th>MSOA code</th>\n",
       "      <th>house price</th>\n",
       "    </tr>\n",
       "  </thead>\n",
       "  <tbody>\n",
       "    <tr>\n",
       "      <th>0</th>\n",
       "      <td>E02004297</td>\n",
       "      <td>142995</td>\n",
       "    </tr>\n",
       "    <tr>\n",
       "      <th>1</th>\n",
       "      <td>E02004290</td>\n",
       "      <td>140000</td>\n",
       "    </tr>\n",
       "    <tr>\n",
       "      <th>2</th>\n",
       "      <td>E02004298</td>\n",
       "      <td>135000</td>\n",
       "    </tr>\n",
       "    <tr>\n",
       "      <th>3</th>\n",
       "      <td>E02004299</td>\n",
       "      <td>100000</td>\n",
       "    </tr>\n",
       "    <tr>\n",
       "      <th>4</th>\n",
       "      <td>E02004291</td>\n",
       "      <td>112500</td>\n",
       "    </tr>\n",
       "  </tbody>\n",
       "</table>\n",
       "</div>"
      ],
      "text/plain": [
       "   MSOA code  house price\n",
       "0  E02004297       142995\n",
       "1  E02004290       140000\n",
       "2  E02004298       135000\n",
       "3  E02004299       100000\n",
       "4  E02004291       112500"
      ]
     },
     "execution_count": 6,
     "metadata": {},
     "output_type": "execute_result"
    }
   ],
   "source": [
    "df5.head()"
   ]
  },
  {
   "cell_type": "code",
   "execution_count": 7,
   "metadata": {},
   "outputs": [
    {
     "data": {
      "text/html": [
       "<div>\n",
       "<style scoped>\n",
       "    .dataframe tbody tr th:only-of-type {\n",
       "        vertical-align: middle;\n",
       "    }\n",
       "\n",
       "    .dataframe tbody tr th {\n",
       "        vertical-align: top;\n",
       "    }\n",
       "\n",
       "    .dataframe thead th {\n",
       "        text-align: right;\n",
       "    }\n",
       "</style>\n",
       "<table border=\"1\" class=\"dataframe\">\n",
       "  <thead>\n",
       "    <tr style=\"text-align: right;\">\n",
       "      <th></th>\n",
       "      <th>LSOA code (2011)</th>\n",
       "      <th>LSOA name (2011)</th>\n",
       "      <th>Index of Multiple Deprivation (IMD) Score</th>\n",
       "      <th>Income Score (rate)</th>\n",
       "      <th>Employment Score (rate)</th>\n",
       "      <th>Education, Skills and Training Score</th>\n",
       "      <th>Health Deprivation and Disability Score</th>\n",
       "      <th>Crime Score</th>\n",
       "      <th>Living Environment Score</th>\n",
       "      <th>Adult Skills Sub-domain Score</th>\n",
       "      <th>Geographical Barriers Sub-domain Score</th>\n",
       "    </tr>\n",
       "  </thead>\n",
       "  <tbody>\n",
       "    <tr>\n",
       "      <th>0</th>\n",
       "      <td>E01000001</td>\n",
       "      <td>City of London 001A</td>\n",
       "      <td>6.2080</td>\n",
       "      <td>0.0070</td>\n",
       "      <td>0.0100</td>\n",
       "      <td>0.0240</td>\n",
       "      <td>-1.6540</td>\n",
       "      <td>-2.0120</td>\n",
       "      <td>31.8730</td>\n",
       "      <td>0.0320</td>\n",
       "      <td>-0.4300</td>\n",
       "    </tr>\n",
       "    <tr>\n",
       "      <th>1</th>\n",
       "      <td>E01000002</td>\n",
       "      <td>City of London 001B</td>\n",
       "      <td>5.1430</td>\n",
       "      <td>0.0340</td>\n",
       "      <td>0.0270</td>\n",
       "      <td>0.0630</td>\n",
       "      <td>-1.1150</td>\n",
       "      <td>-2.3430</td>\n",
       "      <td>23.0840</td>\n",
       "      <td>0.0340</td>\n",
       "      <td>-1.0600</td>\n",
       "    </tr>\n",
       "    <tr>\n",
       "      <th>2</th>\n",
       "      <td>E01000003</td>\n",
       "      <td>City of London 001C</td>\n",
       "      <td>19.4020</td>\n",
       "      <td>0.0860</td>\n",
       "      <td>0.0860</td>\n",
       "      <td>5.8040</td>\n",
       "      <td>-0.1020</td>\n",
       "      <td>-1.0320</td>\n",
       "      <td>40.5350</td>\n",
       "      <td>0.1420</td>\n",
       "      <td>-0.6910</td>\n",
       "    </tr>\n",
       "    <tr>\n",
       "      <th>3</th>\n",
       "      <td>E01000005</td>\n",
       "      <td>City of London 001E</td>\n",
       "      <td>28.6520</td>\n",
       "      <td>0.2110</td>\n",
       "      <td>0.1360</td>\n",
       "      <td>22.2600</td>\n",
       "      <td>-0.1210</td>\n",
       "      <td>-1.3170</td>\n",
       "      <td>28.9790</td>\n",
       "      <td>0.3210</td>\n",
       "      <td>-1.1670</td>\n",
       "    </tr>\n",
       "    <tr>\n",
       "      <th>4</th>\n",
       "      <td>E01000006</td>\n",
       "      <td>Barking and Dagenham 016A</td>\n",
       "      <td>19.8370</td>\n",
       "      <td>0.1170</td>\n",
       "      <td>0.0590</td>\n",
       "      <td>14.7980</td>\n",
       "      <td>-0.3590</td>\n",
       "      <td>-0.1470</td>\n",
       "      <td>26.8880</td>\n",
       "      <td>0.3250</td>\n",
       "      <td>-0.4000</td>\n",
       "    </tr>\n",
       "  </tbody>\n",
       "</table>\n",
       "</div>"
      ],
      "text/plain": [
       "  LSOA code (2011)           LSOA name (2011)  \\\n",
       "0        E01000001        City of London 001A   \n",
       "1        E01000002        City of London 001B   \n",
       "2        E01000003        City of London 001C   \n",
       "3        E01000005        City of London 001E   \n",
       "4        E01000006  Barking and Dagenham 016A   \n",
       "\n",
       "   Index of Multiple Deprivation (IMD) Score  \\\n",
       "0                                     6.2080   \n",
       "1                                     5.1430   \n",
       "2                                    19.4020   \n",
       "3                                    28.6520   \n",
       "4                                    19.8370   \n",
       "\n",
       "                       Income Score (rate)  \\\n",
       "0                                   0.0070   \n",
       "1                                   0.0340   \n",
       "2                                   0.0860   \n",
       "3                                   0.2110   \n",
       "4                                   0.1170   \n",
       "\n",
       "                   Employment Score (rate)  \\\n",
       "0                                   0.0100   \n",
       "1                                   0.0270   \n",
       "2                                   0.0860   \n",
       "3                                   0.1360   \n",
       "4                                   0.0590   \n",
       "\n",
       "      Education, Skills and Training Score  \\\n",
       "0                                   0.0240   \n",
       "1                                   0.0630   \n",
       "2                                   5.8040   \n",
       "3                                  22.2600   \n",
       "4                                  14.7980   \n",
       "\n",
       "   Health Deprivation and Disability Score  \\\n",
       "0                                  -1.6540   \n",
       "1                                  -1.1150   \n",
       "2                                  -0.1020   \n",
       "3                                  -0.1210   \n",
       "4                                  -0.3590   \n",
       "\n",
       "                               Crime Score  \\\n",
       "0                                  -2.0120   \n",
       "1                                  -2.3430   \n",
       "2                                  -1.0320   \n",
       "3                                  -1.3170   \n",
       "4                                  -0.1470   \n",
       "\n",
       "                  Living Environment Score  \\\n",
       "0                                  31.8730   \n",
       "1                                  23.0840   \n",
       "2                                  40.5350   \n",
       "3                                  28.9790   \n",
       "4                                  26.8880   \n",
       "\n",
       "             Adult Skills Sub-domain Score  \\\n",
       "0                                   0.0320   \n",
       "1                                   0.0340   \n",
       "2                                   0.1420   \n",
       "3                                   0.3210   \n",
       "4                                   0.3250   \n",
       "\n",
       "    Geographical Barriers Sub-domain Score  \n",
       "0                                  -0.4300  \n",
       "1                                  -1.0600  \n",
       "2                                  -0.6910  \n",
       "3                                  -1.1670  \n",
       "4                                  -0.4000  "
      ]
     },
     "execution_count": 7,
     "metadata": {},
     "output_type": "execute_result"
    }
   ],
   "source": [
    "df1.head()"
   ]
  },
  {
   "cell_type": "code",
   "execution_count": 8,
   "metadata": {},
   "outputs": [
    {
     "data": {
      "text/html": [
       "<div>\n",
       "<style scoped>\n",
       "    .dataframe tbody tr th:only-of-type {\n",
       "        vertical-align: middle;\n",
       "    }\n",
       "\n",
       "    .dataframe tbody tr th {\n",
       "        vertical-align: top;\n",
       "    }\n",
       "\n",
       "    .dataframe thead th {\n",
       "        text-align: right;\n",
       "    }\n",
       "</style>\n",
       "<table border=\"1\" class=\"dataframe\">\n",
       "  <thead>\n",
       "    <tr style=\"text-align: right;\">\n",
       "      <th></th>\n",
       "      <th>LSOA11CD</th>\n",
       "      <th>MSOA11CD</th>\n",
       "    </tr>\n",
       "  </thead>\n",
       "  <tbody>\n",
       "    <tr>\n",
       "      <th>0</th>\n",
       "      <td>E01011966</td>\n",
       "      <td>E02002488</td>\n",
       "    </tr>\n",
       "    <tr>\n",
       "      <th>1</th>\n",
       "      <td>E01011974</td>\n",
       "      <td>E02002487</td>\n",
       "    </tr>\n",
       "    <tr>\n",
       "      <th>2</th>\n",
       "      <td>E01011965</td>\n",
       "      <td>E02002488</td>\n",
       "    </tr>\n",
       "    <tr>\n",
       "      <th>3</th>\n",
       "      <td>E01011983</td>\n",
       "      <td>E02002488</td>\n",
       "    </tr>\n",
       "    <tr>\n",
       "      <th>4</th>\n",
       "      <td>E01011950</td>\n",
       "      <td>E02002490</td>\n",
       "    </tr>\n",
       "  </tbody>\n",
       "</table>\n",
       "</div>"
      ],
      "text/plain": [
       "    LSOA11CD   MSOA11CD\n",
       "0  E01011966  E02002488\n",
       "1  E01011974  E02002487\n",
       "2  E01011965  E02002488\n",
       "3  E01011983  E02002488\n",
       "4  E01011950  E02002490"
      ]
     },
     "execution_count": 8,
     "metadata": {},
     "output_type": "execute_result"
    }
   ],
   "source": [
    "df2.head()"
   ]
  },
  {
   "cell_type": "markdown",
   "metadata": {},
   "source": [
    "### 1.3 Data Join"
   ]
  },
  {
   "cell_type": "markdown",
   "metadata": {},
   "source": [
    "First, merge all MSOA related data sets (df0, df1, df2) into London MSOA<br>\n",
    "Second, convert the LSOA data set to MSOA"
   ]
  },
  {
   "cell_type": "code",
   "execution_count": 9,
   "metadata": {},
   "outputs": [
    {
     "name": "stdout",
     "output_type": "stream",
     "text": [
      "<class 'pandas.core.frame.DataFrame'>\n",
      "Int64Index: 984 entries, 0 to 983\n",
      "Data columns (total 15 columns):\n",
      " #   Column                                        Non-Null Count  Dtype  \n",
      "---  ------                                        --------------  -----  \n",
      " 0   areaCode                                      984 non-null    object \n",
      " 1   areaName_x                                    983 non-null    object \n",
      " 2   RollingRate1                                  973 non-null    float64\n",
      " 3   RollingRate2                                  984 non-null    float64\n",
      " 4   RollingRate3                                  984 non-null    float64\n",
      " 5   MSOA Code                                     983 non-null    object \n",
      " 6   areaName_y                                    983 non-null    object \n",
      " 7   Not United Kingdom (%)                        983 non-null    float64\n",
      " 8   Owned: Owned outright (%)                     983 non-null    float64\n",
      " 9   Owned: Owned with a mortgage or loan (%)      983 non-null    float64\n",
      " 10  Social rented (%)                             983 non-null    float64\n",
      " 11  Private rented (%)                            983 non-null    float64\n",
      " 12  Household spaces with no usual residents (%)  983 non-null    float64\n",
      " 13  population_density                            983 non-null    float64\n",
      " 14  population_prop_over65                        983 non-null    float64\n",
      "dtypes: float64(11), object(4)\n",
      "memory usage: 123.0+ KB\n"
     ]
    }
   ],
   "source": [
    "# Merging four London MSOA files\n",
    "df1_1 = pd.merge(left=df0, right=df3, how='left', left_on='areaCode', right_on='MSOA Code')\n",
    "df1_1.info()"
   ]
  },
  {
   "cell_type": "code",
   "execution_count": 10,
   "metadata": {},
   "outputs": [
    {
     "name": "stdout",
     "output_type": "stream",
     "text": [
      "<class 'pandas.core.frame.DataFrame'>\n",
      "Int64Index: 983 entries, 0 to 982\n",
      "Data columns (total 4 columns):\n",
      " #   Column         Non-Null Count  Dtype  \n",
      "---  ------         --------------  -----  \n",
      " 0   MSOA11CD       983 non-null    object \n",
      " 1   all_bame_prop  983 non-null    float64\n",
      " 2   MSOA code      983 non-null    object \n",
      " 3   house price    983 non-null    int64  \n",
      "dtypes: float64(1), int64(1), object(2)\n",
      "memory usage: 38.4+ KB\n"
     ]
    }
   ],
   "source": [
    "df1_2 = pd.merge(left=df4, right=df5, how='left', left_on='MSOA11CD', right_on='MSOA code')\n",
    "df1_2.info()"
   ]
  },
  {
   "cell_type": "code",
   "execution_count": 11,
   "metadata": {},
   "outputs": [
    {
     "name": "stdout",
     "output_type": "stream",
     "text": [
      "<class 'pandas.core.frame.DataFrame'>\n",
      "Int64Index: 984 entries, 0 to 983\n",
      "Data columns (total 19 columns):\n",
      " #   Column                                        Non-Null Count  Dtype  \n",
      "---  ------                                        --------------  -----  \n",
      " 0   areaCode                                      984 non-null    object \n",
      " 1   areaName_x                                    983 non-null    object \n",
      " 2   RollingRate1                                  973 non-null    float64\n",
      " 3   RollingRate2                                  984 non-null    float64\n",
      " 4   RollingRate3                                  984 non-null    float64\n",
      " 5   MSOA Code                                     983 non-null    object \n",
      " 6   areaName_y                                    983 non-null    object \n",
      " 7   Not United Kingdom (%)                        983 non-null    float64\n",
      " 8   Owned: Owned outright (%)                     983 non-null    float64\n",
      " 9   Owned: Owned with a mortgage or loan (%)      983 non-null    float64\n",
      " 10  Social rented (%)                             983 non-null    float64\n",
      " 11  Private rented (%)                            983 non-null    float64\n",
      " 12  Household spaces with no usual residents (%)  983 non-null    float64\n",
      " 13  population_density                            983 non-null    float64\n",
      " 14  population_prop_over65                        983 non-null    float64\n",
      " 15  MSOA11CD                                      983 non-null    object \n",
      " 16  all_bame_prop                                 983 non-null    float64\n",
      " 17  MSOA code                                     983 non-null    object \n",
      " 18  house price                                   983 non-null    float64\n",
      "dtypes: float64(13), object(6)\n",
      "memory usage: 153.8+ KB\n"
     ]
    }
   ],
   "source": [
    "df1_3 = pd.merge(left=df1_1, right=df1_2, how='left', left_on='areaCode', right_on='MSOA11CD')\n",
    "df1_3.info()"
   ]
  },
  {
   "cell_type": "code",
   "execution_count": 12,
   "metadata": {},
   "outputs": [
    {
     "data": {
      "text/plain": [
       "(171372, 13)"
      ]
     },
     "execution_count": 12,
     "metadata": {},
     "output_type": "execute_result"
    }
   ],
   "source": [
    "# Combine LSOA related data collection into MSOA level\n",
    "df2_1 = pd.merge(left=df1, right=df2, how='inner', left_on='LSOA code (2011)', right_on='LSOA11CD')\n",
    "df2_1.shape"
   ]
  },
  {
   "cell_type": "code",
   "execution_count": 13,
   "metadata": {},
   "outputs": [
    {
     "data": {
      "text/plain": [
       "(32844, 13)"
      ]
     },
     "execution_count": 13,
     "metadata": {},
     "output_type": "execute_result"
    }
   ],
   "source": [
    "df2_1 = df2_1.drop_duplicates()\n",
    "df2_1.shape"
   ]
  },
  {
   "cell_type": "code",
   "execution_count": 14,
   "metadata": {},
   "outputs": [
    {
     "data": {
      "text/html": [
       "<div>\n",
       "<style scoped>\n",
       "    .dataframe tbody tr th:only-of-type {\n",
       "        vertical-align: middle;\n",
       "    }\n",
       "\n",
       "    .dataframe tbody tr th {\n",
       "        vertical-align: top;\n",
       "    }\n",
       "\n",
       "    .dataframe thead th {\n",
       "        text-align: right;\n",
       "    }\n",
       "</style>\n",
       "<table border=\"1\" class=\"dataframe\">\n",
       "  <thead>\n",
       "    <tr style=\"text-align: right;\">\n",
       "      <th></th>\n",
       "      <th>LSOA code (2011)</th>\n",
       "      <th>LSOA name (2011)</th>\n",
       "      <th>Index of Multiple Deprivation (IMD) Score</th>\n",
       "      <th>Income Score (rate)</th>\n",
       "      <th>Employment Score (rate)</th>\n",
       "      <th>Education, Skills and Training Score</th>\n",
       "      <th>Health Deprivation and Disability Score</th>\n",
       "      <th>Crime Score</th>\n",
       "      <th>Living Environment Score</th>\n",
       "      <th>Adult Skills Sub-domain Score</th>\n",
       "      <th>Geographical Barriers Sub-domain Score</th>\n",
       "      <th>LSOA11CD</th>\n",
       "      <th>MSOA11CD</th>\n",
       "    </tr>\n",
       "  </thead>\n",
       "  <tbody>\n",
       "    <tr>\n",
       "      <th>0</th>\n",
       "      <td>E01000001</td>\n",
       "      <td>City of London 001A</td>\n",
       "      <td>6.2080</td>\n",
       "      <td>0.0070</td>\n",
       "      <td>0.0100</td>\n",
       "      <td>0.0240</td>\n",
       "      <td>-1.6540</td>\n",
       "      <td>-2.0120</td>\n",
       "      <td>31.8730</td>\n",
       "      <td>0.0320</td>\n",
       "      <td>-0.4300</td>\n",
       "      <td>E01000001</td>\n",
       "      <td>E02000001</td>\n",
       "    </tr>\n",
       "    <tr>\n",
       "      <th>6</th>\n",
       "      <td>E01000002</td>\n",
       "      <td>City of London 001B</td>\n",
       "      <td>5.1430</td>\n",
       "      <td>0.0340</td>\n",
       "      <td>0.0270</td>\n",
       "      <td>0.0630</td>\n",
       "      <td>-1.1150</td>\n",
       "      <td>-2.3430</td>\n",
       "      <td>23.0840</td>\n",
       "      <td>0.0340</td>\n",
       "      <td>-1.0600</td>\n",
       "      <td>E01000002</td>\n",
       "      <td>E02000001</td>\n",
       "    </tr>\n",
       "    <tr>\n",
       "      <th>12</th>\n",
       "      <td>E01000003</td>\n",
       "      <td>City of London 001C</td>\n",
       "      <td>19.4020</td>\n",
       "      <td>0.0860</td>\n",
       "      <td>0.0860</td>\n",
       "      <td>5.8040</td>\n",
       "      <td>-0.1020</td>\n",
       "      <td>-1.0320</td>\n",
       "      <td>40.5350</td>\n",
       "      <td>0.1420</td>\n",
       "      <td>-0.6910</td>\n",
       "      <td>E01000003</td>\n",
       "      <td>E02000001</td>\n",
       "    </tr>\n",
       "    <tr>\n",
       "      <th>19</th>\n",
       "      <td>E01000005</td>\n",
       "      <td>City of London 001E</td>\n",
       "      <td>28.6520</td>\n",
       "      <td>0.2110</td>\n",
       "      <td>0.1360</td>\n",
       "      <td>22.2600</td>\n",
       "      <td>-0.1210</td>\n",
       "      <td>-1.3170</td>\n",
       "      <td>28.9790</td>\n",
       "      <td>0.3210</td>\n",
       "      <td>-1.1670</td>\n",
       "      <td>E01000005</td>\n",
       "      <td>E02000001</td>\n",
       "    </tr>\n",
       "    <tr>\n",
       "      <th>23</th>\n",
       "      <td>E01000006</td>\n",
       "      <td>Barking and Dagenham 016A</td>\n",
       "      <td>19.8370</td>\n",
       "      <td>0.1170</td>\n",
       "      <td>0.0590</td>\n",
       "      <td>14.7980</td>\n",
       "      <td>-0.3590</td>\n",
       "      <td>-0.1470</td>\n",
       "      <td>26.8880</td>\n",
       "      <td>0.3250</td>\n",
       "      <td>-0.4000</td>\n",
       "      <td>E01000006</td>\n",
       "      <td>E02000017</td>\n",
       "    </tr>\n",
       "  </tbody>\n",
       "</table>\n",
       "</div>"
      ],
      "text/plain": [
       "   LSOA code (2011)           LSOA name (2011)  \\\n",
       "0         E01000001        City of London 001A   \n",
       "6         E01000002        City of London 001B   \n",
       "12        E01000003        City of London 001C   \n",
       "19        E01000005        City of London 001E   \n",
       "23        E01000006  Barking and Dagenham 016A   \n",
       "\n",
       "    Index of Multiple Deprivation (IMD) Score  \\\n",
       "0                                      6.2080   \n",
       "6                                      5.1430   \n",
       "12                                    19.4020   \n",
       "19                                    28.6520   \n",
       "23                                    19.8370   \n",
       "\n",
       "                        Income Score (rate)  \\\n",
       "0                                    0.0070   \n",
       "6                                    0.0340   \n",
       "12                                   0.0860   \n",
       "19                                   0.2110   \n",
       "23                                   0.1170   \n",
       "\n",
       "                    Employment Score (rate)  \\\n",
       "0                                    0.0100   \n",
       "6                                    0.0270   \n",
       "12                                   0.0860   \n",
       "19                                   0.1360   \n",
       "23                                   0.0590   \n",
       "\n",
       "       Education, Skills and Training Score  \\\n",
       "0                                    0.0240   \n",
       "6                                    0.0630   \n",
       "12                                   5.8040   \n",
       "19                                  22.2600   \n",
       "23                                  14.7980   \n",
       "\n",
       "    Health Deprivation and Disability Score  \\\n",
       "0                                   -1.6540   \n",
       "6                                   -1.1150   \n",
       "12                                  -0.1020   \n",
       "19                                  -0.1210   \n",
       "23                                  -0.3590   \n",
       "\n",
       "                                Crime Score  \\\n",
       "0                                   -2.0120   \n",
       "6                                   -2.3430   \n",
       "12                                  -1.0320   \n",
       "19                                  -1.3170   \n",
       "23                                  -0.1470   \n",
       "\n",
       "                   Living Environment Score  \\\n",
       "0                                   31.8730   \n",
       "6                                   23.0840   \n",
       "12                                  40.5350   \n",
       "19                                  28.9790   \n",
       "23                                  26.8880   \n",
       "\n",
       "              Adult Skills Sub-domain Score  \\\n",
       "0                                    0.0320   \n",
       "6                                    0.0340   \n",
       "12                                   0.1420   \n",
       "19                                   0.3210   \n",
       "23                                   0.3250   \n",
       "\n",
       "     Geographical Barriers Sub-domain Score   LSOA11CD   MSOA11CD  \n",
       "0                                   -0.4300  E01000001  E02000001  \n",
       "6                                   -1.0600  E01000002  E02000001  \n",
       "12                                  -0.6910  E01000003  E02000001  \n",
       "19                                  -1.1670  E01000005  E02000001  \n",
       "23                                  -0.4000  E01000006  E02000017  "
      ]
     },
     "execution_count": 14,
     "metadata": {},
     "output_type": "execute_result"
    }
   ],
   "source": [
    "df2_1.head()"
   ]
  },
  {
   "cell_type": "code",
   "execution_count": 15,
   "metadata": {},
   "outputs": [
    {
     "data": {
      "text/html": [
       "<div>\n",
       "<style scoped>\n",
       "    .dataframe tbody tr th:only-of-type {\n",
       "        vertical-align: middle;\n",
       "    }\n",
       "\n",
       "    .dataframe tbody tr th {\n",
       "        vertical-align: top;\n",
       "    }\n",
       "\n",
       "    .dataframe thead th {\n",
       "        text-align: right;\n",
       "    }\n",
       "</style>\n",
       "<table border=\"1\" class=\"dataframe\">\n",
       "  <thead>\n",
       "    <tr style=\"text-align: right;\">\n",
       "      <th></th>\n",
       "      <th>areaCode</th>\n",
       "      <th>IMD</th>\n",
       "      <th>Income</th>\n",
       "      <th>Employment</th>\n",
       "      <th>Education</th>\n",
       "      <th>Health</th>\n",
       "      <th>Crime</th>\n",
       "      <th>Living Environment</th>\n",
       "      <th>Adult_skill</th>\n",
       "      <th>Geo</th>\n",
       "    </tr>\n",
       "  </thead>\n",
       "  <tbody>\n",
       "    <tr>\n",
       "      <th>0</th>\n",
       "      <td>E02000001</td>\n",
       "      <td>14.8050</td>\n",
       "      <td>0.0627</td>\n",
       "      <td>0.0508</td>\n",
       "      <td>5.3635</td>\n",
       "      <td>-0.6705</td>\n",
       "      <td>-1.6608</td>\n",
       "      <td>40.3702</td>\n",
       "      <td>0.1042</td>\n",
       "      <td>-0.5520</td>\n",
       "    </tr>\n",
       "    <tr>\n",
       "      <th>1</th>\n",
       "      <td>E02000002</td>\n",
       "      <td>34.5858</td>\n",
       "      <td>0.2133</td>\n",
       "      <td>0.1345</td>\n",
       "      <td>30.4808</td>\n",
       "      <td>0.2555</td>\n",
       "      <td>0.4450</td>\n",
       "      <td>19.8945</td>\n",
       "      <td>0.4017</td>\n",
       "      <td>-0.4652</td>\n",
       "    </tr>\n",
       "    <tr>\n",
       "      <th>2</th>\n",
       "      <td>E02000003</td>\n",
       "      <td>24.8808</td>\n",
       "      <td>0.1398</td>\n",
       "      <td>0.0860</td>\n",
       "      <td>17.6110</td>\n",
       "      <td>-0.0200</td>\n",
       "      <td>0.5238</td>\n",
       "      <td>30.1860</td>\n",
       "      <td>0.3418</td>\n",
       "      <td>-0.7042</td>\n",
       "    </tr>\n",
       "    <tr>\n",
       "      <th>3</th>\n",
       "      <td>E02000004</td>\n",
       "      <td>23.9542</td>\n",
       "      <td>0.1415</td>\n",
       "      <td>0.1003</td>\n",
       "      <td>23.1502</td>\n",
       "      <td>0.0567</td>\n",
       "      <td>0.1327</td>\n",
       "      <td>20.3988</td>\n",
       "      <td>0.3742</td>\n",
       "      <td>-0.2323</td>\n",
       "    </tr>\n",
       "    <tr>\n",
       "      <th>4</th>\n",
       "      <td>E02000005</td>\n",
       "      <td>30.9286</td>\n",
       "      <td>0.1668</td>\n",
       "      <td>0.1106</td>\n",
       "      <td>27.5686</td>\n",
       "      <td>0.1080</td>\n",
       "      <td>0.6244</td>\n",
       "      <td>35.8610</td>\n",
       "      <td>0.4080</td>\n",
       "      <td>-0.9564</td>\n",
       "    </tr>\n",
       "  </tbody>\n",
       "</table>\n",
       "</div>"
      ],
      "text/plain": [
       "    areaCode                                      IMD  \\\n",
       "0  E02000001                                  14.8050   \n",
       "1  E02000002                                  34.5858   \n",
       "2  E02000003                                  24.8808   \n",
       "3  E02000004                                  23.9542   \n",
       "4  E02000005                                  30.9286   \n",
       "\n",
       "                                    Income  \\\n",
       "0                                   0.0627   \n",
       "1                                   0.2133   \n",
       "2                                   0.1398   \n",
       "3                                   0.1415   \n",
       "4                                   0.1668   \n",
       "\n",
       "                                Employment  \\\n",
       "0                                   0.0508   \n",
       "1                                   0.1345   \n",
       "2                                   0.0860   \n",
       "3                                   0.1003   \n",
       "4                                   0.1106   \n",
       "\n",
       "                                 Education  \\\n",
       "0                                   5.3635   \n",
       "1                                  30.4808   \n",
       "2                                  17.6110   \n",
       "3                                  23.1502   \n",
       "4                                  27.5686   \n",
       "\n",
       "                                    Health  \\\n",
       "0                                  -0.6705   \n",
       "1                                   0.2555   \n",
       "2                                  -0.0200   \n",
       "3                                   0.0567   \n",
       "4                                   0.1080   \n",
       "\n",
       "                                     Crime  \\\n",
       "0                                  -1.6608   \n",
       "1                                   0.4450   \n",
       "2                                   0.5238   \n",
       "3                                   0.1327   \n",
       "4                                   0.6244   \n",
       "\n",
       "                        Living Environment  \\\n",
       "0                                  40.3702   \n",
       "1                                  19.8945   \n",
       "2                                  30.1860   \n",
       "3                                  20.3988   \n",
       "4                                  35.8610   \n",
       "\n",
       "                               Adult_skill  \\\n",
       "0                                   0.1042   \n",
       "1                                   0.4017   \n",
       "2                                   0.3418   \n",
       "3                                   0.3742   \n",
       "4                                   0.4080   \n",
       "\n",
       "                                       Geo  \n",
       "0                                  -0.5520  \n",
       "1                                  -0.4652  \n",
       "2                                  -0.7042  \n",
       "3                                  -0.2323  \n",
       "4                                  -0.9564  "
      ]
     },
     "execution_count": 15,
     "metadata": {},
     "output_type": "execute_result"
    }
   ],
   "source": [
    "df2_2 = pd.merge(left=df1_3, right=df2_1, how='left', left_on='areaCode', right_on='MSOA11CD')\n",
    "df2_3 = df2_2.groupby(['areaCode'])['Index of Multiple Deprivation (IMD) Score'].agg(['mean']).reset_index().rename(columns={'mean':'IMD',})\n",
    "df2_4 = df2_2.groupby(['areaCode'])['Income Score (rate)'].agg(['mean']).reset_index().rename(columns={'mean':'Income',})\n",
    "df2_5 = df2_2.groupby(['areaCode'])['Employment Score (rate)'].agg(['mean']).reset_index().rename(columns={'mean':'Employment',})\n",
    "df2_6 = df2_2.groupby(['areaCode'])['Education, Skills and Training Score'].agg(['mean']).reset_index().rename(columns={'mean':'Education',})\n",
    "df2_7 = df2_2.groupby(['areaCode'])['Health Deprivation and Disability Score'].agg(['mean']).reset_index().rename(columns={'mean':'Health',})\n",
    "df2_8 = df2_2.groupby(['areaCode'])['Crime Score'].agg(['mean']).reset_index().rename(columns={'mean':'Crime',})\n",
    "df2_9 = df2_2.groupby(['areaCode'])['Living Environment Score'].agg(['mean']).reset_index().rename(columns={'mean':'Living Environment',})\n",
    "df2_10 = df2_2.groupby(['areaCode'])['Adult Skills Sub-domain Score'].agg(['mean']).reset_index().rename(columns={'mean':'Adult_skill',})\n",
    "df2_11 = df2_2.groupby(['areaCode'])['Geographical Barriers Sub-domain Score'].agg(['mean']).reset_index().rename(columns={'mean':'Geo',})\n",
    "\n",
    "df2_12 = pd.merge(left=df2_3, right=df2_4, how='left', on='areaCode')\n",
    "df2_12 = pd.merge(left=df2_12, right=df2_5, how='left', on='areaCode')\n",
    "df2_12 = pd.merge(left=df2_12, right=df2_6, how='left', on='areaCode')\n",
    "df2_12 = pd.merge(left=df2_12, right=df2_7, how='left', on='areaCode')\n",
    "df2_12 = pd.merge(left=df2_12, right=df2_8, how='left', on='areaCode')\n",
    "df2_12 = pd.merge(left=df2_12, right=df2_9, how='left', on='areaCode')\n",
    "df2_12 = pd.merge(left=df2_12, right=df2_10, how='left', on='areaCode')\n",
    "df2_12 = pd.merge(left=df2_12, right=df2_11, how='left', on='areaCode')\n",
    "df2_12.head()"
   ]
  },
  {
   "cell_type": "code",
   "execution_count": 16,
   "metadata": {},
   "outputs": [
    {
     "name": "stdout",
     "output_type": "stream",
     "text": [
      "<class 'pandas.core.frame.DataFrame'>\n",
      "Int64Index: 984 entries, 0 to 983\n",
      "Data columns (total 10 columns):\n",
      " #   Column              Non-Null Count  Dtype  \n",
      "---  ------              --------------  -----  \n",
      " 0   areaCode            984 non-null    object \n",
      " 1   IMD                 983 non-null    float64\n",
      " 2   Income              983 non-null    float64\n",
      " 3   Employment          983 non-null    float64\n",
      " 4   Education           983 non-null    float64\n",
      " 5   Health              983 non-null    float64\n",
      " 6   Crime               983 non-null    float64\n",
      " 7   Living Environment  983 non-null    float64\n",
      " 8   Adult_skill         983 non-null    float64\n",
      " 9   Geo                 983 non-null    float64\n",
      "dtypes: float64(9), object(1)\n",
      "memory usage: 84.6+ KB\n"
     ]
    }
   ],
   "source": [
    "df2_12.info()"
   ]
  },
  {
   "cell_type": "markdown",
   "metadata": {},
   "source": [
    "### 1.4 Data Summarise"
   ]
  },
  {
   "cell_type": "markdown",
   "metadata": {},
   "source": [
    "Get all datasets of London MSOA level"
   ]
  },
  {
   "cell_type": "code",
   "execution_count": 17,
   "metadata": {},
   "outputs": [
    {
     "data": {
      "text/html": [
       "<div>\n",
       "<style scoped>\n",
       "    .dataframe tbody tr th:only-of-type {\n",
       "        vertical-align: middle;\n",
       "    }\n",
       "\n",
       "    .dataframe tbody tr th {\n",
       "        vertical-align: top;\n",
       "    }\n",
       "\n",
       "    .dataframe thead th {\n",
       "        text-align: right;\n",
       "    }\n",
       "</style>\n",
       "<table border=\"1\" class=\"dataframe\">\n",
       "  <thead>\n",
       "    <tr style=\"text-align: right;\">\n",
       "      <th></th>\n",
       "      <th>areaCode</th>\n",
       "      <th>areaName_x</th>\n",
       "      <th>RollingRate1</th>\n",
       "      <th>RollingRate2</th>\n",
       "      <th>RollingRate3</th>\n",
       "      <th>MSOA Code</th>\n",
       "      <th>areaName_y</th>\n",
       "      <th>Not United Kingdom (%)</th>\n",
       "      <th>Owned: Owned outright (%)</th>\n",
       "      <th>Owned: Owned with a mortgage or loan (%)</th>\n",
       "      <th>...</th>\n",
       "      <th>house price</th>\n",
       "      <th>IMD</th>\n",
       "      <th>Income</th>\n",
       "      <th>Employment</th>\n",
       "      <th>Education</th>\n",
       "      <th>Health</th>\n",
       "      <th>Crime</th>\n",
       "      <th>Living Environment</th>\n",
       "      <th>Adult_skill</th>\n",
       "      <th>Geo</th>\n",
       "    </tr>\n",
       "  </thead>\n",
       "  <tbody>\n",
       "    <tr>\n",
       "      <th>0</th>\n",
       "      <td>E02000001</td>\n",
       "      <td>City of London</td>\n",
       "      <td>133.8000</td>\n",
       "      <td>956.7000</td>\n",
       "      <td>977.2000</td>\n",
       "      <td>E02000001</td>\n",
       "      <td>City of London</td>\n",
       "      <td>36.6780</td>\n",
       "      <td>24.9000</td>\n",
       "      <td>17.4000</td>\n",
       "      <td>...</td>\n",
       "      <td>919,325.0000</td>\n",
       "      <td>14.8050</td>\n",
       "      <td>0.0627</td>\n",
       "      <td>0.0508</td>\n",
       "      <td>5.3635</td>\n",
       "      <td>-0.6705</td>\n",
       "      <td>-1.6608</td>\n",
       "      <td>40.3702</td>\n",
       "      <td>0.1042</td>\n",
       "      <td>-0.5520</td>\n",
       "    </tr>\n",
       "    <tr>\n",
       "      <th>1</th>\n",
       "      <td>E02000002</td>\n",
       "      <td>Marks Gate</td>\n",
       "      <td>142.2000</td>\n",
       "      <td>1,461.0000</td>\n",
       "      <td>2,611.5000</td>\n",
       "      <td>E02000002</td>\n",
       "      <td>Marks Gate</td>\n",
       "      <td>23.8524</td>\n",
       "      <td>22.0000</td>\n",
       "      <td>24.4000</td>\n",
       "      <td>...</td>\n",
       "      <td>350,000.0000</td>\n",
       "      <td>34.5858</td>\n",
       "      <td>0.2133</td>\n",
       "      <td>0.1345</td>\n",
       "      <td>30.4808</td>\n",
       "      <td>0.2555</td>\n",
       "      <td>0.4450</td>\n",
       "      <td>19.8945</td>\n",
       "      <td>0.4017</td>\n",
       "      <td>-0.4652</td>\n",
       "    </tr>\n",
       "    <tr>\n",
       "      <th>2</th>\n",
       "      <td>E02000003</td>\n",
       "      <td>Chadwell Heath East</td>\n",
       "      <td>313.1000</td>\n",
       "      <td>1,458.7000</td>\n",
       "      <td>2,174.7000</td>\n",
       "      <td>E02000003</td>\n",
       "      <td>Chadwell Heath East</td>\n",
       "      <td>28.3922</td>\n",
       "      <td>26.8000</td>\n",
       "      <td>38.4000</td>\n",
       "      <td>...</td>\n",
       "      <td>348,000.0000</td>\n",
       "      <td>24.8808</td>\n",
       "      <td>0.1398</td>\n",
       "      <td>0.0860</td>\n",
       "      <td>17.6110</td>\n",
       "      <td>-0.0200</td>\n",
       "      <td>0.5238</td>\n",
       "      <td>30.1860</td>\n",
       "      <td>0.3418</td>\n",
       "      <td>-0.7042</td>\n",
       "    </tr>\n",
       "    <tr>\n",
       "      <th>3</th>\n",
       "      <td>E02000004</td>\n",
       "      <td>Eastbrookend</td>\n",
       "      <td>508.5000</td>\n",
       "      <td>1,271.0000</td>\n",
       "      <td>2,482.5000</td>\n",
       "      <td>E02000004</td>\n",
       "      <td>Eastbrookend</td>\n",
       "      <td>14.3966</td>\n",
       "      <td>31.0000</td>\n",
       "      <td>41.8000</td>\n",
       "      <td>...</td>\n",
       "      <td>350,000.0000</td>\n",
       "      <td>23.9542</td>\n",
       "      <td>0.1415</td>\n",
       "      <td>0.1003</td>\n",
       "      <td>23.1502</td>\n",
       "      <td>0.0567</td>\n",
       "      <td>0.1327</td>\n",
       "      <td>20.3988</td>\n",
       "      <td>0.3742</td>\n",
       "      <td>-0.2323</td>\n",
       "    </tr>\n",
       "    <tr>\n",
       "      <th>4</th>\n",
       "      <td>E02000005</td>\n",
       "      <td>Becontree Heath</td>\n",
       "      <td>210.9000</td>\n",
       "      <td>1,207.8000</td>\n",
       "      <td>2,339.0000</td>\n",
       "      <td>E02000005</td>\n",
       "      <td>Becontree Heath</td>\n",
       "      <td>24.9591</td>\n",
       "      <td>22.3000</td>\n",
       "      <td>36.0000</td>\n",
       "      <td>...</td>\n",
       "      <td>330,000.0000</td>\n",
       "      <td>30.9286</td>\n",
       "      <td>0.1668</td>\n",
       "      <td>0.1106</td>\n",
       "      <td>27.5686</td>\n",
       "      <td>0.1080</td>\n",
       "      <td>0.6244</td>\n",
       "      <td>35.8610</td>\n",
       "      <td>0.4080</td>\n",
       "      <td>-0.9564</td>\n",
       "    </tr>\n",
       "  </tbody>\n",
       "</table>\n",
       "<p>5 rows × 28 columns</p>\n",
       "</div>"
      ],
      "text/plain": [
       "    areaCode           areaName_x                             RollingRate1  \\\n",
       "0  E02000001       City of London                                 133.8000   \n",
       "1  E02000002           Marks Gate                                 142.2000   \n",
       "2  E02000003  Chadwell Heath East                                 313.1000   \n",
       "3  E02000004         Eastbrookend                                 508.5000   \n",
       "4  E02000005      Becontree Heath                                 210.9000   \n",
       "\n",
       "                              RollingRate2  \\\n",
       "0                                 956.7000   \n",
       "1                               1,461.0000   \n",
       "2                               1,458.7000   \n",
       "3                               1,271.0000   \n",
       "4                               1,207.8000   \n",
       "\n",
       "                              RollingRate3  MSOA Code           areaName_y  \\\n",
       "0                                 977.2000  E02000001       City of London   \n",
       "1                               2,611.5000  E02000002           Marks Gate   \n",
       "2                               2,174.7000  E02000003  Chadwell Heath East   \n",
       "3                               2,482.5000  E02000004         Eastbrookend   \n",
       "4                               2,339.0000  E02000005      Becontree Heath   \n",
       "\n",
       "                    Not United Kingdom (%)  \\\n",
       "0                                  36.6780   \n",
       "1                                  23.8524   \n",
       "2                                  28.3922   \n",
       "3                                  14.3966   \n",
       "4                                  24.9591   \n",
       "\n",
       "                 Owned: Owned outright (%)  \\\n",
       "0                                  24.9000   \n",
       "1                                  22.0000   \n",
       "2                                  26.8000   \n",
       "3                                  31.0000   \n",
       "4                                  22.3000   \n",
       "\n",
       "   Owned: Owned with a mortgage or loan (%)  ...  \\\n",
       "0                                   17.4000  ...   \n",
       "1                                   24.4000  ...   \n",
       "2                                   38.4000  ...   \n",
       "3                                   41.8000  ...   \n",
       "4                                   36.0000  ...   \n",
       "\n",
       "                               house price  \\\n",
       "0                             919,325.0000   \n",
       "1                             350,000.0000   \n",
       "2                             348,000.0000   \n",
       "3                             350,000.0000   \n",
       "4                             330,000.0000   \n",
       "\n",
       "                                       IMD  \\\n",
       "0                                  14.8050   \n",
       "1                                  34.5858   \n",
       "2                                  24.8808   \n",
       "3                                  23.9542   \n",
       "4                                  30.9286   \n",
       "\n",
       "                                    Income  \\\n",
       "0                                   0.0627   \n",
       "1                                   0.2133   \n",
       "2                                   0.1398   \n",
       "3                                   0.1415   \n",
       "4                                   0.1668   \n",
       "\n",
       "                                Employment  \\\n",
       "0                                   0.0508   \n",
       "1                                   0.1345   \n",
       "2                                   0.0860   \n",
       "3                                   0.1003   \n",
       "4                                   0.1106   \n",
       "\n",
       "                                 Education  \\\n",
       "0                                   5.3635   \n",
       "1                                  30.4808   \n",
       "2                                  17.6110   \n",
       "3                                  23.1502   \n",
       "4                                  27.5686   \n",
       "\n",
       "                                    Health  \\\n",
       "0                                  -0.6705   \n",
       "1                                   0.2555   \n",
       "2                                  -0.0200   \n",
       "3                                   0.0567   \n",
       "4                                   0.1080   \n",
       "\n",
       "                                     Crime  \\\n",
       "0                                  -1.6608   \n",
       "1                                   0.4450   \n",
       "2                                   0.5238   \n",
       "3                                   0.1327   \n",
       "4                                   0.6244   \n",
       "\n",
       "                        Living Environment  \\\n",
       "0                                  40.3702   \n",
       "1                                  19.8945   \n",
       "2                                  30.1860   \n",
       "3                                  20.3988   \n",
       "4                                  35.8610   \n",
       "\n",
       "                               Adult_skill  \\\n",
       "0                                   0.1042   \n",
       "1                                   0.4017   \n",
       "2                                   0.3418   \n",
       "3                                   0.3742   \n",
       "4                                   0.4080   \n",
       "\n",
       "                                       Geo  \n",
       "0                                  -0.5520  \n",
       "1                                  -0.4652  \n",
       "2                                  -0.7042  \n",
       "3                                  -0.2323  \n",
       "4                                  -0.9564  \n",
       "\n",
       "[5 rows x 28 columns]"
      ]
     },
     "execution_count": 17,
     "metadata": {},
     "output_type": "execute_result"
    }
   ],
   "source": [
    "df3_1 = pd.merge(left=df1_3, right=df2_12, how='left', on='areaCode')\n",
    "df3_1.head()"
   ]
  },
  {
   "cell_type": "code",
   "execution_count": 18,
   "metadata": {},
   "outputs": [
    {
     "name": "stdout",
     "output_type": "stream",
     "text": [
      "<class 'pandas.core.frame.DataFrame'>\n",
      "Int64Index: 984 entries, 0 to 983\n",
      "Data columns (total 23 columns):\n",
      " #   Column                                        Non-Null Count  Dtype  \n",
      "---  ------                                        --------------  -----  \n",
      " 0   MSOA Code                                     984 non-null    object \n",
      " 1   RollingRate1                                  973 non-null    float64\n",
      " 2   RollingRate2                                  984 non-null    float64\n",
      " 3   RollingRate3                                  984 non-null    float64\n",
      " 4   Not United Kingdom (%)                        983 non-null    float64\n",
      " 5   Owned: Owned outright (%)                     983 non-null    float64\n",
      " 6   Owned: Owned with a mortgage or loan (%)      983 non-null    float64\n",
      " 7   Social rented (%)                             983 non-null    float64\n",
      " 8   Private rented (%)                            983 non-null    float64\n",
      " 9   Household spaces with no usual residents (%)  983 non-null    float64\n",
      " 10  population_density                            983 non-null    float64\n",
      " 11  population_prop_over65                        983 non-null    float64\n",
      " 12  all_bame_prop                                 983 non-null    float64\n",
      " 13  house price                                   983 non-null    float64\n",
      " 14  IMD                                           983 non-null    float64\n",
      " 15  Income                                        983 non-null    float64\n",
      " 16  Employment                                    983 non-null    float64\n",
      " 17  Education                                     983 non-null    float64\n",
      " 18  Health                                        983 non-null    float64\n",
      " 19  Crime                                         983 non-null    float64\n",
      " 20  Living Environment                            983 non-null    float64\n",
      " 21  Adult_skill                                   983 non-null    float64\n",
      " 22  Geo                                           983 non-null    float64\n",
      "dtypes: float64(22), object(1)\n",
      "memory usage: 184.5+ KB\n"
     ]
    }
   ],
   "source": [
    "covid = df3_1.drop(columns=['areaName_x','MSOA Code','areaName_y','MSOA11CD','MSOA code'], axis=1)\n",
    "covid = covid.rename(columns={\"areaCode\":\"MSOA Code\"})\n",
    "covid.info()"
   ]
  },
  {
   "cell_type": "code",
   "execution_count": 19,
   "metadata": {},
   "outputs": [],
   "source": [
    "covid.to_csv(r\"C:\\Users\\HUAWEI\\Desktop\\Dissertation\\final_output.csv\",encoding=\"utf-8\")"
   ]
  },
  {
   "cell_type": "code",
   "execution_count": 20,
   "metadata": {},
   "outputs": [],
   "source": [
    "covid = \"https://raw.githubusercontent.com/Audrey-chenxi/CASA_Dissertation_Chenxi-Zhao/main/Data/data_total.csv\"\n",
    "covid = pd.read_csv(covid, low_memory=False,encoding='gb18030')"
   ]
  },
  {
   "cell_type": "code",
   "execution_count": 21,
   "metadata": {},
   "outputs": [
    {
     "name": "stdout",
     "output_type": "stream",
     "text": [
      "<class 'pandas.core.frame.DataFrame'>\n",
      "RangeIndex: 984 entries, 0 to 983\n",
      "Data columns (total 23 columns):\n",
      " #   Column       Non-Null Count  Dtype  \n",
      "---  ------       --------------  -----  \n",
      " 0   MSOA Code    984 non-null    object \n",
      " 1   Cases1       973 non-null    float64\n",
      " 2   Cases2       984 non-null    float64\n",
      " 3   Cases3       984 non-null    float64\n",
      " 4   NUK          983 non-null    float64\n",
      " 5   O65          983 non-null    float64\n",
      " 6   Bame         983 non-null    float64\n",
      " 7   Income       983 non-null    float64\n",
      " 8   HP           983 non-null    float64\n",
      " 9   OO           983 non-null    float64\n",
      " 10  OML          983 non-null    float64\n",
      " 11  SR           983 non-null    float64\n",
      " 12  PR           983 non-null    float64\n",
      " 13  NP           983 non-null    float64\n",
      " 14  Geo          983 non-null    float64\n",
      " 15  Density      983 non-null    float64\n",
      " 16  IMD          983 non-null    float64\n",
      " 17  Health       983 non-null    float64\n",
      " 18  AS           983 non-null    float64\n",
      " 19  Employment   983 non-null    float64\n",
      " 20  Education    983 non-null    float64\n",
      " 21  Crime        983 non-null    float64\n",
      " 22  Environment  983 non-null    float64\n",
      "dtypes: float64(22), object(1)\n",
      "memory usage: 176.9+ KB\n"
     ]
    }
   ],
   "source": [
    "covid.info()  "
   ]
  },
  {
   "cell_type": "code",
   "execution_count": 22,
   "metadata": {},
   "outputs": [],
   "source": [
    "list1 = covid.describe()"
   ]
  },
  {
   "cell_type": "code",
   "execution_count": 23,
   "metadata": {},
   "outputs": [
    {
     "data": {
      "text/html": [
       "<style  type=\"text/css\" >\n",
       "</style><table id=\"T_10ca4608_0419_11ec_b868_f8e4e3523473\" ><thead>    <tr>        <th class=\"blank level0\" ></th>        <th class=\"col_heading level0 col0\" >Cases1</th>        <th class=\"col_heading level0 col1\" >Cases2</th>        <th class=\"col_heading level0 col2\" >Cases3</th>        <th class=\"col_heading level0 col3\" >NUK</th>        <th class=\"col_heading level0 col4\" >O65</th>        <th class=\"col_heading level0 col5\" >Bame</th>        <th class=\"col_heading level0 col6\" >Income</th>        <th class=\"col_heading level0 col7\" >HP</th>        <th class=\"col_heading level0 col8\" >OO</th>        <th class=\"col_heading level0 col9\" >OML</th>        <th class=\"col_heading level0 col10\" >SR</th>        <th class=\"col_heading level0 col11\" >PR</th>        <th class=\"col_heading level0 col12\" >NP</th>        <th class=\"col_heading level0 col13\" >Geo</th>        <th class=\"col_heading level0 col14\" >Density</th>        <th class=\"col_heading level0 col15\" >IMD</th>        <th class=\"col_heading level0 col16\" >Health</th>        <th class=\"col_heading level0 col17\" >AS</th>        <th class=\"col_heading level0 col18\" >Employment</th>        <th class=\"col_heading level0 col19\" >Education</th>        <th class=\"col_heading level0 col20\" >Crime</th>        <th class=\"col_heading level0 col21\" >Environment</th>    </tr></thead><tbody>\n",
       "                <tr>\n",
       "                        <th id=\"T_10ca4608_0419_11ec_b868_f8e4e3523473level0_row0\" class=\"row_heading level0 row0\" >count</th>\n",
       "                        <td id=\"T_10ca4608_0419_11ec_b868_f8e4e3523473row0_col0\" class=\"data row0 col0\" >973.000000</td>\n",
       "                        <td id=\"T_10ca4608_0419_11ec_b868_f8e4e3523473row0_col1\" class=\"data row0 col1\" >984.000000</td>\n",
       "                        <td id=\"T_10ca4608_0419_11ec_b868_f8e4e3523473row0_col2\" class=\"data row0 col2\" >984.000000</td>\n",
       "                        <td id=\"T_10ca4608_0419_11ec_b868_f8e4e3523473row0_col3\" class=\"data row0 col3\" >983.000000</td>\n",
       "                        <td id=\"T_10ca4608_0419_11ec_b868_f8e4e3523473row0_col4\" class=\"data row0 col4\" >983.000000</td>\n",
       "                        <td id=\"T_10ca4608_0419_11ec_b868_f8e4e3523473row0_col5\" class=\"data row0 col5\" >983.000000</td>\n",
       "                        <td id=\"T_10ca4608_0419_11ec_b868_f8e4e3523473row0_col6\" class=\"data row0 col6\" >983.000000</td>\n",
       "                        <td id=\"T_10ca4608_0419_11ec_b868_f8e4e3523473row0_col7\" class=\"data row0 col7\" >983.000000</td>\n",
       "                        <td id=\"T_10ca4608_0419_11ec_b868_f8e4e3523473row0_col8\" class=\"data row0 col8\" >983.000000</td>\n",
       "                        <td id=\"T_10ca4608_0419_11ec_b868_f8e4e3523473row0_col9\" class=\"data row0 col9\" >983.000000</td>\n",
       "                        <td id=\"T_10ca4608_0419_11ec_b868_f8e4e3523473row0_col10\" class=\"data row0 col10\" >983.000000</td>\n",
       "                        <td id=\"T_10ca4608_0419_11ec_b868_f8e4e3523473row0_col11\" class=\"data row0 col11\" >983.000000</td>\n",
       "                        <td id=\"T_10ca4608_0419_11ec_b868_f8e4e3523473row0_col12\" class=\"data row0 col12\" >983.000000</td>\n",
       "                        <td id=\"T_10ca4608_0419_11ec_b868_f8e4e3523473row0_col13\" class=\"data row0 col13\" >983.000000</td>\n",
       "                        <td id=\"T_10ca4608_0419_11ec_b868_f8e4e3523473row0_col14\" class=\"data row0 col14\" >983.000000</td>\n",
       "                        <td id=\"T_10ca4608_0419_11ec_b868_f8e4e3523473row0_col15\" class=\"data row0 col15\" >983.000000</td>\n",
       "                        <td id=\"T_10ca4608_0419_11ec_b868_f8e4e3523473row0_col16\" class=\"data row0 col16\" >983.000000</td>\n",
       "                        <td id=\"T_10ca4608_0419_11ec_b868_f8e4e3523473row0_col17\" class=\"data row0 col17\" >983.000000</td>\n",
       "                        <td id=\"T_10ca4608_0419_11ec_b868_f8e4e3523473row0_col18\" class=\"data row0 col18\" >983.000000</td>\n",
       "                        <td id=\"T_10ca4608_0419_11ec_b868_f8e4e3523473row0_col19\" class=\"data row0 col19\" >983.000000</td>\n",
       "                        <td id=\"T_10ca4608_0419_11ec_b868_f8e4e3523473row0_col20\" class=\"data row0 col20\" >983.000000</td>\n",
       "                        <td id=\"T_10ca4608_0419_11ec_b868_f8e4e3523473row0_col21\" class=\"data row0 col21\" >983.000000</td>\n",
       "            </tr>\n",
       "            <tr>\n",
       "                        <th id=\"T_10ca4608_0419_11ec_b868_f8e4e3523473level0_row1\" class=\"row_heading level0 row1\" >mean</th>\n",
       "                        <td id=\"T_10ca4608_0419_11ec_b868_f8e4e3523473row1_col0\" class=\"data row1 col0\" >578.856526</td>\n",
       "                        <td id=\"T_10ca4608_0419_11ec_b868_f8e4e3523473row1_col1\" class=\"data row1 col1\" >2072.899187</td>\n",
       "                        <td id=\"T_10ca4608_0419_11ec_b868_f8e4e3523473row1_col2\" class=\"data row1 col2\" >3163.747154</td>\n",
       "                        <td id=\"T_10ca4608_0419_11ec_b868_f8e4e3523473row1_col3\" class=\"data row1 col3\" >36.208990</td>\n",
       "                        <td id=\"T_10ca4608_0419_11ec_b868_f8e4e3523473row1_col4\" class=\"data row1 col4\" >0.124440</td>\n",
       "                        <td id=\"T_10ca4608_0419_11ec_b868_f8e4e3523473row1_col5\" class=\"data row1 col5\" >0.394199</td>\n",
       "                        <td id=\"T_10ca4608_0419_11ec_b868_f8e4e3523473row1_col6\" class=\"data row1 col6\" >0.136652</td>\n",
       "                        <td id=\"T_10ca4608_0419_11ec_b868_f8e4e3523473row1_col7\" class=\"data row1 col7\" >526463.372330</td>\n",
       "                        <td id=\"T_10ca4608_0419_11ec_b868_f8e4e3523473row1_col8\" class=\"data row1 col8\" >21.675992</td>\n",
       "                        <td id=\"T_10ca4608_0419_11ec_b868_f8e4e3523473row1_col9\" class=\"data row1 col9\" >27.660732</td>\n",
       "                        <td id=\"T_10ca4608_0419_11ec_b868_f8e4e3523473row1_col10\" class=\"data row1 col10\" >23.683825</td>\n",
       "                        <td id=\"T_10ca4608_0419_11ec_b868_f8e4e3523473row1_col11\" class=\"data row1 col11\" >24.441200</td>\n",
       "                        <td id=\"T_10ca4608_0419_11ec_b868_f8e4e3523473row1_col12\" class=\"data row1 col12\" >3.324008</td>\n",
       "                        <td id=\"T_10ca4608_0419_11ec_b868_f8e4e3523473row1_col13\" class=\"data row1 col13\" >-0.596484</td>\n",
       "                        <td id=\"T_10ca4608_0419_11ec_b868_f8e4e3523473row1_col14\" class=\"data row1 col14\" >91.545065</td>\n",
       "                        <td id=\"T_10ca4608_0419_11ec_b868_f8e4e3523473row1_col15\" class=\"data row1 col15\" >21.563737</td>\n",
       "                        <td id=\"T_10ca4608_0419_11ec_b868_f8e4e3523473row1_col16\" class=\"data row1 col16\" >-0.380586</td>\n",
       "                        <td id=\"T_10ca4608_0419_11ec_b868_f8e4e3523473row1_col17\" class=\"data row1 col17\" >0.260945</td>\n",
       "                        <td id=\"T_10ca4608_0419_11ec_b868_f8e4e3523473row1_col18\" class=\"data row1 col18\" >0.087655</td>\n",
       "                        <td id=\"T_10ca4608_0419_11ec_b868_f8e4e3523473row1_col19\" class=\"data row1 col19\" >13.101196</td>\n",
       "                        <td id=\"T_10ca4608_0419_11ec_b868_f8e4e3523473row1_col20\" class=\"data row1 col20\" >0.261231</td>\n",
       "                        <td id=\"T_10ca4608_0419_11ec_b868_f8e4e3523473row1_col21\" class=\"data row1 col21\" >29.180563</td>\n",
       "            </tr>\n",
       "            <tr>\n",
       "                        <th id=\"T_10ca4608_0419_11ec_b868_f8e4e3523473level0_row2\" class=\"row_heading level0 row2\" >std</th>\n",
       "                        <td id=\"T_10ca4608_0419_11ec_b868_f8e4e3523473row2_col0\" class=\"data row2 col0\" >9020.141876</td>\n",
       "                        <td id=\"T_10ca4608_0419_11ec_b868_f8e4e3523473row2_col1\" class=\"data row2 col1\" >32480.706531</td>\n",
       "                        <td id=\"T_10ca4608_0419_11ec_b868_f8e4e3523473row2_col2\" class=\"data row2 col2\" >49572.993751</td>\n",
       "                        <td id=\"T_10ca4608_0419_11ec_b868_f8e4e3523473row2_col3\" class=\"data row2 col3\" >13.833528</td>\n",
       "                        <td id=\"T_10ca4608_0419_11ec_b868_f8e4e3523473row2_col4\" class=\"data row2 col4\" >0.045470</td>\n",
       "                        <td id=\"T_10ca4608_0419_11ec_b868_f8e4e3523473row2_col5\" class=\"data row2 col5\" >0.193102</td>\n",
       "                        <td id=\"T_10ca4608_0419_11ec_b868_f8e4e3523473row2_col6\" class=\"data row2 col6\" >0.062788</td>\n",
       "                        <td id=\"T_10ca4608_0419_11ec_b868_f8e4e3523473row2_col7\" class=\"data row2 col7\" >243318.407435</td>\n",
       "                        <td id=\"T_10ca4608_0419_11ec_b868_f8e4e3523473row2_col8\" class=\"data row2 col8\" >10.911392</td>\n",
       "                        <td id=\"T_10ca4608_0419_11ec_b868_f8e4e3523473row2_col9\" class=\"data row2 col9\" >10.222829</td>\n",
       "                        <td id=\"T_10ca4608_0419_11ec_b868_f8e4e3523473row2_col10\" class=\"data row2 col10\" >16.554995</td>\n",
       "                        <td id=\"T_10ca4608_0419_11ec_b868_f8e4e3523473row2_col11\" class=\"data row2 col11\" >10.620688</td>\n",
       "                        <td id=\"T_10ca4608_0419_11ec_b868_f8e4e3523473row2_col12\" class=\"data row2 col12\" >2.766179</td>\n",
       "                        <td id=\"T_10ca4608_0419_11ec_b868_f8e4e3523473row2_col13\" class=\"data row2 col13\" >0.491998</td>\n",
       "                        <td id=\"T_10ca4608_0419_11ec_b868_f8e4e3523473row2_col14\" class=\"data row2 col14\" >54.143303</td>\n",
       "                        <td id=\"T_10ca4608_0419_11ec_b868_f8e4e3523473row2_col15\" class=\"data row2 col15\" >9.453347</td>\n",
       "                        <td id=\"T_10ca4608_0419_11ec_b868_f8e4e3523473row2_col16\" class=\"data row2 col16\" >0.602004</td>\n",
       "                        <td id=\"T_10ca4608_0419_11ec_b868_f8e4e3523473row2_col17\" class=\"data row2 col17\" >0.096556</td>\n",
       "                        <td id=\"T_10ca4608_0419_11ec_b868_f8e4e3523473row2_col18\" class=\"data row2 col18\" >0.037320</td>\n",
       "                        <td id=\"T_10ca4608_0419_11ec_b868_f8e4e3523473row2_col19\" class=\"data row2 col19\" >8.717724</td>\n",
       "                        <td id=\"T_10ca4608_0419_11ec_b868_f8e4e3523473row2_col20\" class=\"data row2 col20\" >0.444570</td>\n",
       "                        <td id=\"T_10ca4608_0419_11ec_b868_f8e4e3523473row2_col21\" class=\"data row2 col21\" >9.023463</td>\n",
       "            </tr>\n",
       "            <tr>\n",
       "                        <th id=\"T_10ca4608_0419_11ec_b868_f8e4e3523473level0_row3\" class=\"row_heading level0 row3\" >min</th>\n",
       "                        <td id=\"T_10ca4608_0419_11ec_b868_f8e4e3523473row3_col0\" class=\"data row3 col0\" >33.700000</td>\n",
       "                        <td id=\"T_10ca4608_0419_11ec_b868_f8e4e3523473row3_col1\" class=\"data row3 col1\" >388.200000</td>\n",
       "                        <td id=\"T_10ca4608_0419_11ec_b868_f8e4e3523473row3_col2\" class=\"data row3 col2\" >503.400000</td>\n",
       "                        <td id=\"T_10ca4608_0419_11ec_b868_f8e4e3523473row3_col3\" class=\"data row3 col3\" >4.386077</td>\n",
       "                        <td id=\"T_10ca4608_0419_11ec_b868_f8e4e3523473row3_col4\" class=\"data row3 col4\" >0.024969</td>\n",
       "                        <td id=\"T_10ca4608_0419_11ec_b868_f8e4e3523473row3_col5\" class=\"data row3 col5\" >0.038123</td>\n",
       "                        <td id=\"T_10ca4608_0419_11ec_b868_f8e4e3523473row3_col6\" class=\"data row3 col6\" >0.009667</td>\n",
       "                        <td id=\"T_10ca4608_0419_11ec_b868_f8e4e3523473row3_col7\" class=\"data row3 col7\" >214000.000000</td>\n",
       "                        <td id=\"T_10ca4608_0419_11ec_b868_f8e4e3523473row3_col8\" class=\"data row3 col8\" >2.200000</td>\n",
       "                        <td id=\"T_10ca4608_0419_11ec_b868_f8e4e3523473row3_col9\" class=\"data row3 col9\" >5.900000</td>\n",
       "                        <td id=\"T_10ca4608_0419_11ec_b868_f8e4e3523473row3_col10\" class=\"data row3 col10\" >0.500000</td>\n",
       "                        <td id=\"T_10ca4608_0419_11ec_b868_f8e4e3523473row3_col11\" class=\"data row3 col11\" >3.400000</td>\n",
       "                        <td id=\"T_10ca4608_0419_11ec_b868_f8e4e3523473row3_col12\" class=\"data row3 col12\" >0.500000</td>\n",
       "                        <td id=\"T_10ca4608_0419_11ec_b868_f8e4e3523473row3_col13\" class=\"data row3 col13\" >-2.037800</td>\n",
       "                        <td id=\"T_10ca4608_0419_11ec_b868_f8e4e3523473row3_col14\" class=\"data row3 col14\" >2.894338</td>\n",
       "                        <td id=\"T_10ca4608_0419_11ec_b868_f8e4e3523473row3_col15\" class=\"data row3 col15\" >4.062400</td>\n",
       "                        <td id=\"T_10ca4608_0419_11ec_b868_f8e4e3523473row3_col16\" class=\"data row3 col16\" >-3.044600</td>\n",
       "                        <td id=\"T_10ca4608_0419_11ec_b868_f8e4e3523473row3_col17\" class=\"data row3 col17\" >0.051200</td>\n",
       "                        <td id=\"T_10ca4608_0419_11ec_b868_f8e4e3523473row3_col18\" class=\"data row3 col18\" >0.006000</td>\n",
       "                        <td id=\"T_10ca4608_0419_11ec_b868_f8e4e3523473row3_col19\" class=\"data row3 col19\" >0.207000</td>\n",
       "                        <td id=\"T_10ca4608_0419_11ec_b868_f8e4e3523473row3_col20\" class=\"data row3 col20\" >-1.660833</td>\n",
       "                        <td id=\"T_10ca4608_0419_11ec_b868_f8e4e3523473row3_col21\" class=\"data row3 col21\" >7.660200</td>\n",
       "            </tr>\n",
       "            <tr>\n",
       "                        <th id=\"T_10ca4608_0419_11ec_b868_f8e4e3523473level0_row4\" class=\"row_heading level0 row4\" >25%</th>\n",
       "                        <td id=\"T_10ca4608_0419_11ec_b868_f8e4e3523473row4_col0\" class=\"data row4 col0\" >183.400000</td>\n",
       "                        <td id=\"T_10ca4608_0419_11ec_b868_f8e4e3523473row4_col1\" class=\"data row4 col1\" >802.525000</td>\n",
       "                        <td id=\"T_10ca4608_0419_11ec_b868_f8e4e3523473row4_col2\" class=\"data row4 col2\" >1264.425000</td>\n",
       "                        <td id=\"T_10ca4608_0419_11ec_b868_f8e4e3523473row4_col3\" class=\"data row4 col3\" >26.975788</td>\n",
       "                        <td id=\"T_10ca4608_0419_11ec_b868_f8e4e3523473row4_col4\" class=\"data row4 col4\" >0.091093</td>\n",
       "                        <td id=\"T_10ca4608_0419_11ec_b868_f8e4e3523473row4_col5\" class=\"data row4 col5\" >0.237144</td>\n",
       "                        <td id=\"T_10ca4608_0419_11ec_b868_f8e4e3523473row4_col6\" class=\"data row4 col6\" >0.085517</td>\n",
       "                        <td id=\"T_10ca4608_0419_11ec_b868_f8e4e3523473row4_col7\" class=\"data row4 col7\" >384375.000000</td>\n",
       "                        <td id=\"T_10ca4608_0419_11ec_b868_f8e4e3523473row4_col8\" class=\"data row4 col8\" >13.000000</td>\n",
       "                        <td id=\"T_10ca4608_0419_11ec_b868_f8e4e3523473row4_col9\" class=\"data row4 col9\" >19.500000</td>\n",
       "                        <td id=\"T_10ca4608_0419_11ec_b868_f8e4e3523473row4_col10\" class=\"data row4 col10\" >10.450000</td>\n",
       "                        <td id=\"T_10ca4608_0419_11ec_b868_f8e4e3523473row4_col11\" class=\"data row4 col11\" >16.400000</td>\n",
       "                        <td id=\"T_10ca4608_0419_11ec_b868_f8e4e3523473row4_col12\" class=\"data row4 col12\" >1.900000</td>\n",
       "                        <td id=\"T_10ca4608_0419_11ec_b868_f8e4e3523473row4_col13\" class=\"data row4 col13\" >-0.951050</td>\n",
       "                        <td id=\"T_10ca4608_0419_11ec_b868_f8e4e3523473row4_col14\" class=\"data row4 col14\" >50.205459</td>\n",
       "                        <td id=\"T_10ca4608_0419_11ec_b868_f8e4e3523473row4_col15\" class=\"data row4 col15\" >13.746804</td>\n",
       "                        <td id=\"T_10ca4608_0419_11ec_b868_f8e4e3523473row4_col16\" class=\"data row4 col16\" >-0.776300</td>\n",
       "                        <td id=\"T_10ca4608_0419_11ec_b868_f8e4e3523473row4_col17\" class=\"data row4 col17\" >0.190675</td>\n",
       "                        <td id=\"T_10ca4608_0419_11ec_b868_f8e4e3523473row4_col18\" class=\"data row4 col18\" >0.059425</td>\n",
       "                        <td id=\"T_10ca4608_0419_11ec_b868_f8e4e3523473row4_col19\" class=\"data row4 col19\" >6.195500</td>\n",
       "                        <td id=\"T_10ca4608_0419_11ec_b868_f8e4e3523473row4_col20\" class=\"data row4 col20\" >-0.032650</td>\n",
       "                        <td id=\"T_10ca4608_0419_11ec_b868_f8e4e3523473row4_col21\" class=\"data row4 col21\" >22.821792</td>\n",
       "            </tr>\n",
       "            <tr>\n",
       "                        <th id=\"T_10ca4608_0419_11ec_b868_f8e4e3523473level0_row5\" class=\"row_heading level0 row5\" >50%</th>\n",
       "                        <td id=\"T_10ca4608_0419_11ec_b868_f8e4e3523473row5_col0\" class=\"data row5 col0\" >265.300000</td>\n",
       "                        <td id=\"T_10ca4608_0419_11ec_b868_f8e4e3523473row5_col1\" class=\"data row5 col1\" >1001.300000</td>\n",
       "                        <td id=\"T_10ca4608_0419_11ec_b868_f8e4e3523473row5_col2\" class=\"data row5 col2\" >1535.100000</td>\n",
       "                        <td id=\"T_10ca4608_0419_11ec_b868_f8e4e3523473row5_col3\" class=\"data row5 col3\" >37.167989</td>\n",
       "                        <td id=\"T_10ca4608_0419_11ec_b868_f8e4e3523473row5_col4\" class=\"data row5 col4\" >0.116129</td>\n",
       "                        <td id=\"T_10ca4608_0419_11ec_b868_f8e4e3523473row5_col5\" class=\"data row5 col5\" >0.373469</td>\n",
       "                        <td id=\"T_10ca4608_0419_11ec_b868_f8e4e3523473row5_col6\" class=\"data row5 col6\" >0.131400</td>\n",
       "                        <td id=\"T_10ca4608_0419_11ec_b868_f8e4e3523473row5_col7\" class=\"data row5 col7\" >465000.000000</td>\n",
       "                        <td id=\"T_10ca4608_0419_11ec_b868_f8e4e3523473row5_col8\" class=\"data row5 col8\" >20.600000</td>\n",
       "                        <td id=\"T_10ca4608_0419_11ec_b868_f8e4e3523473row5_col9\" class=\"data row5 col9\" >28.300000</td>\n",
       "                        <td id=\"T_10ca4608_0419_11ec_b868_f8e4e3523473row5_col10\" class=\"data row5 col10\" >19.900000</td>\n",
       "                        <td id=\"T_10ca4608_0419_11ec_b868_f8e4e3523473row5_col11\" class=\"data row5 col11\" >24.300000</td>\n",
       "                        <td id=\"T_10ca4608_0419_11ec_b868_f8e4e3523473row5_col12\" class=\"data row5 col12\" >2.500000</td>\n",
       "                        <td id=\"T_10ca4608_0419_11ec_b868_f8e4e3523473row5_col13\" class=\"data row5 col13\" >-0.608000</td>\n",
       "                        <td id=\"T_10ca4608_0419_11ec_b868_f8e4e3523473row5_col14\" class=\"data row5 col14\" >79.845261</td>\n",
       "                        <td id=\"T_10ca4608_0419_11ec_b868_f8e4e3523473row5_col15\" class=\"data row5 col15\" >21.198167</td>\n",
       "                        <td id=\"T_10ca4608_0419_11ec_b868_f8e4e3523473row5_col16\" class=\"data row5 col16\" >-0.292200</td>\n",
       "                        <td id=\"T_10ca4608_0419_11ec_b868_f8e4e3523473row5_col17\" class=\"data row5 col17\" >0.264800</td>\n",
       "                        <td id=\"T_10ca4608_0419_11ec_b868_f8e4e3523473row5_col18\" class=\"data row5 col18\" >0.083000</td>\n",
       "                        <td id=\"T_10ca4608_0419_11ec_b868_f8e4e3523473row5_col19\" class=\"data row5 col19\" >11.717000</td>\n",
       "                        <td id=\"T_10ca4608_0419_11ec_b868_f8e4e3523473row5_col20\" class=\"data row5 col20\" >0.297750</td>\n",
       "                        <td id=\"T_10ca4608_0419_11ec_b868_f8e4e3523473row5_col21\" class=\"data row5 col21\" >28.946250</td>\n",
       "            </tr>\n",
       "            <tr>\n",
       "                        <th id=\"T_10ca4608_0419_11ec_b868_f8e4e3523473level0_row6\" class=\"row_heading level0 row6\" >75%</th>\n",
       "                        <td id=\"T_10ca4608_0419_11ec_b868_f8e4e3523473row6_col0\" class=\"data row6 col0\" >374.100000</td>\n",
       "                        <td id=\"T_10ca4608_0419_11ec_b868_f8e4e3523473row6_col1\" class=\"data row6 col1\" >1222.875000</td>\n",
       "                        <td id=\"T_10ca4608_0419_11ec_b868_f8e4e3523473row6_col2\" class=\"data row6 col2\" >1853.825000</td>\n",
       "                        <td id=\"T_10ca4608_0419_11ec_b868_f8e4e3523473row6_col3\" class=\"data row6 col3\" >46.374805</td>\n",
       "                        <td id=\"T_10ca4608_0419_11ec_b868_f8e4e3523473row6_col4\" class=\"data row6 col4\" >0.150965</td>\n",
       "                        <td id=\"T_10ca4608_0419_11ec_b868_f8e4e3523473row6_col5\" class=\"data row6 col5\" >0.536234</td>\n",
       "                        <td id=\"T_10ca4608_0419_11ec_b868_f8e4e3523473row6_col6\" class=\"data row6 col6\" >0.180775</td>\n",
       "                        <td id=\"T_10ca4608_0419_11ec_b868_f8e4e3523473row6_col7\" class=\"data row6 col7\" >587500.000000</td>\n",
       "                        <td id=\"T_10ca4608_0419_11ec_b868_f8e4e3523473row6_col8\" class=\"data row6 col8\" >29.100000</td>\n",
       "                        <td id=\"T_10ca4608_0419_11ec_b868_f8e4e3523473row6_col9\" class=\"data row6 col9\" >35.900000</td>\n",
       "                        <td id=\"T_10ca4608_0419_11ec_b868_f8e4e3523473row6_col10\" class=\"data row6 col10\" >34.250000</td>\n",
       "                        <td id=\"T_10ca4608_0419_11ec_b868_f8e4e3523473row6_col11\" class=\"data row6 col11\" >31.700000</td>\n",
       "                        <td id=\"T_10ca4608_0419_11ec_b868_f8e4e3523473row6_col12\" class=\"data row6 col12\" >3.700000</td>\n",
       "                        <td id=\"T_10ca4608_0419_11ec_b868_f8e4e3523473row6_col13\" class=\"data row6 col13\" >-0.248225</td>\n",
       "                        <td id=\"T_10ca4608_0419_11ec_b868_f8e4e3523473row6_col14\" class=\"data row6 col14\" >124.901253</td>\n",
       "                        <td id=\"T_10ca4608_0419_11ec_b868_f8e4e3523473row6_col15\" class=\"data row6 col15\" >28.748100</td>\n",
       "                        <td id=\"T_10ca4608_0419_11ec_b868_f8e4e3523473row6_col16\" class=\"data row6 col16\" >0.073700</td>\n",
       "                        <td id=\"T_10ca4608_0419_11ec_b868_f8e4e3523473row6_col17\" class=\"data row6 col17\" >0.335775</td>\n",
       "                        <td id=\"T_10ca4608_0419_11ec_b868_f8e4e3523473row6_col18\" class=\"data row6 col18\" >0.111450</td>\n",
       "                        <td id=\"T_10ca4608_0419_11ec_b868_f8e4e3523473row6_col19\" class=\"data row6 col19\" >18.274500</td>\n",
       "                        <td id=\"T_10ca4608_0419_11ec_b868_f8e4e3523473row6_col20\" class=\"data row6 col20\" >0.571375</td>\n",
       "                        <td id=\"T_10ca4608_0419_11ec_b868_f8e4e3523473row6_col21\" class=\"data row6 col21\" >35.106500</td>\n",
       "            </tr>\n",
       "            <tr>\n",
       "                        <th id=\"T_10ca4608_0419_11ec_b868_f8e4e3523473level0_row7\" class=\"row_heading level0 row7\" >max</th>\n",
       "                        <td id=\"T_10ca4608_0419_11ec_b868_f8e4e3523473row7_col0\" class=\"data row7 col0\" >281613.700000</td>\n",
       "                        <td id=\"T_10ca4608_0419_11ec_b868_f8e4e3523473row7_col1\" class=\"data row7 col1\" >1019866.400000</td>\n",
       "                        <td id=\"T_10ca4608_0419_11ec_b868_f8e4e3523473row7_col2\" class=\"data row7 col2\" >1556563.600000</td>\n",
       "                        <td id=\"T_10ca4608_0419_11ec_b868_f8e4e3523473row7_col3\" class=\"data row7 col3\" >69.226464</td>\n",
       "                        <td id=\"T_10ca4608_0419_11ec_b868_f8e4e3523473row7_col4\" class=\"data row7 col4\" >0.276592</td>\n",
       "                        <td id=\"T_10ca4608_0419_11ec_b868_f8e4e3523473row7_col5\" class=\"data row7 col5\" >0.938644</td>\n",
       "                        <td id=\"T_10ca4608_0419_11ec_b868_f8e4e3523473row7_col6\" class=\"data row7 col6\" >0.341400</td>\n",
       "                        <td id=\"T_10ca4608_0419_11ec_b868_f8e4e3523473row7_col7\" class=\"data row7 col7\" >2850000.000000</td>\n",
       "                        <td id=\"T_10ca4608_0419_11ec_b868_f8e4e3523473row7_col8\" class=\"data row7 col8\" >53.700000</td>\n",
       "                        <td id=\"T_10ca4608_0419_11ec_b868_f8e4e3523473row7_col9\" class=\"data row7 col9\" >53.700000</td>\n",
       "                        <td id=\"T_10ca4608_0419_11ec_b868_f8e4e3523473row7_col10\" class=\"data row7 col10\" >74.100000</td>\n",
       "                        <td id=\"T_10ca4608_0419_11ec_b868_f8e4e3523473row7_col11\" class=\"data row7 col11\" >57.700000</td>\n",
       "                        <td id=\"T_10ca4608_0419_11ec_b868_f8e4e3523473row7_col12\" class=\"data row7 col12\" >28.600000</td>\n",
       "                        <td id=\"T_10ca4608_0419_11ec_b868_f8e4e3523473row7_col13\" class=\"data row7 col13\" >0.688500</td>\n",
       "                        <td id=\"T_10ca4608_0419_11ec_b868_f8e4e3523473row7_col14\" class=\"data row7 col14\" >286.428571</td>\n",
       "                        <td id=\"T_10ca4608_0419_11ec_b868_f8e4e3523473row7_col15\" class=\"data row7 col15\" >50.422500</td>\n",
       "                        <td id=\"T_10ca4608_0419_11ec_b868_f8e4e3523473row7_col16\" class=\"data row7 col16\" >1.043750</td>\n",
       "                        <td id=\"T_10ca4608_0419_11ec_b868_f8e4e3523473row7_col17\" class=\"data row7 col17\" >0.493000</td>\n",
       "                        <td id=\"T_10ca4608_0419_11ec_b868_f8e4e3523473row7_col18\" class=\"data row7 col18\" >0.238600</td>\n",
       "                        <td id=\"T_10ca4608_0419_11ec_b868_f8e4e3523473row7_col19\" class=\"data row7 col19\" >44.754167</td>\n",
       "                        <td id=\"T_10ca4608_0419_11ec_b868_f8e4e3523473row7_col20\" class=\"data row7 col20\" >1.549400</td>\n",
       "                        <td id=\"T_10ca4608_0419_11ec_b868_f8e4e3523473row7_col21\" class=\"data row7 col21\" >61.350167</td>\n",
       "            </tr>\n",
       "    </tbody></table>"
      ],
      "text/plain": [
       "<pandas.io.formats.style.Styler at 0x1f391be52e0>"
      ]
     },
     "execution_count": 23,
     "metadata": {},
     "output_type": "execute_result"
    }
   ],
   "source": [
    "list1.style"
   ]
  },
  {
   "cell_type": "markdown",
   "metadata": {},
   "source": [
    "### 1.5 Data Plot"
   ]
  },
  {
   "cell_type": "markdown",
   "metadata": {},
   "source": [
    "Although the data has a small number of outliers, it is a complete data that includes all MSOAs in London that are not missing. And there is a big gap in some aspects of the London, such as housing prices, but it does not mean that the data is abnormal or wrong. This model is not as sensitive to outliers as logistic regression, so they are not deleted."
   ]
  },
  {
   "cell_type": "code",
   "execution_count": 24,
   "metadata": {},
   "outputs": [
    {
     "data": {
      "text/plain": [
       "\"\\nfigure,axes =plt.subplots(4,6,figsize=(16,10))\\naxes[0][0].boxplot(covid['RollingRate1'],widths = 0.4)\\naxes[0][0].set_title('RollingRate1')\\naxes[0][1].boxplot(covid['RollingRate2'],widths = 0.4)\\naxes[0][1].set_title('RollingRate2')\\naxes[0][2].boxplot(covid['RollingRate3'],widths = 0.4)\\naxes[0][2].set_title('RollingRate3')\\naxes[0][3].boxplot(covid['Not United Kingdom (%)'],widths = 0.4)\\naxes[0][3].set_title('Not_UK')\\naxes[0][4].boxplot(covid['Owned: Owned outright (%)'],widths = 0.4)\\naxes[0][4].set_title('outright')\\naxes[0][5].boxplot(covid['Owned: Owned with a mortgage or loan (%)'],widths = 0.4)\\naxes[0][5].set_title('owned')\\naxes[1][0].boxplot(covid['Social rented (%)'],widths = 0.4)\\naxes[1][0].set_title('Social')\\naxes[1][1].boxplot(covid['Private rented (%)'],widths = 0.4)\\naxes[1][1].set_title('Private')\\naxes[1][2].boxplot(covid['Household spaces with no usual residents (%)'],widths = 0.4)\\naxes[1][2].set_title('spaces')\\naxes[1][3].boxplot(covid['population_density'],widths = 0.4)\\naxes[1][3].set_title('density')\\naxes[1][4].boxplot(covid['population_prop_over65'],widths = 0.4)\\naxes[1][4].set_title('over65')\\naxes[1][5].boxplot(covid['all_bame_prop'],widths = 0.4)\\naxes[1][5].set_title('bame')\\naxes[2][0].boxplot(covid['house price'],widths = 0.4)\\naxes[2][0].set_title('house price')\\naxes[2][1].boxplot(covid['IMD'],widths = 0.4)\\naxes[2][1].set_title('IMD')\\naxes[2][2].boxplot(covid['Income'],widths = 0.4)\\naxes[2][2].set_title('Income')\\naxes[2][3].boxplot(covid['Employment'],widths = 0.4)\\naxes[2][3].set_title('Employment')\\naxes[2][4].boxplot(covid['Education'],widths = 0.4)\\naxes[2][4].set_title('Education')\\naxes[2][5].boxplot(covid[' Health'],widths = 0.4)\\naxes[2][5].set_title('Health')\\naxes[3][0].boxplot(covid['Crime'],widths = 0.4)\\naxes[3][0].set_title('Crime')\\naxes[3][1].boxplot(covid['IMD'],widths = 0.4)\\naxes[3][1].set_title('IMD')\\naxes[3][2].boxplot(covid['Income'],widths = 0.4)\\naxes[3][2].set_title('Income')\\naxes[3][3].boxplot(covid['Living Environment'],widths = 0.4)\\naxes[3][3].set_title('Living Environment')\\naxes[3][4].boxplot(covid['Adult_skill'],widths = 0.4)\\naxes[3][4].set_title('Adult_skill')\\naxes[3][5].boxplot(covid['Geo'],widths = 0.4)\\naxes[3][5].set_title('Geo')\\nplt.title('Figure 2: Box plot', fontsize=16)\""
      ]
     },
     "execution_count": 24,
     "metadata": {},
     "output_type": "execute_result"
    }
   ],
   "source": [
    "'''\n",
    "figure,axes =plt.subplots(4,6,figsize=(16,10))\n",
    "axes[0][0].boxplot(covid['RollingRate1'],widths = 0.4)\n",
    "axes[0][0].set_title('RollingRate1')\n",
    "axes[0][1].boxplot(covid['RollingRate2'],widths = 0.4)\n",
    "axes[0][1].set_title('RollingRate2')\n",
    "axes[0][2].boxplot(covid['RollingRate3'],widths = 0.4)\n",
    "axes[0][2].set_title('RollingRate3')\n",
    "axes[0][3].boxplot(covid['Not United Kingdom (%)'],widths = 0.4)\n",
    "axes[0][3].set_title('Not_UK')\n",
    "axes[0][4].boxplot(covid['Owned: Owned outright (%)'],widths = 0.4)\n",
    "axes[0][4].set_title('outright')\n",
    "axes[0][5].boxplot(covid['Owned: Owned with a mortgage or loan (%)'],widths = 0.4)\n",
    "axes[0][5].set_title('owned')\n",
    "axes[1][0].boxplot(covid['Social rented (%)'],widths = 0.4)\n",
    "axes[1][0].set_title('Social')\n",
    "axes[1][1].boxplot(covid['Private rented (%)'],widths = 0.4)\n",
    "axes[1][1].set_title('Private')\n",
    "axes[1][2].boxplot(covid['Household spaces with no usual residents (%)'],widths = 0.4)\n",
    "axes[1][2].set_title('spaces')\n",
    "axes[1][3].boxplot(covid['population_density'],widths = 0.4)\n",
    "axes[1][3].set_title('density')\n",
    "axes[1][4].boxplot(covid['population_prop_over65'],widths = 0.4)\n",
    "axes[1][4].set_title('over65')\n",
    "axes[1][5].boxplot(covid['all_bame_prop'],widths = 0.4)\n",
    "axes[1][5].set_title('bame')\n",
    "axes[2][0].boxplot(covid['house price'],widths = 0.4)\n",
    "axes[2][0].set_title('house price')\n",
    "axes[2][1].boxplot(covid['IMD'],widths = 0.4)\n",
    "axes[2][1].set_title('IMD')\n",
    "axes[2][2].boxplot(covid['Income'],widths = 0.4)\n",
    "axes[2][2].set_title('Income')\n",
    "axes[2][3].boxplot(covid['Employment'],widths = 0.4)\n",
    "axes[2][3].set_title('Employment')\n",
    "axes[2][4].boxplot(covid['Education'],widths = 0.4)\n",
    "axes[2][4].set_title('Education')\n",
    "axes[2][5].boxplot(covid[' Health'],widths = 0.4)\n",
    "axes[2][5].set_title('Health')\n",
    "axes[3][0].boxplot(covid['Crime'],widths = 0.4)\n",
    "axes[3][0].set_title('Crime')\n",
    "axes[3][1].boxplot(covid['IMD'],widths = 0.4)\n",
    "axes[3][1].set_title('IMD')\n",
    "axes[3][2].boxplot(covid['Income'],widths = 0.4)\n",
    "axes[3][2].set_title('Income')\n",
    "axes[3][3].boxplot(covid['Living Environment'],widths = 0.4)\n",
    "axes[3][3].set_title('Living Environment')\n",
    "axes[3][4].boxplot(covid['Adult_skill'],widths = 0.4)\n",
    "axes[3][4].set_title('Adult_skill')\n",
    "axes[3][5].boxplot(covid['Geo'],widths = 0.4)\n",
    "axes[3][5].set_title('Geo')\n",
    "plt.title('Figure 2: Box plot', fontsize=16)'''"
   ]
  },
  {
   "cell_type": "markdown",
   "metadata": {},
   "source": [
    "### 2. Linear Regression"
   ]
  },
  {
   "cell_type": "markdown",
   "metadata": {},
   "source": [
    "### 2.1 Correlation Matrix between independent variables\n",
    "This matrix shows the correlation between predictor variables"
   ]
  },
  {
   "cell_type": "code",
   "execution_count": 25,
   "metadata": {},
   "outputs": [
    {
     "data": {
      "text/plain": [
       "Text(0.5, 1.05, 'Figure 3: Correlation Matrix')"
      ]
     },
     "execution_count": 25,
     "metadata": {},
     "output_type": "execute_result"
    },
    {
     "name": "stderr",
     "output_type": "stream",
     "text": [
      "D:\\Anaconda\\lib\\site-packages\\matplotlib\\backends\\backend_agg.py:214: RuntimeWarning: Glyph 8722 missing from current font.\n",
      "  font.set_text(s, 0.0, flags=flags)\n",
      "D:\\Anaconda\\lib\\site-packages\\matplotlib\\backends\\backend_agg.py:183: RuntimeWarning: Glyph 8722 missing from current font.\n",
      "  font.set_text(s, 0, flags=flags)\n"
     ]
    },
    {
     "data": {
      "image/png": "[encoded data removed]",
      "text/plain": [
       "<Figure size 1080x864 with 2 Axes>"
      ]
     },
     "metadata": {
      "needs_background": "light"
     },
     "output_type": "display_data"
    }
   ],
   "source": [
    "plt.rcParams[\"axes.grid\"] = False\n",
    "f = plt.figure(figsize=(15, 12))\n",
    "plt.matshow(covid.corr(), fignum=f.number)\n",
    "plt.xticks(range(covid.shape[1]), covid.columns, fontsize=14, rotation=45)\n",
    "plt.yticks(range(covid.shape[1]), covid.columns, fontsize=14)\n",
    "cb = plt.colorbar()\n",
    "cb.ax.tick_params(labelsize=14)\n",
    "plt.title('Figure 3: Correlation Matrix', fontsize=16)"
   ]
  },
  {
   "cell_type": "markdown",
   "metadata": {},
   "source": [
    "### 2.2 Lockdown1"
   ]
  },
  {
   "cell_type": "markdown",
   "metadata": {},
   "source": [
    "### 2.2.1 Linear regression"
   ]
  },
  {
   "cell_type": "code",
   "execution_count": 26,
   "metadata": {},
   "outputs": [],
   "source": [
    "lockdown1 = covid.drop(columns=['MSOA Code','Cases2','Cases3'], axis=1)"
   ]
  },
  {
   "cell_type": "code",
   "execution_count": 27,
   "metadata": {},
   "outputs": [
    {
     "name": "stdout",
     "output_type": "stream",
     "text": [
      "<class 'pandas.core.frame.DataFrame'>\n",
      "RangeIndex: 984 entries, 0 to 983\n",
      "Data columns (total 20 columns):\n",
      " #   Column       Non-Null Count  Dtype  \n",
      "---  ------       --------------  -----  \n",
      " 0   Cases1       973 non-null    float64\n",
      " 1   NUK          983 non-null    float64\n",
      " 2   O65          983 non-null    float64\n",
      " 3   Bame         983 non-null    float64\n",
      " 4   Income       983 non-null    float64\n",
      " 5   HP           983 non-null    float64\n",
      " 6   OO           983 non-null    float64\n",
      " 7   OML          983 non-null    float64\n",
      " 8   SR           983 non-null    float64\n",
      " 9   PR           983 non-null    float64\n",
      " 10  NP           983 non-null    float64\n",
      " 11  Geo          983 non-null    float64\n",
      " 12  Density      983 non-null    float64\n",
      " 13  IMD          983 non-null    float64\n",
      " 14  Health       983 non-null    float64\n",
      " 15  AS           983 non-null    float64\n",
      " 16  Employment   983 non-null    float64\n",
      " 17  Education    983 non-null    float64\n",
      " 18  Crime        983 non-null    float64\n",
      " 19  Environment  983 non-null    float64\n",
      "dtypes: float64(20)\n",
      "memory usage: 153.9 KB\n"
     ]
    }
   ],
   "source": [
    "lockdown1.info()"
   ]
  },
  {
   "cell_type": "code",
   "execution_count": 28,
   "metadata": {},
   "outputs": [],
   "source": [
    "lockdown1.dropna(inplace=True)  "
   ]
  },
  {
   "cell_type": "code",
   "execution_count": 29,
   "metadata": {},
   "outputs": [
    {
     "name": "stdout",
     "output_type": "stream",
     "text": [
      "<class 'pandas.core.frame.DataFrame'>\n",
      "Int64Index: 972 entries, 0 to 982\n",
      "Data columns (total 20 columns):\n",
      " #   Column       Non-Null Count  Dtype  \n",
      "---  ------       --------------  -----  \n",
      " 0   Cases1       972 non-null    float64\n",
      " 1   NUK          972 non-null    float64\n",
      " 2   O65          972 non-null    float64\n",
      " 3   Bame         972 non-null    float64\n",
      " 4   Income       972 non-null    float64\n",
      " 5   HP           972 non-null    float64\n",
      " 6   OO           972 non-null    float64\n",
      " 7   OML          972 non-null    float64\n",
      " 8   SR           972 non-null    float64\n",
      " 9   PR           972 non-null    float64\n",
      " 10  NP           972 non-null    float64\n",
      " 11  Geo          972 non-null    float64\n",
      " 12  Density      972 non-null    float64\n",
      " 13  IMD          972 non-null    float64\n",
      " 14  Health       972 non-null    float64\n",
      " 15  AS           972 non-null    float64\n",
      " 16  Employment   972 non-null    float64\n",
      " 17  Education    972 non-null    float64\n",
      " 18  Crime        972 non-null    float64\n",
      " 19  Environment  972 non-null    float64\n",
      "dtypes: float64(20)\n",
      "memory usage: 159.5 KB\n"
     ]
    }
   ],
   "source": [
    "lockdown1.info()"
   ]
  },
  {
   "cell_type": "code",
   "execution_count": 30,
   "metadata": {},
   "outputs": [],
   "source": [
    "# calculating VIF\n",
    "# This function is amended from: https://stackoverflow.com/a/51329496/4667568\n",
    "from statsmodels.stats.outliers_influence import variance_inflation_factor \n",
    "from statsmodels.tools.tools import add_constant\n",
    "\n",
    "def drop_column_using_vif_(df, list_var_not_to_remove, thresh=5):\n",
    "    '''\n",
    "    Calculates VIF each feature in a pandas dataframe, and repeatedly drop the columns with the highest VIF\n",
    "    A constant must be added to variance_inflation_factor or the results will be incorrect\n",
    "\n",
    "    :param df: the pandas dataframe containing only the predictor features, not the response variable\n",
    "    :param list_var_not_to_remove: the list of variables that should not be removed even though it has a high VIF. For example, dummy (or indicator) variables represent a categorical variable with three or more categories.\n",
    "    :param thresh: the max VIF value before the feature is removed from the dataframe\n",
    "    :return: dataframe with multicollinear features removed\n",
    "    '''\n",
    "    while True:\n",
    "        # adding a constatnt item to the data\n",
    "        df_with_const = add_constant(df)\n",
    "\n",
    "        vif_df = pd.Series([variance_inflation_factor(df_with_const.values, i) \n",
    "               for i in range(df_with_const.shape[1])], name= \"VIF\",\n",
    "              index=df_with_const.columns).to_frame()\n",
    "\n",
    "        # drop the const\n",
    "        vif_df = vif_df.drop('const').drop(list_var_not_to_remove)\n",
    "        \n",
    "        print('Max VIF:', vif_df.VIF.max())\n",
    "        \n",
    "        # if the largest VIF is above the thresh, remove a variable with the largest VIF\n",
    "        if vif_df.VIF.max() > thresh:\n",
    "            # If there are multiple variables with the maximum VIF, choose the first one\n",
    "            index_to_drop = vif_df.index[vif_df.VIF == vif_df.VIF.max()].tolist()[0]\n",
    "            print('Dropping: {}'.format(index_to_drop))\n",
    "            df = df.drop(columns = index_to_drop)\n",
    "        else:\n",
    "            # No VIF is above threshold. Exit the loop\n",
    "            break\n",
    "\n",
    "    return df"
   ]
  },
  {
   "cell_type": "code",
   "execution_count": 31,
   "metadata": {},
   "outputs": [
    {
     "name": "stdout",
     "output_type": "stream",
     "text": [
      "Max VIF: 266.163524203759\n",
      "Dropping: SR\n",
      "Max VIF: 61.07038953244887\n",
      "Dropping: IMD\n",
      "Max VIF: 24.70855421685297\n",
      "Dropping: Employment\n",
      "Max VIF: 16.91257148999946\n",
      "Dropping: AS\n",
      "Max VIF: 10.84375078447799\n",
      "Dropping: NUK\n",
      "Max VIF: 7.618617104539371\n",
      "Dropping: OO\n",
      "Max VIF: 5.195441062273266\n",
      "Dropping: OML\n",
      "Max VIF: 4.42527180658252\n",
      "The columns remaining after VIF selection are:\n",
      "Index(['O65', 'Bame', 'Income', 'HP', 'PR', 'NP', 'Geo', 'Density', 'Health',\n",
      "       'Education', 'Crime', 'Environment'],\n",
      "      dtype='object')\n"
     ]
    }
   ],
   "source": [
    "# using VIF on the bike_rental dataset\n",
    "predictors_lockdown1 = lockdown1.drop({'Cases1'}, axis=1)\n",
    "response_lockdown1 = lockdown1['Cases1']\n",
    "\n",
    "# this is a list of dummy variables that represent a categorical variable with three or more categories. They should not be removed even if it has a high VIF. \n",
    "# list_var_not_to_remove = ['all_bame_prop','population_prop_over65','Income Score (rate)']\n",
    "list_var_not_to_remove = ['Income']\n",
    "df_predictors_select_VIF = drop_column_using_vif_(predictors_lockdown1,list_var_not_to_remove, thresh=5)\n",
    "print(\"The columns remaining after VIF selection are:\")\n",
    "print(df_predictors_select_VIF.columns)"
   ]
  },
  {
   "cell_type": "code",
   "execution_count": 32,
   "metadata": {},
   "outputs": [
    {
     "name": "stdout",
     "output_type": "stream",
     "text": [
      "Max VIF: 61.07038953244887\n",
      "Dropping: IMD\n",
      "Max VIF: 24.70855421685297\n",
      "Dropping: Employment\n",
      "Max VIF: 16.91257148999946\n",
      "Dropping: AS\n",
      "Max VIF: 10.84375078447799\n",
      "Dropping: NUK\n",
      "Max VIF: 7.618617104539371\n",
      "Dropping: OO\n",
      "Max VIF: 5.195441062273266\n",
      "Dropping: OML\n",
      "Max VIF: 4.42527180658252\n",
      "The columns remaining after VIF selection are:\n",
      "Index(['O65', 'Bame', 'Income', 'HP', 'PR', 'NP', 'Geo', 'Density', 'Health',\n",
      "       'Education', 'Crime', 'Environment'],\n",
      "      dtype='object')\n"
     ]
    }
   ],
   "source": [
    "# using VIF on the bike_rental dataset\n",
    "predictors_lockdown1 = lockdown1.drop({'Cases1','SR'}, axis=1)\n",
    "response_lockdown1 = lockdown1['Cases1']\n",
    "\n",
    "# this is a list of dummy variables that represent a categorical variable with three or more categories. They should not be removed even if it has a high VIF. \n",
    "# list_var_not_to_remove = ['all_bame_prop','population_prop_over65','Income Score (rate)']\n",
    "list_var_not_to_remove = ['Income' ]\n",
    "df_predictors_select_VIF = drop_column_using_vif_(predictors_lockdown1,list_var_not_to_remove, thresh=5)\n",
    "print(\"The columns remaining after VIF selection are:\")\n",
    "print(df_predictors_select_VIF.columns)"
   ]
  },
  {
   "cell_type": "code",
   "execution_count": 33,
   "metadata": {},
   "outputs": [
    {
     "name": "stdout",
     "output_type": "stream",
     "text": [
      "Max VIF: 24.70855421685297\n",
      "Dropping: Employment\n",
      "Max VIF: 16.91257148999946\n",
      "Dropping: AS\n",
      "Max VIF: 10.84375078447799\n",
      "Dropping: NUK\n",
      "Max VIF: 7.618617104539371\n",
      "Dropping: OO\n",
      "Max VIF: 5.195441062273266\n",
      "Dropping: OML\n",
      "Max VIF: 4.42527180658252\n",
      "The columns remaining after VIF selection are:\n",
      "Index(['O65', 'Bame', 'Income', 'HP', 'PR', 'NP', 'Geo', 'Density', 'Health',\n",
      "       'Education', 'Crime', 'Environment'],\n",
      "      dtype='object')\n"
     ]
    }
   ],
   "source": [
    "# using VIF on the bike_rental dataset\n",
    "predictors_lockdown1 = lockdown1.drop({'Cases1','SR','IMD'}, axis=1)\n",
    "response_lockdown1 = lockdown1['Cases1']\n",
    "\n",
    "# this is a list of dummy variables that represent a categorical variable with three or more categories. They should not be removed even if it has a high VIF. \n",
    "# list_var_not_to_remove = ['all_bame_prop','population_prop_over65','Income Score (rate)']\n",
    "list_var_not_to_remove = ['Income']\n",
    "df_predictors_select_VIF = drop_column_using_vif_(predictors_lockdown1,list_var_not_to_remove, thresh=5)\n",
    "print(\"The columns remaining after VIF selection are:\")\n",
    "print(df_predictors_select_VIF.columns)"
   ]
  },
  {
   "cell_type": "code",
   "execution_count": 34,
   "metadata": {},
   "outputs": [
    {
     "name": "stdout",
     "output_type": "stream",
     "text": [
      "Max VIF: 16.91257148999946\n",
      "Dropping: AS\n",
      "Max VIF: 10.84375078447799\n",
      "Dropping: NUK\n",
      "Max VIF: 7.618617104539371\n",
      "Dropping: OO\n",
      "Max VIF: 5.195441062273266\n",
      "Dropping: OML\n",
      "Max VIF: 4.42527180658252\n",
      "The columns remaining after VIF selection are:\n",
      "Index(['O65', 'Bame', 'Income', 'HP', 'PR', 'NP', 'Geo', 'Density', 'Health',\n",
      "       'Education', 'Crime', 'Environment'],\n",
      "      dtype='object')\n"
     ]
    }
   ],
   "source": [
    "# using VIF on the bike_rental dataset\n",
    "predictors_lockdown1 = lockdown1.drop({'Cases1','SR','IMD','Employment'}, axis=1)\n",
    "response_lockdown1 = lockdown1['Cases1']\n",
    "\n",
    "# this is a list of dummy variables that represent a categorical variable with three or more categories. They should not be removed even if it has a high VIF. \n",
    "# list_var_not_to_remove = ['all_bame_prop','population_prop_over65','Income Score (rate)']\n",
    "list_var_not_to_remove = ['Income' ]\n",
    "df_predictors_select_VIF = drop_column_using_vif_(predictors_lockdown1,list_var_not_to_remove, thresh=5)\n",
    "print(\"The columns remaining after VIF selection are:\")\n",
    "print(df_predictors_select_VIF.columns)"
   ]
  },
  {
   "cell_type": "code",
   "execution_count": 35,
   "metadata": {},
   "outputs": [
    {
     "name": "stdout",
     "output_type": "stream",
     "text": [
      "Max VIF: 10.84375078447799\n",
      "Dropping: NUK\n",
      "Max VIF: 7.618617104539371\n",
      "Dropping: OO\n",
      "Max VIF: 5.195441062273266\n",
      "Dropping: OML\n",
      "Max VIF: 4.42527180658252\n",
      "The columns remaining after VIF selection are:\n",
      "Index(['O65', 'Bame', 'Income', 'HP', 'PR', 'NP', 'Geo', 'Density', 'Health',\n",
      "       'Education', 'Crime', 'Environment'],\n",
      "      dtype='object')\n"
     ]
    }
   ],
   "source": [
    "# using VIF on the bike_rental dataset\n",
    "predictors_lockdown1 = lockdown1.drop({'Cases1','SR','IMD','Employment','AS'}, axis=1)\n",
    "response_lockdown1 = lockdown1['Cases1']\n",
    "\n",
    "# this is a list of dummy variables that represent a categorical variable with three or more categories. They should not be removed even if it has a high VIF. \n",
    "# list_var_not_to_remove = ['all_bame_prop','population_prop_over65','Income Score (rate)']\n",
    "list_var_not_to_remove = ['Income' ]\n",
    "df_predictors_select_VIF = drop_column_using_vif_(predictors_lockdown1,list_var_not_to_remove, thresh=5)\n",
    "print(\"The columns remaining after VIF selection are:\")\n",
    "print(df_predictors_select_VIF.columns)"
   ]
  },
  {
   "cell_type": "code",
   "execution_count": 36,
   "metadata": {},
   "outputs": [
    {
     "name": "stdout",
     "output_type": "stream",
     "text": [
      "Max VIF: 7.618617104539371\n",
      "Dropping: OO\n",
      "Max VIF: 5.195441062273266\n",
      "Dropping: OML\n",
      "Max VIF: 4.42527180658252\n",
      "The columns remaining after VIF selection are:\n",
      "Index(['O65', 'Bame', 'Income', 'HP', 'PR', 'NP', 'Geo', 'Density', 'Health',\n",
      "       'Education', 'Crime', 'Environment'],\n",
      "      dtype='object')\n"
     ]
    }
   ],
   "source": [
    "# using VIF on the bike_rental dataset\n",
    "predictors_lockdown1 = lockdown1.drop({'Cases1','SR','IMD','Employment','AS','NUK'}, axis=1)\n",
    "response_lockdown1 = lockdown1['Cases1']\n",
    "\n",
    "# this is a list of dummy variables that represent a categorical variable with three or more categories. They should not be removed even if it has a high VIF. \n",
    "# list_var_not_to_remove = ['all_bame_prop','population_prop_over65','Income Score (rate)']\n",
    "list_var_not_to_remove = ['Income' ]\n",
    "df_predictors_select_VIF = drop_column_using_vif_(predictors_lockdown1,list_var_not_to_remove, thresh=5)\n",
    "print(\"The columns remaining after VIF selection are:\")\n",
    "print(df_predictors_select_VIF.columns)"
   ]
  },
  {
   "cell_type": "code",
   "execution_count": 37,
   "metadata": {},
   "outputs": [
    {
     "name": "stdout",
     "output_type": "stream",
     "text": [
      "Max VIF: 5.195441062273266\n",
      "Dropping: OML\n",
      "Max VIF: 4.42527180658252\n",
      "The columns remaining after VIF selection are:\n",
      "Index(['O65', 'Bame', 'Income', 'HP', 'PR', 'NP', 'Geo', 'Density', 'Health',\n",
      "       'Education', 'Crime', 'Environment'],\n",
      "      dtype='object')\n"
     ]
    }
   ],
   "source": [
    "# using VIF on the bike_rental dataset\n",
    "predictors_lockdown1 = lockdown1.drop({'Cases1','SR','IMD','Employment','AS','NUK','OO'}, axis=1)\n",
    "response_lockdown1 = lockdown1['Cases1']\n",
    "\n",
    "# this is a list of dummy variables that represent a categorical variable with three or more categories. They should not be removed even if it has a high VIF. \n",
    "# list_var_not_to_remove = ['all_bame_prop','population_prop_over65','Income Score (rate)']\n",
    "list_var_not_to_remove = ['Income' ]\n",
    "df_predictors_select_VIF = drop_column_using_vif_(predictors_lockdown1,list_var_not_to_remove, thresh=5)\n",
    "print(\"The columns remaining after VIF selection are:\")\n",
    "print(df_predictors_select_VIF.columns)"
   ]
  },
  {
   "cell_type": "code",
   "execution_count": 38,
   "metadata": {},
   "outputs": [
    {
     "name": "stdout",
     "output_type": "stream",
     "text": [
      "Max VIF: 4.42527180658252\n",
      "The columns remaining after VIF selection are:\n",
      "Index(['O65', 'Bame', 'Income', 'HP', 'PR', 'NP', 'Geo', 'Density', 'Health',\n",
      "       'Education', 'Crime', 'Environment'],\n",
      "      dtype='object')\n"
     ]
    }
   ],
   "source": [
    "# using VIF on the bike_rental dataset\n",
    "predictors_lockdown1 = lockdown1.drop({'Cases1','SR','IMD','Employment','AS','NUK','OO','OML'}, axis=1)\n",
    "response_lockdown1 = lockdown1['Cases1']\n",
    "\n",
    "# this is a list of dummy variables that represent a categorical variable with three or more categories. They should not be removed even if it has a high VIF. \n",
    "# list_var_not_to_remove = ['all_bame_prop','population_prop_over65','Income Score (rate)']\n",
    "list_var_not_to_remove = ['Income' ]\n",
    "df_predictors_select_VIF = drop_column_using_vif_(predictors_lockdown1,list_var_not_to_remove, thresh=5)\n",
    "print(\"The columns remaining after VIF selection are:\")\n",
    "print(df_predictors_select_VIF.columns)"
   ]
  },
  {
   "cell_type": "code",
   "execution_count": 39,
   "metadata": {},
   "outputs": [
    {
     "data": {
      "text/html": [
       "<table class=\"simpletable\">\n",
       "<caption>OLS Regression Results</caption>\n",
       "<tr>\n",
       "  <th>Dep. Variable:</th>            <td>y</td>        <th>  R-squared:         </th> <td>   0.154</td> \n",
       "</tr>\n",
       "<tr>\n",
       "  <th>Model:</th>                   <td>OLS</td>       <th>  Adj. R-squared:    </th> <td>   0.144</td> \n",
       "</tr>\n",
       "<tr>\n",
       "  <th>Method:</th>             <td>Least Squares</td>  <th>  F-statistic:       </th> <td>   14.59</td> \n",
       "</tr>\n",
       "<tr>\n",
       "  <th>Date:</th>             <td>Mon, 23 Aug 2021</td> <th>  Prob (F-statistic):</th> <td>2.42e-28</td> \n",
       "</tr>\n",
       "<tr>\n",
       "  <th>Time:</th>                 <td>21:50:26</td>     <th>  Log-Likelihood:    </th> <td> -6191.6</td> \n",
       "</tr>\n",
       "<tr>\n",
       "  <th>No. Observations:</th>      <td>   972</td>      <th>  AIC:               </th> <td>1.241e+04</td>\n",
       "</tr>\n",
       "<tr>\n",
       "  <th>Df Residuals:</th>          <td>   959</td>      <th>  BIC:               </th> <td>1.247e+04</td>\n",
       "</tr>\n",
       "<tr>\n",
       "  <th>Df Model:</th>              <td>    12</td>      <th>                     </th>     <td> </td>    \n",
       "</tr>\n",
       "<tr>\n",
       "  <th>Covariance Type:</th>      <td>nonrobust</td>    <th>                     </th>     <td> </td>    \n",
       "</tr>\n",
       "</table>\n",
       "<table class=\"simpletable\">\n",
       "<tr>\n",
       "       <td></td>          <th>coef</th>     <th>std err</th>      <th>t</th>      <th>P>|t|</th>  <th>[0.025</th>    <th>0.975]</th>  \n",
       "</tr>\n",
       "<tr>\n",
       "  <th>const</th>       <td>  308.3312</td> <td>   40.051</td> <td>    7.698</td> <td> 0.000</td> <td>  229.733</td> <td>  386.929</td>\n",
       "</tr>\n",
       "<tr>\n",
       "  <th>O65</th>         <td>  232.3650</td> <td>  127.524</td> <td>    1.822</td> <td> 0.069</td> <td>  -17.893</td> <td>  482.623</td>\n",
       "</tr>\n",
       "<tr>\n",
       "  <th>Bame</th>        <td>  267.9857</td> <td>   33.182</td> <td>    8.076</td> <td> 0.000</td> <td>  202.867</td> <td>  333.104</td>\n",
       "</tr>\n",
       "<tr>\n",
       "  <th>Income</th>      <td>  -14.3855</td> <td>  185.018</td> <td>   -0.078</td> <td> 0.938</td> <td> -377.473</td> <td>  348.702</td>\n",
       "</tr>\n",
       "<tr>\n",
       "  <th>HP</th>          <td>-8.077e-05</td> <td> 3.12e-05</td> <td>   -2.588</td> <td> 0.010</td> <td>   -0.000</td> <td>-1.95e-05</td>\n",
       "</tr>\n",
       "<tr>\n",
       "  <th>PR</th>          <td>   -3.2365</td> <td>    0.707</td> <td>   -4.580</td> <td> 0.000</td> <td>   -4.623</td> <td>   -1.850</td>\n",
       "</tr>\n",
       "<tr>\n",
       "  <th>NP</th>          <td>    4.7629</td> <td>    2.451</td> <td>    1.943</td> <td> 0.052</td> <td>   -0.047</td> <td>    9.573</td>\n",
       "</tr>\n",
       "<tr>\n",
       "  <th>Geo</th>         <td>   47.7655</td> <td>   13.148</td> <td>    3.633</td> <td> 0.000</td> <td>   21.963</td> <td>   73.568</td>\n",
       "</tr>\n",
       "<tr>\n",
       "  <th>Density</th>     <td>    0.0302</td> <td>    0.106</td> <td>    0.285</td> <td> 0.776</td> <td>   -0.178</td> <td>    0.238</td>\n",
       "</tr>\n",
       "<tr>\n",
       "  <th>Health</th>      <td>   33.8783</td> <td>   16.053</td> <td>    2.110</td> <td> 0.035</td> <td>    2.376</td> <td>   65.381</td>\n",
       "</tr>\n",
       "<tr>\n",
       "  <th>Education</th>   <td>   -1.8732</td> <td>    0.907</td> <td>   -2.066</td> <td> 0.039</td> <td>   -3.652</td> <td>   -0.094</td>\n",
       "</tr>\n",
       "<tr>\n",
       "  <th>Crime</th>       <td>  -44.1270</td> <td>   16.314</td> <td>   -2.705</td> <td> 0.007</td> <td>  -76.143</td> <td>  -12.111</td>\n",
       "</tr>\n",
       "<tr>\n",
       "  <th>Environment</th> <td>    0.9749</td> <td>    0.888</td> <td>    1.098</td> <td> 0.273</td> <td>   -0.768</td> <td>    2.717</td>\n",
       "</tr>\n",
       "</table>\n",
       "<table class=\"simpletable\">\n",
       "<tr>\n",
       "  <th>Omnibus:</th>       <td>255.497</td> <th>  Durbin-Watson:     </th> <td>   1.619</td> \n",
       "</tr>\n",
       "<tr>\n",
       "  <th>Prob(Omnibus):</th> <td> 0.000</td>  <th>  Jarque-Bera (JB):  </th> <td> 775.855</td> \n",
       "</tr>\n",
       "<tr>\n",
       "  <th>Skew:</th>          <td> 1.293</td>  <th>  Prob(JB):          </th> <td>3.35e-169</td>\n",
       "</tr>\n",
       "<tr>\n",
       "  <th>Kurtosis:</th>      <td> 6.531</td>  <th>  Cond. No.          </th> <td>2.35e+07</td> \n",
       "</tr>\n",
       "</table><br/><br/>Warnings:<br/>[1] Standard Errors assume that the covariance matrix of the errors is correctly specified.<br/>[2] The condition number is large, 2.35e+07. This might indicate that there are<br/>strong multicollinearity or other numerical problems."
      ],
      "text/plain": [
       "<class 'statsmodels.iolib.summary.Summary'>\n",
       "\"\"\"\n",
       "                            OLS Regression Results                            \n",
       "==============================================================================\n",
       "Dep. Variable:                      y   R-squared:                       0.154\n",
       "Model:                            OLS   Adj. R-squared:                  0.144\n",
       "Method:                 Least Squares   F-statistic:                     14.59\n",
       "Date:                Mon, 23 Aug 2021   Prob (F-statistic):           2.42e-28\n",
       "Time:                        21:50:26   Log-Likelihood:                -6191.6\n",
       "No. Observations:                 972   AIC:                         1.241e+04\n",
       "Df Residuals:                     959   BIC:                         1.247e+04\n",
       "Df Model:                          12                                         \n",
       "Covariance Type:            nonrobust                                         \n",
       "===============================================================================\n",
       "                  coef    std err          t      P>|t|      [0.025      0.975]\n",
       "-------------------------------------------------------------------------------\n",
       "const         308.3312     40.051      7.698      0.000     229.733     386.929\n",
       "O65           232.3650    127.524      1.822      0.069     -17.893     482.623\n",
       "Bame          267.9857     33.182      8.076      0.000     202.867     333.104\n",
       "Income        -14.3855    185.018     -0.078      0.938    -377.473     348.702\n",
       "HP          -8.077e-05   3.12e-05     -2.588      0.010      -0.000   -1.95e-05\n",
       "PR             -3.2365      0.707     -4.580      0.000      -4.623      -1.850\n",
       "NP              4.7629      2.451      1.943      0.052      -0.047       9.573\n",
       "Geo            47.7655     13.148      3.633      0.000      21.963      73.568\n",
       "Density         0.0302      0.106      0.285      0.776      -0.178       0.238\n",
       "Health         33.8783     16.053      2.110      0.035       2.376      65.381\n",
       "Education      -1.8732      0.907     -2.066      0.039      -3.652      -0.094\n",
       "Crime         -44.1270     16.314     -2.705      0.007     -76.143     -12.111\n",
       "Environment     0.9749      0.888      1.098      0.273      -0.768       2.717\n",
       "==============================================================================\n",
       "Omnibus:                      255.497   Durbin-Watson:                   1.619\n",
       "Prob(Omnibus):                  0.000   Jarque-Bera (JB):              775.855\n",
       "Skew:                           1.293   Prob(JB):                    3.35e-169\n",
       "Kurtosis:                       6.531   Cond. No.                     2.35e+07\n",
       "==============================================================================\n",
       "\n",
       "Warnings:\n",
       "[1] Standard Errors assume that the covariance matrix of the errors is correctly specified.\n",
       "[2] The condition number is large, 2.35e+07. This might indicate that there are\n",
       "strong multicollinearity or other numerical problems.\n",
       "\"\"\""
      ]
     },
     "execution_count": 39,
     "metadata": {},
     "output_type": "execute_result"
    }
   ],
   "source": [
    "model1=predictors_lockdown1\n",
    "OLS_out1 = sm.OLS(endog=response_lockdown1.values.tolist(), exog=sm.add_constant(model1)).fit()\n",
    "OLS_out1.summary()"
   ]
  },
  {
   "cell_type": "markdown",
   "metadata": {},
   "source": [
    "### 2.2.2 Residual test analysis"
   ]
  },
  {
   "cell_type": "code",
   "execution_count": 40,
   "metadata": {},
   "outputs": [
    {
     "data": {
      "image/png": "[encoded data removed]",
      "text/plain": [
       "<Figure size 432x288 with 1 Axes>"
      ]
     },
     "metadata": {
      "needs_background": "light"
     },
     "output_type": "display_data"
    }
   ],
   "source": [
    "plt.scatter(OLS_out1.fittedvalues, OLS_out1.resid)\n",
    "# adding title and labels\n",
    "plt.xlabel('Fitted cases rate 1')\n",
    "plt.ylabel('Residual')\n",
    "plt.title('Figure 4: Lockdown1 Residual vs. Fitted Plot')\n",
    "plt.show()"
   ]
  },
  {
   "cell_type": "code",
   "execution_count": 41,
   "metadata": {},
   "outputs": [
    {
     "data": {
      "text/plain": [
       "(array([ 68., 293., 351., 169.,  58.,  20.,   7.,   4.,   0.,   2.]),\n",
       " array([-2.08430509, -1.24657084, -0.4088366 ,  0.42889764,  1.26663188,\n",
       "         2.10436612,  2.94210036,  3.7798346 ,  4.61756884,  5.45530309,\n",
       "         6.29303733]),\n",
       " <a list of 10 Patch objects>)"
      ]
     },
     "execution_count": 41,
     "metadata": {},
     "output_type": "execute_result"
    },
    {
     "data": {
      "image/png": "[encoded data removed]",
      "text/plain": [
       "<Figure size 432x288 with 1 Axes>"
      ]
     },
     "metadata": {
      "needs_background": "light"
     },
     "output_type": "display_data"
    }
   ],
   "source": [
    "student_resid1 = sm.regression.linear_model.OLSResults.outlier_test(OLS_out1)\n",
    "plt.title('Figure 5: Lockdown1 Histogram') \n",
    "plt.hist(student_resid1.student_resid)"
   ]
  },
  {
   "cell_type": "code",
   "execution_count": 42,
   "metadata": {},
   "outputs": [
    {
     "data": {
      "image/png": "[encoded data removed]",
      "text/plain": [
       "<Figure size 432x288 with 1 Axes>"
      ]
     },
     "metadata": {
      "needs_background": "light"
     },
     "output_type": "display_data"
    }
   ],
   "source": [
    "import matplotlib.pyplot as plt\n",
    "\n",
    "import sys\n",
    "PATH = sys.path[0]\n",
    "figure_1 = plt.figure()\n",
    "\n",
    "student_resid1 = sm.regression.linear_model.OLSResults.outlier_test(OLS_out1)\n",
    "plt.scatter(OLS_out1.fittedvalues, student_resid1.student_resid)\n",
    "plt.xlabel('Fitted cases rate 1')\n",
    "plt.ylabel('Residual')\n",
    "plt.title('Figure 6: Residual vs. Fitted Plot of cases rate 1')\n",
    "plt.show()\n",
    "\n",
    "figure_1.savefig(PATH + '/res_1.png', dpi=300)"
   ]
  },
  {
   "cell_type": "code",
   "execution_count": 43,
   "metadata": {},
   "outputs": [
    {
     "data": {
      "text/plain": [
       "Text(0.5, 1.0, 'Figure 8:Q-Q')"
      ]
     },
     "execution_count": 43,
     "metadata": {},
     "output_type": "execute_result"
    },
    {
     "data": {
      "image/png": "[encoded data removed]",
      "text/plain": [
       "<Figure size 432x288 with 1 Axes>"
      ]
     },
     "metadata": {
      "needs_background": "light"
     },
     "output_type": "display_data"
    },
    {
     "name": "stderr",
     "output_type": "stream",
     "text": [
      "D:\\Anaconda\\lib\\site-packages\\matplotlib\\backends\\backend_agg.py:214: RuntimeWarning: Glyph 8722 missing from current font.\n",
      "  font.set_text(s, 0.0, flags=flags)\n",
      "D:\\Anaconda\\lib\\site-packages\\matplotlib\\backends\\backend_agg.py:183: RuntimeWarning: Glyph 8722 missing from current font.\n",
      "  font.set_text(s, 0, flags=flags)\n"
     ]
    },
    {
     "data": {
      "image/png": "[encoded data removed]",
      "text/plain": [
       "<Figure size 432x288 with 1 Axes>"
      ]
     },
     "metadata": {
      "needs_background": "light"
     },
     "output_type": "display_data"
    }
   ],
   "source": [
    "pp_qq_plot = sm.ProbPlot(student_resid1.student_resid)\n",
    "pp_qq_plot.ppplot(line = '45')\n",
    "plt.title('Figure 7: P-P')\n",
    "\n",
    "pp_qq_plot.qqplot(line = 'q')\n",
    "plt.title('Figure 8:Q-Q')"
   ]
  },
  {
   "cell_type": "code",
   "execution_count": 44,
   "metadata": {},
   "outputs": [],
   "source": [
    "df_temp1 = sm.regression.linear_model.OLSResults.outlier_test(OLS_out1)\n",
    "df_temp1 = df_temp1[[\"student_resid\"]]\n",
    "lockdown1['Residual'] = df_temp1"
   ]
  },
  {
   "cell_type": "code",
   "execution_count": 45,
   "metadata": {},
   "outputs": [
    {
     "name": "stdout",
     "output_type": "stream",
     "text": [
      "count                                   972.0000\n",
      "mean                                      0.0006\n",
      "std                                       1.0038\n",
      "min                                      -2.0843\n",
      "25%                                      -0.6478\n",
      "50%                                      -0.1408\n",
      "75%                                       0.4900\n",
      "max                                       6.2930\n",
      "Name: Residual, dtype: float64\n",
      "count                                   959.0000\n",
      "mean                                     -0.0535\n",
      "std                                       0.8890\n",
      "min                                      -2.0843\n",
      "25%                                      -0.6591\n",
      "50%                                      -0.1564\n",
      "75%                                       0.4524\n",
      "max                                       2.9075\n",
      "Name: Residual, dtype: float64\n"
     ]
    }
   ],
   "source": [
    "print(lockdown1.Residual.describe())\n",
    "lockdown1_final = lockdown1[(lockdown1[\"Residual\"]<3) & (lockdown1[\"Residual\"]>-3)]\n",
    "print(lockdown1_final.Residual.describe())"
   ]
  },
  {
   "cell_type": "code",
   "execution_count": 46,
   "metadata": {},
   "outputs": [
    {
     "name": "stdout",
     "output_type": "stream",
     "text": [
      "<class 'pandas.core.frame.DataFrame'>\n",
      "Int64Index: 959 entries, 0 to 982\n",
      "Data columns (total 21 columns):\n",
      " #   Column       Non-Null Count  Dtype  \n",
      "---  ------       --------------  -----  \n",
      " 0   Cases1       959 non-null    float64\n",
      " 1   NUK          959 non-null    float64\n",
      " 2   O65          959 non-null    float64\n",
      " 3   Bame         959 non-null    float64\n",
      " 4   Income       959 non-null    float64\n",
      " 5   HP           959 non-null    float64\n",
      " 6   OO           959 non-null    float64\n",
      " 7   OML          959 non-null    float64\n",
      " 8   SR           959 non-null    float64\n",
      " 9   PR           959 non-null    float64\n",
      " 10  NP           959 non-null    float64\n",
      " 11  Geo          959 non-null    float64\n",
      " 12  Density      959 non-null    float64\n",
      " 13  IMD          959 non-null    float64\n",
      " 14  Health       959 non-null    float64\n",
      " 15  AS           959 non-null    float64\n",
      " 16  Employment   959 non-null    float64\n",
      " 17  Education    959 non-null    float64\n",
      " 18  Crime        959 non-null    float64\n",
      " 19  Environment  959 non-null    float64\n",
      " 20  Residual     959 non-null    float64\n",
      "dtypes: float64(21)\n",
      "memory usage: 164.8 KB\n"
     ]
    }
   ],
   "source": [
    "lockdown1_final.info()"
   ]
  },
  {
   "cell_type": "code",
   "execution_count": 47,
   "metadata": {},
   "outputs": [
    {
     "data": {
      "text/html": [
       "<table class=\"simpletable\">\n",
       "<caption>OLS Regression Results</caption>\n",
       "<tr>\n",
       "  <th>Dep. Variable:</th>            <td>y</td>        <th>  R-squared:         </th> <td>   0.186</td> \n",
       "</tr>\n",
       "<tr>\n",
       "  <th>Model:</th>                   <td>OLS</td>       <th>  Adj. R-squared:    </th> <td>   0.176</td> \n",
       "</tr>\n",
       "<tr>\n",
       "  <th>Method:</th>             <td>Least Squares</td>  <th>  F-statistic:       </th> <td>   18.04</td> \n",
       "</tr>\n",
       "<tr>\n",
       "  <th>Date:</th>             <td>Mon, 23 Aug 2021</td> <th>  Prob (F-statistic):</th> <td>2.27e-35</td> \n",
       "</tr>\n",
       "<tr>\n",
       "  <th>Time:</th>                 <td>21:50:32</td>     <th>  Log-Likelihood:    </th> <td> -5993.0</td> \n",
       "</tr>\n",
       "<tr>\n",
       "  <th>No. Observations:</th>      <td>   959</td>      <th>  AIC:               </th> <td>1.201e+04</td>\n",
       "</tr>\n",
       "<tr>\n",
       "  <th>Df Residuals:</th>          <td>   946</td>      <th>  BIC:               </th> <td>1.208e+04</td>\n",
       "</tr>\n",
       "<tr>\n",
       "  <th>Df Model:</th>              <td>    12</td>      <th>                     </th>     <td> </td>    \n",
       "</tr>\n",
       "<tr>\n",
       "  <th>Covariance Type:</th>      <td>nonrobust</td>    <th>                     </th>     <td> </td>    \n",
       "</tr>\n",
       "</table>\n",
       "<table class=\"simpletable\">\n",
       "<tr>\n",
       "       <td></td>          <th>coef</th>     <th>std err</th>      <th>t</th>      <th>P>|t|</th>  <th>[0.025</th>    <th>0.975]</th>  \n",
       "</tr>\n",
       "<tr>\n",
       "  <th>const</th>       <td>  297.1742</td> <td>   35.843</td> <td>    8.291</td> <td> 0.000</td> <td>  226.834</td> <td>  367.515</td>\n",
       "</tr>\n",
       "<tr>\n",
       "  <th>O65</th>         <td>  256.1346</td> <td>  113.505</td> <td>    2.257</td> <td> 0.024</td> <td>   33.385</td> <td>  478.885</td>\n",
       "</tr>\n",
       "<tr>\n",
       "  <th>Bame</th>        <td>  254.0734</td> <td>   29.727</td> <td>    8.547</td> <td> 0.000</td> <td>  195.735</td> <td>  312.412</td>\n",
       "</tr>\n",
       "<tr>\n",
       "  <th>Income</th>      <td>  -68.8467</td> <td>  165.173</td> <td>   -0.417</td> <td> 0.677</td> <td> -392.994</td> <td>  255.300</td>\n",
       "</tr>\n",
       "<tr>\n",
       "  <th>HP</th>          <td>-9.865e-05</td> <td> 2.79e-05</td> <td>   -3.541</td> <td> 0.000</td> <td>   -0.000</td> <td> -4.4e-05</td>\n",
       "</tr>\n",
       "<tr>\n",
       "  <th>PR</th>          <td>   -3.3659</td> <td>    0.633</td> <td>   -5.317</td> <td> 0.000</td> <td>   -4.608</td> <td>   -2.124</td>\n",
       "</tr>\n",
       "<tr>\n",
       "  <th>NP</th>          <td>    3.7471</td> <td>    2.180</td> <td>    1.719</td> <td> 0.086</td> <td>   -0.530</td> <td>    8.024</td>\n",
       "</tr>\n",
       "<tr>\n",
       "  <th>Geo</th>         <td>   48.6210</td> <td>   11.726</td> <td>    4.147</td> <td> 0.000</td> <td>   25.609</td> <td>   71.633</td>\n",
       "</tr>\n",
       "<tr>\n",
       "  <th>Density</th>     <td>   -0.0106</td> <td>    0.095</td> <td>   -0.112</td> <td> 0.911</td> <td>   -0.196</td> <td>    0.175</td>\n",
       "</tr>\n",
       "<tr>\n",
       "  <th>Health</th>      <td>   25.8371</td> <td>   14.374</td> <td>    1.798</td> <td> 0.073</td> <td>   -2.371</td> <td>   54.045</td>\n",
       "</tr>\n",
       "<tr>\n",
       "  <th>Education</th>   <td>   -1.5223</td> <td>    0.807</td> <td>   -1.888</td> <td> 0.059</td> <td>   -3.105</td> <td>    0.060</td>\n",
       "</tr>\n",
       "<tr>\n",
       "  <th>Crime</th>       <td>  -34.0174</td> <td>   14.601</td> <td>   -2.330</td> <td> 0.020</td> <td>  -62.671</td> <td>   -5.364</td>\n",
       "</tr>\n",
       "<tr>\n",
       "  <th>Environment</th> <td>    1.7739</td> <td>    0.792</td> <td>    2.239</td> <td> 0.025</td> <td>    0.219</td> <td>    3.329</td>\n",
       "</tr>\n",
       "</table>\n",
       "<table class=\"simpletable\">\n",
       "<tr>\n",
       "  <th>Omnibus:</th>       <td>71.204</td> <th>  Durbin-Watson:     </th> <td>   1.642</td>\n",
       "</tr>\n",
       "<tr>\n",
       "  <th>Prob(Omnibus):</th> <td> 0.000</td> <th>  Jarque-Bera (JB):  </th> <td>  86.452</td>\n",
       "</tr>\n",
       "<tr>\n",
       "  <th>Skew:</th>          <td> 0.682</td> <th>  Prob(JB):          </th> <td>1.69e-19</td>\n",
       "</tr>\n",
       "<tr>\n",
       "  <th>Kurtosis:</th>      <td> 3.549</td> <th>  Cond. No.          </th> <td>2.35e+07</td>\n",
       "</tr>\n",
       "</table><br/><br/>Warnings:<br/>[1] Standard Errors assume that the covariance matrix of the errors is correctly specified.<br/>[2] The condition number is large, 2.35e+07. This might indicate that there are<br/>strong multicollinearity or other numerical problems."
      ],
      "text/plain": [
       "<class 'statsmodels.iolib.summary.Summary'>\n",
       "\"\"\"\n",
       "                            OLS Regression Results                            \n",
       "==============================================================================\n",
       "Dep. Variable:                      y   R-squared:                       0.186\n",
       "Model:                            OLS   Adj. R-squared:                  0.176\n",
       "Method:                 Least Squares   F-statistic:                     18.04\n",
       "Date:                Mon, 23 Aug 2021   Prob (F-statistic):           2.27e-35\n",
       "Time:                        21:50:32   Log-Likelihood:                -5993.0\n",
       "No. Observations:                 959   AIC:                         1.201e+04\n",
       "Df Residuals:                     946   BIC:                         1.208e+04\n",
       "Df Model:                          12                                         \n",
       "Covariance Type:            nonrobust                                         \n",
       "===============================================================================\n",
       "                  coef    std err          t      P>|t|      [0.025      0.975]\n",
       "-------------------------------------------------------------------------------\n",
       "const         297.1742     35.843      8.291      0.000     226.834     367.515\n",
       "O65           256.1346    113.505      2.257      0.024      33.385     478.885\n",
       "Bame          254.0734     29.727      8.547      0.000     195.735     312.412\n",
       "Income        -68.8467    165.173     -0.417      0.677    -392.994     255.300\n",
       "HP          -9.865e-05   2.79e-05     -3.541      0.000      -0.000    -4.4e-05\n",
       "PR             -3.3659      0.633     -5.317      0.000      -4.608      -2.124\n",
       "NP              3.7471      2.180      1.719      0.086      -0.530       8.024\n",
       "Geo            48.6210     11.726      4.147      0.000      25.609      71.633\n",
       "Density        -0.0106      0.095     -0.112      0.911      -0.196       0.175\n",
       "Health         25.8371     14.374      1.798      0.073      -2.371      54.045\n",
       "Education      -1.5223      0.807     -1.888      0.059      -3.105       0.060\n",
       "Crime         -34.0174     14.601     -2.330      0.020     -62.671      -5.364\n",
       "Environment     1.7739      0.792      2.239      0.025       0.219       3.329\n",
       "==============================================================================\n",
       "Omnibus:                       71.204   Durbin-Watson:                   1.642\n",
       "Prob(Omnibus):                  0.000   Jarque-Bera (JB):               86.452\n",
       "Skew:                           0.682   Prob(JB):                     1.69e-19\n",
       "Kurtosis:                       3.549   Cond. No.                     2.35e+07\n",
       "==============================================================================\n",
       "\n",
       "Warnings:\n",
       "[1] Standard Errors assume that the covariance matrix of the errors is correctly specified.\n",
       "[2] The condition number is large, 2.35e+07. This might indicate that there are\n",
       "strong multicollinearity or other numerical problems.\n",
       "\"\"\""
      ]
     },
     "execution_count": 47,
     "metadata": {},
     "output_type": "execute_result"
    }
   ],
   "source": [
    "predictors_lockdown1_final = lockdown1_final.drop({'Cases1','Residual','SR','IMD','Employment','AS','NUK','OO','OML'}, axis=1)\n",
    "response_lockdown1_final = lockdown1_final['Cases1']\n",
    "model1_final=predictors_lockdown1_final\n",
    "OLS_out1_final = sm.OLS(endog=response_lockdown1_final.values.tolist(), exog=sm.add_constant(model1_final)).fit()\n",
    "OLS_out1_final.summary()"
   ]
  },
  {
   "cell_type": "markdown",
   "metadata": {},
   "source": [
    "### 2.2.3 Lasso"
   ]
  },
  {
   "cell_type": "code",
   "execution_count": 48,
   "metadata": {},
   "outputs": [
    {
     "data": {
      "text/plain": [
       "Lasso(max_iter=100000000.0, normalize=True)"
      ]
     },
     "execution_count": 48,
     "metadata": {},
     "output_type": "execute_result"
    }
   ],
   "source": [
    "# increase the max_iter to guarantee convergence\n",
    "lasso_model1 = linear_model.Lasso(max_iter=10e7, normalize=True)\n",
    "response_data1 = lockdown1[['Cases1']]\n",
    "predictors_data1 = lockdown1.drop(columns=['Cases1','Residual'], axis=1)\n",
    "lasso_model1.fit(X=predictors_data1, y=response_data1)"
   ]
  },
  {
   "cell_type": "code",
   "execution_count": 49,
   "metadata": {},
   "outputs": [
    {
     "data": {
      "text/plain": [
       "0.017266533243048943"
      ]
     },
     "execution_count": 49,
     "metadata": {},
     "output_type": "execute_result"
    }
   ],
   "source": [
    "lasso_model1.score(X=predictors_data1, y=response_data1)"
   ]
  },
  {
   "cell_type": "code",
   "execution_count": 50,
   "metadata": {},
   "outputs": [
    {
     "name": "stdout",
     "output_type": "stream",
     "text": [
      "            var                                     coef\n",
      "0           NUK                                   0.0000\n",
      "1           O65                                   0.0000\n",
      "2          Bame                                   8.6662\n",
      "3        Income                                   0.0000\n",
      "4            HP                                  -0.0000\n",
      "5            OO                                   0.0000\n",
      "6           OML                                   0.0000\n",
      "7            SR                                   0.0000\n",
      "8            PR                                  -0.0000\n",
      "9            NP                                  -0.0000\n",
      "10          Geo                                   0.0000\n",
      "11      Density                                  -0.0000\n",
      "12          IMD                                   0.0000\n",
      "13       Health                                   0.0000\n",
      "14           AS                                   0.0000\n",
      "15   Employment                                   0.0000\n",
      "16    Education                                   0.0000\n",
      "17        Crime                                  -0.0000\n",
      "18  Environment                                  -0.0000\n"
     ]
    }
   ],
   "source": [
    "# print(lasso_model.coef_)\n",
    "df_coef_lasso1 = pd.DataFrame({\"var\":predictors_data1.columns.values, \"coef\":lasso_model1.coef_})\n",
    "print(df_coef_lasso1)"
   ]
  },
  {
   "cell_type": "code",
   "execution_count": 51,
   "metadata": {},
   "outputs": [
    {
     "name": "stderr",
     "output_type": "stream",
     "text": [
      "D:\\Anaconda\\lib\\site-packages\\sklearn\\linear_model\\_coordinate_descent.py:525: ConvergenceWarning: Objective did not converge. You might want to increase the number of iterations. Duality gap: 1147452.3443356715, tolerance: 10454.843393\n",
      "  model = cd_fast.enet_coordinate_descent_gram(\n"
     ]
    },
    {
     "data": {
      "text/plain": [
       "(-1.25, 4.25, -83.43282823733503, 97.424523140178)"
      ]
     },
     "execution_count": 51,
     "metadata": {},
     "output_type": "execute_result"
    },
    {
     "name": "stderr",
     "output_type": "stream",
     "text": [
      "D:\\Anaconda\\lib\\site-packages\\matplotlib\\backends\\backend_agg.py:214: RuntimeWarning: Glyph 8722 missing from current font.\n",
      "  font.set_text(s, 0.0, flags=flags)\n",
      "D:\\Anaconda\\lib\\site-packages\\matplotlib\\backends\\backend_agg.py:183: RuntimeWarning: Glyph 8722 missing from current font.\n",
      "  font.set_text(s, 0, flags=flags)\n"
     ]
    },
    {
     "data": {
      "image/png": "[encoded data removed]",
      "text/plain": [
       "<Figure size 432x288 with 1 Axes>"
      ]
     },
     "metadata": {
      "needs_background": "light"
     },
     "output_type": "display_data"
    }
   ],
   "source": [
    "predictors_data_standardised1 = predictors_data1/predictors_data1.std(axis=0)\n",
    "\n",
    "# alphas_lasso1, coefs_lasso1, _ = lasso_path(predictors_data, response_data, alphas = [.1, .5, 1, 10, 100], fit_intercept=False)\n",
    "alphas_lasso1, coefs_lasso1, _ = lasso_path(predictors_data_standardised1, response_data1.values.reshape(-1),alphas = [.1, .5, 1, 10, 100, 1000, 10000], fit_intercept=False)\n",
    "# print(alphas_lasso1.shape)\n",
    "# print(coefs_lasso1.shape)\n",
    "\n",
    "log_alphas_lasso1 = np.log10(alphas_lasso1)\n",
    "for coef_l in coefs_lasso1:\n",
    "    l1 = plt.plot(log_alphas_lasso1, coef_l)\n",
    "\n",
    "plt.xlabel('Log(alpha)')\n",
    "plt.ylabel('coefficients')\n",
    "plt.title('Figure 9: Lasso Path')\n",
    "plt.axis('tight')"
   ]
  },
  {
   "cell_type": "markdown",
   "metadata": {},
   "source": [
    "### 2.2.4 Regression Tree"
   ]
  },
  {
   "cell_type": "code",
   "execution_count": 52,
   "metadata": {},
   "outputs": [
    {
     "name": "stdout",
     "output_type": "stream",
     "text": [
      "(671, 19)\n",
      "(144, 19)\n",
      "(144, 19)\n"
     ]
    }
   ],
   "source": [
    "# We apply train_test_split twice to obtain the three train, dev and test sets\n",
    "y = lockdown1_final[['Cases1']]\n",
    "X = lockdown1_final.drop(columns=['Cases1','Residual'], axis=1)\n",
    "X_train, X_test, y_train, y_test = train_test_split(X, y, test_size=0.3, random_state=1)\n",
    "X_val, X_test, y_val, y_test = train_test_split(X_test, y_test, test_size=0.5, random_state=2020)\n",
    "print(X_train.shape)\n",
    "print(X_val.shape)\n",
    "print(X_test.shape)"
   ]
  },
  {
   "cell_type": "code",
   "execution_count": 53,
   "metadata": {},
   "outputs": [
    {
     "data": {
      "text/plain": [
       "0.5656179072940544"
      ]
     },
     "execution_count": 53,
     "metadata": {},
     "output_type": "execute_result"
    }
   ],
   "source": [
    "reg_tree = DecisionTreeRegressor(random_state=0,max_depth=8)\n",
    "reg_tree.fit(X_train, y_train.values.ravel())\n",
    "reg_tree.score(X=X_train, y=y_train)"
   ]
  },
  {
   "cell_type": "code",
   "execution_count": 54,
   "metadata": {},
   "outputs": [
    {
     "data": {
      "text/plain": [
       "-0.07708295887432781"
      ]
     },
     "execution_count": 54,
     "metadata": {},
     "output_type": "execute_result"
    }
   ],
   "source": [
    "reg_tree.score(X=X_val, y=y_val)"
   ]
  },
  {
   "cell_type": "markdown",
   "metadata": {},
   "source": [
    "### 2.2.4.1 Optimise hyperparameters of the ML model"
   ]
  },
  {
   "cell_type": "code",
   "execution_count": 55,
   "metadata": {},
   "outputs": [],
   "source": [
    "# number of trees to tune\n",
    "depth = [1,2,3,4,5,6,7,8,9,10,11,12,13,14,15,16,17,18,19,20]\n",
    "\n",
    "# process of tune the number of trees\n",
    "max_score = 0\n",
    "best_depth = None\n",
    "for t in depth:\n",
    "    m = DecisionTreeRegressor(random_state=0,max_depth=t).fit(X_train,y_train)\n",
    "    score = m.score(X_val, y_val)\n",
    "    if score > max_score:\n",
    "        max_score = score\n",
    "        best_depth = t"
   ]
  },
  {
   "cell_type": "code",
   "execution_count": 56,
   "metadata": {},
   "outputs": [
    {
     "data": {
      "text/plain": [
       "0.05395178727101402"
      ]
     },
     "execution_count": 56,
     "metadata": {},
     "output_type": "execute_result"
    }
   ],
   "source": [
    "max_score"
   ]
  },
  {
   "cell_type": "code",
   "execution_count": 57,
   "metadata": {},
   "outputs": [
    {
     "data": {
      "text/plain": [
       "4"
      ]
     },
     "execution_count": 57,
     "metadata": {},
     "output_type": "execute_result"
    }
   ],
   "source": [
    "best_depth"
   ]
  },
  {
   "cell_type": "code",
   "execution_count": 58,
   "metadata": {},
   "outputs": [
    {
     "data": {
      "text/plain": [
       "DecisionTreeRegressor(max_depth=4, random_state=0)"
      ]
     },
     "execution_count": 58,
     "metadata": {},
     "output_type": "execute_result"
    }
   ],
   "source": [
    "rt_final = DecisionTreeRegressor(random_state=0,max_depth=best_depth)\n",
    "rt_final.fit(X_train, y_train)"
   ]
  },
  {
   "cell_type": "code",
   "execution_count": 59,
   "metadata": {},
   "outputs": [
    {
     "name": "stdout",
     "output_type": "stream",
     "text": [
      "The score on the training data:\n",
      "0.2347047012232505\n",
      "The score on the development data:\n",
      "0.05395178727101402\n"
     ]
    }
   ],
   "source": [
    "print('The score on the training data:')\n",
    "print(rt_final.score(X_train, y_train))\n",
    "print('The score on the development data:')\n",
    "print(rt_final.score(X_val, y_val))"
   ]
  },
  {
   "cell_type": "markdown",
   "metadata": {},
   "source": [
    "### 2.2.4.2 Cross-validation"
   ]
  },
  {
   "cell_type": "code",
   "execution_count": 60,
   "metadata": {},
   "outputs": [
    {
     "name": "stdout",
     "output_type": "stream",
     "text": [
      "The best parameter value is: \n",
      "{'max_depth': 1}\n",
      "The best score is: \n",
      "0.039457941508209624\n"
     ]
    }
   ],
   "source": [
    "# values of n_estimators\n",
    "parameters = {'max_depth':[1,2,3,4,5,6,7,8,9,10,11,12,13,14,15,16,17,18,19,20]}\n",
    "rt = DecisionTreeRegressor()\n",
    "\n",
    "clt = model_selection.GridSearchCV(rt, parameters)\n",
    "clt.fit(X_train, y_train)\n",
    "\n",
    "# we can query the best parameter value and its accuracy score\n",
    "print (\"The best parameter value is: \")\n",
    "print (clt.best_params_)\n",
    "print (\"The best score is: \")\n",
    "print (clt.best_score_)"
   ]
  },
  {
   "cell_type": "code",
   "execution_count": 61,
   "metadata": {},
   "outputs": [],
   "source": [
    "max_depth_range = [1,2,3,4,5,6,7,8,9,10,11,12,13,14,15,16,17,18,19,20]\n",
    "\n",
    "train_scores, valid_scores = validation_curve(estimator=DecisionTreeRegressor(), \n",
    "                                              X=X_train, y=y_train, \n",
    "                                              param_name=\"max_depth\",\n",
    "                                              param_range=max_depth_range,\n",
    "                                              cv=5)"
   ]
  },
  {
   "cell_type": "code",
   "execution_count": 62,
   "metadata": {},
   "outputs": [
    {
     "data": {
      "image/png": "[encoded data removed]",
      "text/plain": [
       "<Figure size 432x288 with 1 Axes>"
      ]
     },
     "metadata": {
      "needs_background": "light"
     },
     "output_type": "display_data"
    }
   ],
   "source": [
    "# plotting the validation curve\n",
    "train_scores_mean = np.mean(train_scores, axis=1)\n",
    "train_scores_std = np.std(train_scores, axis=1)\n",
    "valid_scores_mean = np.mean(valid_scores, axis=1)\n",
    "valid_scores_std = np.std(valid_scores, axis=1)\n",
    "\n",
    "plt.title(\"Figure 10: Validation Curve with Regression Tree\")\n",
    "plt.xlabel(r\"depth\")\n",
    "plt.ylabel(\"Score\")\n",
    "plt.ylim(0.1, 1.0)\n",
    "#plt.xlim(1, 20)\n",
    "lw = 2\n",
    "plt.semilogx(max_depth_range, train_scores_mean, label=\"Training score\",\n",
    "             color=\"darkorange\", lw=lw)\n",
    "plt.fill_between(max_depth_range, train_scores_mean - train_scores_std,\n",
    "                 train_scores_mean + train_scores_std, alpha=0.2,\n",
    "                 color=\"darkorange\", lw=lw)\n",
    "plt.semilogx(max_depth_range, valid_scores_mean, label=\"Cross-validation score\",\n",
    "             color=\"navy\", lw=lw)\n",
    "plt.fill_between(max_depth_range, valid_scores_mean - valid_scores_std,\n",
    "                 valid_scores_mean + valid_scores_std, alpha=0.2,\n",
    "                 color=\"navy\", lw=lw)\n",
    "plt.legend(loc=\"best\")\n",
    "plt.show()"
   ]
  },
  {
   "cell_type": "code",
   "execution_count": 63,
   "metadata": {},
   "outputs": [
    {
     "data": {
      "text/plain": [
       "0.2043221889792166"
      ]
     },
     "execution_count": 63,
     "metadata": {},
     "output_type": "execute_result"
    }
   ],
   "source": [
    "rt_final.score(X_test, y_test)"
   ]
  },
  {
   "cell_type": "code",
   "execution_count": 64,
   "metadata": {},
   "outputs": [
    {
     "name": "stdout",
     "output_type": "stream",
     "text": [
      "Feature: 0, Score: 0.00000\n",
      "Feature: 1, Score: 0.04703\n",
      "Feature: 2, Score: 0.12319\n",
      "Feature: 3, Score: 0.00000\n",
      "Feature: 4, Score: 0.05972\n",
      "Feature: 5, Score: 0.04864\n",
      "Feature: 6, Score: 0.00000\n",
      "Feature: 7, Score: 0.07865\n",
      "Feature: 8, Score: 0.00000\n",
      "Feature: 9, Score: 0.02313\n",
      "Feature: 10, Score: 0.15365\n",
      "Feature: 11, Score: 0.00000\n",
      "Feature: 12, Score: 0.00000\n",
      "Feature: 13, Score: 0.00000\n",
      "Feature: 14, Score: 0.35213\n",
      "Feature: 15, Score: 0.00000\n",
      "Feature: 16, Score: 0.00000\n",
      "Feature: 17, Score: 0.08772\n",
      "Feature: 18, Score: 0.02614\n"
     ]
    },
    {
     "data": {
      "image/png": "[encoded data removed]",
      "text/plain": [
       "<Figure size 432x288 with 1 Axes>"
      ]
     },
     "metadata": {
      "needs_background": "light"
     },
     "output_type": "display_data"
    }
   ],
   "source": [
    "importance = rt_final.feature_importances_\n",
    "# summarize feature importance\n",
    "for i,v in enumerate(importance):\n",
    " print('Feature: %0d, Score: %.5f' % (i,v))\n",
    "# plot feature importance\n",
    "plt.bar([x for x in range(len(importance))], importance)\n",
    "plt.title('Figure 11: Feature Importances of Regression Tree')\n",
    "plt.show()"
   ]
  },
  {
   "cell_type": "markdown",
   "metadata": {},
   "source": [
    "### 2.2.5 Random Forest"
   ]
  },
  {
   "cell_type": "code",
   "execution_count": 65,
   "metadata": {},
   "outputs": [
    {
     "data": {
      "text/plain": [
       "0.8760377953464273"
      ]
     },
     "execution_count": 65,
     "metadata": {},
     "output_type": "execute_result"
    }
   ],
   "source": [
    "rf = RandomForestRegressor(n_estimators=100)\n",
    "rf.fit(X_train,y_train.values.ravel())\n",
    "rf.score(X_train, y_train)"
   ]
  },
  {
   "cell_type": "code",
   "execution_count": 66,
   "metadata": {},
   "outputs": [
    {
     "data": {
      "text/plain": [
       "0.15262569737174125"
      ]
     },
     "execution_count": 66,
     "metadata": {},
     "output_type": "execute_result"
    }
   ],
   "source": [
    "rf.score(X_val, y_val)"
   ]
  },
  {
   "cell_type": "markdown",
   "metadata": {},
   "source": [
    "### 2.2.5.1 Optimise hyperparameters of the ML model"
   ]
  },
  {
   "cell_type": "code",
   "execution_count": 67,
   "metadata": {},
   "outputs": [],
   "source": [
    "# number of trees to tune\n",
    "no_trees = [10,20,30,40,50,70,100,150,200]\n",
    "\n",
    "# process of tune the number of trees\n",
    "max_score = 0\n",
    "best_no_trees = None\n",
    "for t in no_trees:\n",
    "    m = RandomForestRegressor(n_estimators=t).fit(X_train,y_train.values.ravel())\n",
    "    score = m.score(X_val, y_val)\n",
    "    if score > max_score:\n",
    "        max_score = score\n",
    "        best_no_trees = t"
   ]
  },
  {
   "cell_type": "code",
   "execution_count": 68,
   "metadata": {},
   "outputs": [
    {
     "data": {
      "text/plain": [
       "0.13900357187398504"
      ]
     },
     "execution_count": 68,
     "metadata": {},
     "output_type": "execute_result"
    }
   ],
   "source": [
    "max_score"
   ]
  },
  {
   "cell_type": "code",
   "execution_count": 69,
   "metadata": {},
   "outputs": [
    {
     "data": {
      "text/plain": [
       "200"
      ]
     },
     "execution_count": 69,
     "metadata": {},
     "output_type": "execute_result"
    }
   ],
   "source": [
    "best_no_trees"
   ]
  },
  {
   "cell_type": "code",
   "execution_count": 70,
   "metadata": {},
   "outputs": [
    {
     "data": {
      "text/plain": [
       "RandomForestRegressor(n_estimators=200)"
      ]
     },
     "execution_count": 70,
     "metadata": {},
     "output_type": "execute_result"
    }
   ],
   "source": [
    "rf_final = RandomForestRegressor(n_estimators=best_no_trees)\n",
    "rf_final.fit(X_train, y_train.values.ravel())"
   ]
  },
  {
   "cell_type": "code",
   "execution_count": 71,
   "metadata": {},
   "outputs": [
    {
     "name": "stdout",
     "output_type": "stream",
     "text": [
      "The score on the training data:\n",
      "0.8784374878562822\n",
      "The score on the development data:\n",
      "0.13155947173439553\n"
     ]
    }
   ],
   "source": [
    "print('The score on the training data:')\n",
    "print(rf_final.score(X_train, y_train))\n",
    "print('The score on the development data:')\n",
    "print(rf_final.score(X_val, y_val))"
   ]
  },
  {
   "cell_type": "markdown",
   "metadata": {},
   "source": [
    "### 2.2.5.2 Cross-validation"
   ]
  },
  {
   "cell_type": "code",
   "execution_count": 72,
   "metadata": {},
   "outputs": [
    {
     "name": "stdout",
     "output_type": "stream",
     "text": [
      "The best parameter value is: \n",
      "{'n_estimators': 200}\n",
      "The best score is: \n",
      "0.09503579694623705\n"
     ]
    }
   ],
   "source": [
    "# values of n_estimators\n",
    "parameters = {'n_estimators':[10,20,30,40,50,70,100,150,200]}\n",
    "rf = RandomForestRegressor()\n",
    "\n",
    "clf = model_selection.GridSearchCV(rf, parameters)\n",
    "\n",
    "clf.fit(X_train, y_train.values.ravel())\n",
    "\n",
    "# we can query the best parameter value and its accuracy score\n",
    "print (\"The best parameter value is: \")\n",
    "print (clf.best_params_)\n",
    "print (\"The best score is: \")\n",
    "print (clf.best_score_)"
   ]
  },
  {
   "cell_type": "code",
   "execution_count": 73,
   "metadata": {},
   "outputs": [],
   "source": [
    "n_estimators_range = [10,20,30,40,50,70,100,150,200]\n",
    "\n",
    "train_scores, valid_scores = validation_curve(estimator=RandomForestRegressor(), \n",
    "                                              X=X_train, y=y_train.values.ravel(),\n",
    "                                              param_name=\"n_estimators\",\n",
    "                                              param_range=n_estimators_range,\n",
    "                                              cv=5)"
   ]
  },
  {
   "cell_type": "code",
   "execution_count": 74,
   "metadata": {},
   "outputs": [
    {
     "data": {
      "image/png": "[encoded data removed]",
      "text/plain": [
       "<Figure size 432x288 with 1 Axes>"
      ]
     },
     "metadata": {
      "needs_background": "light"
     },
     "output_type": "display_data"
    }
   ],
   "source": [
    "# plotting the validation curve\n",
    "train_scores_mean = np.mean(train_scores, axis=1)\n",
    "train_scores_std = np.std(train_scores, axis=1)\n",
    "valid_scores_mean = np.mean(valid_scores, axis=1)\n",
    "valid_scores_std = np.std(valid_scores, axis=1)\n",
    "\n",
    "plt.title(\"Figure 12: Validation Curve with Random Forest\")\n",
    "plt.xlabel(r\"number of trees\")\n",
    "plt.ylabel(\"Score\")\n",
    "plt.ylim(0.3, 1.0)\n",
    "lw = 2\n",
    "plt.semilogx(n_estimators_range, train_scores_mean, label=\"Training score\",\n",
    "             color=\"darkorange\", lw=lw)\n",
    "plt.fill_between(n_estimators_range, train_scores_mean - train_scores_std,\n",
    "                 train_scores_mean + train_scores_std, alpha=0.2,\n",
    "                 color=\"darkorange\", lw=lw)\n",
    "plt.semilogx(n_estimators_range, valid_scores_mean, label=\"Cross-validation score\",\n",
    "             color=\"navy\", lw=lw)\n",
    "plt.fill_between(n_estimators_range, valid_scores_mean - valid_scores_std,\n",
    "                 valid_scores_mean + valid_scores_std, alpha=0.2,\n",
    "                 color=\"navy\", lw=lw)\n",
    "plt.legend(loc=\"best\")\n",
    "plt.show()"
   ]
  },
  {
   "cell_type": "code",
   "execution_count": 75,
   "metadata": {},
   "outputs": [
    {
     "data": {
      "text/plain": [
       "0.27597541072518006"
      ]
     },
     "execution_count": 75,
     "metadata": {},
     "output_type": "execute_result"
    }
   ],
   "source": [
    "rf_final.score(X_test, y_test)"
   ]
  },
  {
   "cell_type": "code",
   "execution_count": 76,
   "metadata": {},
   "outputs": [
    {
     "name": "stdout",
     "output_type": "stream",
     "text": [
      "Feature: 0, Score: 0.03990\n",
      "Feature: 1, Score: 0.06850\n",
      "Feature: 2, Score: 0.08360\n",
      "Feature: 3, Score: 0.02075\n",
      "Feature: 4, Score: 0.06210\n",
      "Feature: 5, Score: 0.04474\n",
      "Feature: 6, Score: 0.04245\n",
      "Feature: 7, Score: 0.03641\n",
      "Feature: 8, Score: 0.05233\n",
      "Feature: 9, Score: 0.05397\n",
      "Feature: 10, Score: 0.06645\n",
      "Feature: 11, Score: 0.05304\n",
      "Feature: 12, Score: 0.02828\n",
      "Feature: 13, Score: 0.04217\n",
      "Feature: 14, Score: 0.12638\n",
      "Feature: 15, Score: 0.02922\n",
      "Feature: 16, Score: 0.05044\n",
      "Feature: 17, Score: 0.04792\n",
      "Feature: 18, Score: 0.05135\n"
     ]
    },
    {
     "data": {
      "image/png": "[encoded data removed]",
      "text/plain": [
       "<Figure size 432x288 with 1 Axes>"
      ]
     },
     "metadata": {
      "needs_background": "light"
     },
     "output_type": "display_data"
    }
   ],
   "source": [
    "importance = rf_final.feature_importances_\n",
    "# summarize feature importance\n",
    "for i,v in enumerate(importance):\n",
    " print('Feature: %0d, Score: %.5f' % (i,v))\n",
    "# plot feature importance\n",
    "plt.bar([x for x in range(len(importance))], importance)\n",
    "plt.title('Figure 13: Feature Importances of Random Forest')\n",
    "plt.show()"
   ]
  },
  {
   "cell_type": "markdown",
   "metadata": {},
   "source": []
  },
  {
   "cell_type": "code",
   "execution_count": null,
   "metadata": {},
   "outputs": [],
   "source": []
  },
  {
   "cell_type": "markdown",
   "metadata": {},
   "source": [
    "### 2.3 Lockdown2"
   ]
  },
  {
   "cell_type": "markdown",
   "metadata": {},
   "source": [
    "### 2.3.1 Linear regression"
   ]
  },
  {
   "cell_type": "code",
   "execution_count": 77,
   "metadata": {},
   "outputs": [],
   "source": [
    "lockdown2 = covid.drop(columns=['MSOA Code','Cases1','Cases3'], axis=1)"
   ]
  },
  {
   "cell_type": "code",
   "execution_count": 78,
   "metadata": {},
   "outputs": [],
   "source": [
    "lockdown2.dropna(inplace=True)  "
   ]
  },
  {
   "cell_type": "code",
   "execution_count": 79,
   "metadata": {},
   "outputs": [
    {
     "name": "stdout",
     "output_type": "stream",
     "text": [
      "<class 'pandas.core.frame.DataFrame'>\n",
      "Int64Index: 983 entries, 0 to 982\n",
      "Data columns (total 20 columns):\n",
      " #   Column       Non-Null Count  Dtype  \n",
      "---  ------       --------------  -----  \n",
      " 0   Cases2       983 non-null    float64\n",
      " 1   NUK          983 non-null    float64\n",
      " 2   O65          983 non-null    float64\n",
      " 3   Bame         983 non-null    float64\n",
      " 4   Income       983 non-null    float64\n",
      " 5   HP           983 non-null    float64\n",
      " 6   OO           983 non-null    float64\n",
      " 7   OML          983 non-null    float64\n",
      " 8   SR           983 non-null    float64\n",
      " 9   PR           983 non-null    float64\n",
      " 10  NP           983 non-null    float64\n",
      " 11  Geo          983 non-null    float64\n",
      " 12  Density      983 non-null    float64\n",
      " 13  IMD          983 non-null    float64\n",
      " 14  Health       983 non-null    float64\n",
      " 15  AS           983 non-null    float64\n",
      " 16  Employment   983 non-null    float64\n",
      " 17  Education    983 non-null    float64\n",
      " 18  Crime        983 non-null    float64\n",
      " 19  Environment  983 non-null    float64\n",
      "dtypes: float64(20)\n",
      "memory usage: 161.3 KB\n"
     ]
    }
   ],
   "source": [
    "lockdown2.info()"
   ]
  },
  {
   "cell_type": "code",
   "execution_count": 80,
   "metadata": {},
   "outputs": [
    {
     "name": "stdout",
     "output_type": "stream",
     "text": [
      "Max VIF: 266.1938362730804\n",
      "Dropping: SR\n",
      "Max VIF: 61.32049078866528\n",
      "Dropping: IMD\n",
      "Max VIF: 24.93899073033301\n",
      "Dropping: Employment\n",
      "Max VIF: 17.13978788455599\n",
      "Dropping: AS\n",
      "Max VIF: 10.872470876540106\n",
      "Dropping: NUK\n",
      "Max VIF: 7.59816490376188\n",
      "Dropping: OO\n",
      "Max VIF: 5.202583774734417\n",
      "Dropping: OML\n",
      "Max VIF: 4.402340336366497\n",
      "The columns remaining after VIF selection are:\n",
      "Index(['O65', 'Bame', 'Income', 'HP', 'PR', 'NP', 'Geo', 'Density', 'Health',\n",
      "       'Education', 'Crime', 'Environment'],\n",
      "      dtype='object')\n"
     ]
    }
   ],
   "source": [
    "# using VIF on the bike_rental dataset\n",
    "predictors_lockdown2 = lockdown2.drop({'Cases2'}, axis=1)\n",
    "response_lockdown2 = lockdown2['Cases2']\n",
    "\n",
    "# this is a list of dummy variables that represent a categorical variable with three or more categories. They should not be removed even if it has a high VIF. \n",
    "list_var_not_to_remove = ['Income']\n",
    "df_predictors_select_VIF = drop_column_using_vif_(predictors_lockdown2,list_var_not_to_remove, thresh=5)\n",
    "print(\"The columns remaining after VIF selection are:\")\n",
    "print(df_predictors_select_VIF.columns)"
   ]
  },
  {
   "cell_type": "code",
   "execution_count": 81,
   "metadata": {},
   "outputs": [
    {
     "name": "stdout",
     "output_type": "stream",
     "text": [
      "Max VIF: 5.202583774734417\n",
      "Dropping: OML\n",
      "Max VIF: 4.402340336366497\n",
      "The columns remaining after VIF selection are:\n",
      "Index(['O65', 'Bame', 'Income', 'HP', 'PR', 'NP', 'Geo', 'Density', 'Health',\n",
      "       'Education', 'Crime', 'Environment'],\n",
      "      dtype='object')\n"
     ]
    }
   ],
   "source": [
    "# using VIF on the bike_rental dataset\n",
    "predictors_lockdown2 = lockdown2.drop({'Cases2','SR','IMD','Employment','AS','NUK','OO'}, axis=1)\n",
    "response_lockdown2 = lockdown2['Cases2']\n",
    "\n",
    "# this is a list of dummy variables that represent a categorical variable with three or more categories. They should not be removed even if it has a high VIF. \n",
    "list_var_not_to_remove = ['Income']\n",
    "df_predictors_select_VIF = drop_column_using_vif_(predictors_lockdown2,list_var_not_to_remove, thresh=5)\n",
    "print(\"The columns remaining after VIF selection are:\")\n",
    "print(df_predictors_select_VIF.columns)"
   ]
  },
  {
   "cell_type": "code",
   "execution_count": 82,
   "metadata": {},
   "outputs": [
    {
     "name": "stdout",
     "output_type": "stream",
     "text": [
      "Max VIF: 4.402340336366497\n",
      "The columns remaining after VIF selection are:\n",
      "Index(['O65', 'Bame', 'Income', 'HP', 'PR', 'NP', 'Geo', 'Density', 'Health',\n",
      "       'Education', 'Crime', 'Environment'],\n",
      "      dtype='object')\n"
     ]
    }
   ],
   "source": [
    "# using VIF on the bike_rental dataset\n",
    "predictors_lockdown2 = lockdown2.drop({'Cases2','SR','IMD','Employment','AS','NUK','OO','OML'}, axis=1)\n",
    "response_lockdown2 = lockdown2['Cases2']\n",
    "\n",
    "# this is a list of dummy variables that represent a categorical variable with three or more categories. They should not be removed even if it has a high VIF. \n",
    "list_var_not_to_remove = ['Income']\n",
    "df_predictors_select_VIF = drop_column_using_vif_(predictors_lockdown2,list_var_not_to_remove, thresh=5)\n",
    "print(\"The columns remaining after VIF selection are:\")\n",
    "print(df_predictors_select_VIF.columns)"
   ]
  },
  {
   "cell_type": "code",
   "execution_count": 83,
   "metadata": {},
   "outputs": [
    {
     "data": {
      "text/html": [
       "<table class=\"simpletable\">\n",
       "<caption>OLS Regression Results</caption>\n",
       "<tr>\n",
       "  <th>Dep. Variable:</th>            <td>y</td>        <th>  R-squared:         </th> <td>   0.163</td> \n",
       "</tr>\n",
       "<tr>\n",
       "  <th>Model:</th>                   <td>OLS</td>       <th>  Adj. R-squared:    </th> <td>   0.153</td> \n",
       "</tr>\n",
       "<tr>\n",
       "  <th>Method:</th>             <td>Least Squares</td>  <th>  F-statistic:       </th> <td>   15.74</td> \n",
       "</tr>\n",
       "<tr>\n",
       "  <th>Date:</th>             <td>Mon, 23 Aug 2021</td> <th>  Prob (F-statistic):</th> <td>9.56e-31</td> \n",
       "</tr>\n",
       "<tr>\n",
       "  <th>Time:</th>                 <td>21:51:39</td>     <th>  Log-Likelihood:    </th> <td> -6993.4</td> \n",
       "</tr>\n",
       "<tr>\n",
       "  <th>No. Observations:</th>      <td>   983</td>      <th>  AIC:               </th> <td>1.401e+04</td>\n",
       "</tr>\n",
       "<tr>\n",
       "  <th>Df Residuals:</th>          <td>   970</td>      <th>  BIC:               </th> <td>1.408e+04</td>\n",
       "</tr>\n",
       "<tr>\n",
       "  <th>Df Model:</th>              <td>    12</td>      <th>                     </th>     <td> </td>    \n",
       "</tr>\n",
       "<tr>\n",
       "  <th>Covariance Type:</th>      <td>nonrobust</td>    <th>                     </th>     <td> </td>    \n",
       "</tr>\n",
       "</table>\n",
       "<table class=\"simpletable\">\n",
       "<tr>\n",
       "       <td></td>          <th>coef</th>     <th>std err</th>      <th>t</th>      <th>P>|t|</th>  <th>[0.025</th>    <th>0.975]</th>  \n",
       "</tr>\n",
       "<tr>\n",
       "  <th>const</th>       <td> 1053.9748</td> <td>   83.616</td> <td>   12.605</td> <td> 0.000</td> <td>  889.886</td> <td> 1218.064</td>\n",
       "</tr>\n",
       "<tr>\n",
       "  <th>O65</th>         <td>  180.2893</td> <td>  267.300</td> <td>    0.674</td> <td> 0.500</td> <td> -344.264</td> <td>  704.842</td>\n",
       "</tr>\n",
       "<tr>\n",
       "  <th>Bame</th>        <td>  521.1958</td> <td>   69.580</td> <td>    7.491</td> <td> 0.000</td> <td>  384.651</td> <td>  657.741</td>\n",
       "</tr>\n",
       "<tr>\n",
       "  <th>Income</th>      <td>-3009.0355</td> <td>  388.204</td> <td>   -7.751</td> <td> 0.000</td> <td>-3770.851</td> <td>-2247.220</td>\n",
       "</tr>\n",
       "<tr>\n",
       "  <th>HP</th>          <td> 6.817e-05</td> <td> 6.49e-05</td> <td>    1.050</td> <td> 0.294</td> <td>-5.92e-05</td> <td>    0.000</td>\n",
       "</tr>\n",
       "<tr>\n",
       "  <th>PR</th>          <td>   -0.5358</td> <td>    1.478</td> <td>   -0.362</td> <td> 0.717</td> <td>   -3.437</td> <td>    2.365</td>\n",
       "</tr>\n",
       "<tr>\n",
       "  <th>NP</th>          <td>   -2.4751</td> <td>    5.097</td> <td>   -0.486</td> <td> 0.627</td> <td>  -12.477</td> <td>    7.527</td>\n",
       "</tr>\n",
       "<tr>\n",
       "  <th>Geo</th>         <td>  -65.0546</td> <td>   27.432</td> <td>   -2.371</td> <td> 0.018</td> <td> -118.888</td> <td>  -11.221</td>\n",
       "</tr>\n",
       "<tr>\n",
       "  <th>Density</th>     <td>   -0.4259</td> <td>    0.222</td> <td>   -1.921</td> <td> 0.055</td> <td>   -0.861</td> <td>    0.009</td>\n",
       "</tr>\n",
       "<tr>\n",
       "  <th>Health</th>      <td>   61.8779</td> <td>   33.308</td> <td>    1.858</td> <td> 0.064</td> <td>   -3.486</td> <td>  127.242</td>\n",
       "</tr>\n",
       "<tr>\n",
       "  <th>Education</th>   <td>   18.2554</td> <td>    1.903</td> <td>    9.593</td> <td> 0.000</td> <td>   14.521</td> <td>   21.990</td>\n",
       "</tr>\n",
       "<tr>\n",
       "  <th>Crime</th>       <td>    5.6115</td> <td>   33.689</td> <td>    0.167</td> <td> 0.868</td> <td>  -60.500</td> <td>   71.723</td>\n",
       "</tr>\n",
       "<tr>\n",
       "  <th>Environment</th> <td>   -2.2148</td> <td>    1.856</td> <td>   -1.193</td> <td> 0.233</td> <td>   -5.858</td> <td>    1.428</td>\n",
       "</tr>\n",
       "</table>\n",
       "<table class=\"simpletable\">\n",
       "<tr>\n",
       "  <th>Omnibus:</th>       <td>199.269</td> <th>  Durbin-Watson:     </th> <td>   1.164</td> \n",
       "</tr>\n",
       "<tr>\n",
       "  <th>Prob(Omnibus):</th> <td> 0.000</td>  <th>  Jarque-Bera (JB):  </th> <td> 674.039</td> \n",
       "</tr>\n",
       "<tr>\n",
       "  <th>Skew:</th>          <td> 0.962</td>  <th>  Prob(JB):          </th> <td>4.31e-147</td>\n",
       "</tr>\n",
       "<tr>\n",
       "  <th>Kurtosis:</th>      <td> 6.572</td>  <th>  Cond. No.          </th> <td>2.38e+07</td> \n",
       "</tr>\n",
       "</table><br/><br/>Warnings:<br/>[1] Standard Errors assume that the covariance matrix of the errors is correctly specified.<br/>[2] The condition number is large, 2.38e+07. This might indicate that there are<br/>strong multicollinearity or other numerical problems."
      ],
      "text/plain": [
       "<class 'statsmodels.iolib.summary.Summary'>\n",
       "\"\"\"\n",
       "                            OLS Regression Results                            \n",
       "==============================================================================\n",
       "Dep. Variable:                      y   R-squared:                       0.163\n",
       "Model:                            OLS   Adj. R-squared:                  0.153\n",
       "Method:                 Least Squares   F-statistic:                     15.74\n",
       "Date:                Mon, 23 Aug 2021   Prob (F-statistic):           9.56e-31\n",
       "Time:                        21:51:39   Log-Likelihood:                -6993.4\n",
       "No. Observations:                 983   AIC:                         1.401e+04\n",
       "Df Residuals:                     970   BIC:                         1.408e+04\n",
       "Df Model:                          12                                         \n",
       "Covariance Type:            nonrobust                                         \n",
       "===============================================================================\n",
       "                  coef    std err          t      P>|t|      [0.025      0.975]\n",
       "-------------------------------------------------------------------------------\n",
       "const        1053.9748     83.616     12.605      0.000     889.886    1218.064\n",
       "O65           180.2893    267.300      0.674      0.500    -344.264     704.842\n",
       "Bame          521.1958     69.580      7.491      0.000     384.651     657.741\n",
       "Income      -3009.0355    388.204     -7.751      0.000   -3770.851   -2247.220\n",
       "HP           6.817e-05   6.49e-05      1.050      0.294   -5.92e-05       0.000\n",
       "PR             -0.5358      1.478     -0.362      0.717      -3.437       2.365\n",
       "NP             -2.4751      5.097     -0.486      0.627     -12.477       7.527\n",
       "Geo           -65.0546     27.432     -2.371      0.018    -118.888     -11.221\n",
       "Density        -0.4259      0.222     -1.921      0.055      -0.861       0.009\n",
       "Health         61.8779     33.308      1.858      0.064      -3.486     127.242\n",
       "Education      18.2554      1.903      9.593      0.000      14.521      21.990\n",
       "Crime           5.6115     33.689      0.167      0.868     -60.500      71.723\n",
       "Environment    -2.2148      1.856     -1.193      0.233      -5.858       1.428\n",
       "==============================================================================\n",
       "Omnibus:                      199.269   Durbin-Watson:                   1.164\n",
       "Prob(Omnibus):                  0.000   Jarque-Bera (JB):              674.039\n",
       "Skew:                           0.962   Prob(JB):                    4.31e-147\n",
       "Kurtosis:                       6.572   Cond. No.                     2.38e+07\n",
       "==============================================================================\n",
       "\n",
       "Warnings:\n",
       "[1] Standard Errors assume that the covariance matrix of the errors is correctly specified.\n",
       "[2] The condition number is large, 2.38e+07. This might indicate that there are\n",
       "strong multicollinearity or other numerical problems.\n",
       "\"\"\""
      ]
     },
     "execution_count": 83,
     "metadata": {},
     "output_type": "execute_result"
    }
   ],
   "source": [
    "model2=predictors_lockdown2\n",
    "OLS_out2 = sm.OLS(endog=response_lockdown2.values.tolist(), exog=sm.add_constant(model2)).fit()\n",
    "OLS_out2.summary()"
   ]
  },
  {
   "cell_type": "markdown",
   "metadata": {},
   "source": [
    "### 2.3.2 Residual test analysis"
   ]
  },
  {
   "cell_type": "code",
   "execution_count": 84,
   "metadata": {},
   "outputs": [
    {
     "name": "stderr",
     "output_type": "stream",
     "text": [
      "D:\\Anaconda\\lib\\site-packages\\matplotlib\\backends\\backend_agg.py:214: RuntimeWarning: Glyph 8722 missing from current font.\n",
      "  font.set_text(s, 0.0, flags=flags)\n",
      "D:\\Anaconda\\lib\\site-packages\\matplotlib\\backends\\backend_agg.py:183: RuntimeWarning: Glyph 8722 missing from current font.\n",
      "  font.set_text(s, 0, flags=flags)\n"
     ]
    },
    {
     "data": {
      "image/png": "[encoded data removed]",
      "text/plain": [
       "<Figure size 432x288 with 1 Axes>"
      ]
     },
     "metadata": {
      "needs_background": "light"
     },
     "output_type": "display_data"
    }
   ],
   "source": [
    "import matplotlib.pyplot as plt\n",
    "\n",
    "import sys\n",
    "PATH = sys.path[0]\n",
    "figure_2 = plt.figure()\n",
    "\n",
    "student_resid2 = sm.regression.linear_model.OLSResults.outlier_test(OLS_out2)\n",
    "plt.scatter(OLS_out2.fittedvalues, student_resid2.student_resid)\n",
    "plt.xlabel('Fitted cases rate 2')\n",
    "plt.ylabel('Residual')\n",
    "#plt.title('Figure 6: Residual vs. Fitted Plot of cases rate 1')\n",
    "plt.show()\n",
    "\n",
    "figure_2.savefig(PATH + '/res_2.png', dpi=300)"
   ]
  },
  {
   "cell_type": "code",
   "execution_count": 85,
   "metadata": {},
   "outputs": [],
   "source": [
    "df_temp2 = sm.regression.linear_model.OLSResults.outlier_test(OLS_out2)\n",
    "df_temp2 = df_temp2[[\"student_resid\"]]\n",
    "lockdown2['Residual'] = df_temp2"
   ]
  },
  {
   "cell_type": "code",
   "execution_count": 86,
   "metadata": {},
   "outputs": [
    {
     "name": "stdout",
     "output_type": "stream",
     "text": [
      "count                                   983.0000\n",
      "mean                                      0.0006\n",
      "std                                       1.0039\n",
      "min                                      -2.5882\n",
      "25%                                      -0.6322\n",
      "50%                                      -0.0589\n",
      "75%                                       0.5322\n",
      "max                                       7.5387\n",
      "Name: Residual, dtype: float64\n",
      "count                                   974.0000\n",
      "mean                                     -0.0366\n",
      "std                                       0.9220\n",
      "min                                      -2.5882\n",
      "25%                                      -0.6331\n",
      "50%                                      -0.0750\n",
      "75%                                       0.5143\n",
      "max                                       2.9566\n",
      "Name: Residual, dtype: float64\n"
     ]
    }
   ],
   "source": [
    "print(lockdown2.Residual.describe())\n",
    "lockdown2_final = lockdown2[(lockdown2[\"Residual\"]<3) & (lockdown2[\"Residual\"]>-3)]\n",
    "print(lockdown2_final.Residual.describe())"
   ]
  },
  {
   "cell_type": "code",
   "execution_count": 87,
   "metadata": {},
   "outputs": [
    {
     "name": "stdout",
     "output_type": "stream",
     "text": [
      "<class 'pandas.core.frame.DataFrame'>\n",
      "Int64Index: 974 entries, 0 to 982\n",
      "Data columns (total 21 columns):\n",
      " #   Column       Non-Null Count  Dtype  \n",
      "---  ------       --------------  -----  \n",
      " 0   Cases2       974 non-null    float64\n",
      " 1   NUK          974 non-null    float64\n",
      " 2   O65          974 non-null    float64\n",
      " 3   Bame         974 non-null    float64\n",
      " 4   Income       974 non-null    float64\n",
      " 5   HP           974 non-null    float64\n",
      " 6   OO           974 non-null    float64\n",
      " 7   OML          974 non-null    float64\n",
      " 8   SR           974 non-null    float64\n",
      " 9   PR           974 non-null    float64\n",
      " 10  NP           974 non-null    float64\n",
      " 11  Geo          974 non-null    float64\n",
      " 12  Density      974 non-null    float64\n",
      " 13  IMD          974 non-null    float64\n",
      " 14  Health       974 non-null    float64\n",
      " 15  AS           974 non-null    float64\n",
      " 16  Employment   974 non-null    float64\n",
      " 17  Education    974 non-null    float64\n",
      " 18  Crime        974 non-null    float64\n",
      " 19  Environment  974 non-null    float64\n",
      " 20  Residual     974 non-null    float64\n",
      "dtypes: float64(21)\n",
      "memory usage: 167.4 KB\n"
     ]
    }
   ],
   "source": [
    "lockdown2_final.info()"
   ]
  },
  {
   "cell_type": "code",
   "execution_count": 88,
   "metadata": {},
   "outputs": [
    {
     "data": {
      "text/html": [
       "<table class=\"simpletable\">\n",
       "<caption>OLS Regression Results</caption>\n",
       "<tr>\n",
       "  <th>Dep. Variable:</th>            <td>y</td>        <th>  R-squared:         </th> <td>   0.164</td> \n",
       "</tr>\n",
       "<tr>\n",
       "  <th>Model:</th>                   <td>OLS</td>       <th>  Adj. R-squared:    </th> <td>   0.153</td> \n",
       "</tr>\n",
       "<tr>\n",
       "  <th>Method:</th>             <td>Least Squares</td>  <th>  F-statistic:       </th> <td>   15.65</td> \n",
       "</tr>\n",
       "<tr>\n",
       "  <th>Date:</th>             <td>Mon, 23 Aug 2021</td> <th>  Prob (F-statistic):</th> <td>1.50e-30</td> \n",
       "</tr>\n",
       "<tr>\n",
       "  <th>Time:</th>                 <td>21:51:43</td>     <th>  Log-Likelihood:    </th> <td> -6847.2</td> \n",
       "</tr>\n",
       "<tr>\n",
       "  <th>No. Observations:</th>      <td>   974</td>      <th>  AIC:               </th> <td>1.372e+04</td>\n",
       "</tr>\n",
       "<tr>\n",
       "  <th>Df Residuals:</th>          <td>   961</td>      <th>  BIC:               </th> <td>1.378e+04</td>\n",
       "</tr>\n",
       "<tr>\n",
       "  <th>Df Model:</th>              <td>    12</td>      <th>                     </th>     <td> </td>    \n",
       "</tr>\n",
       "<tr>\n",
       "  <th>Covariance Type:</th>      <td>nonrobust</td>    <th>                     </th>     <td> </td>    \n",
       "</tr>\n",
       "</table>\n",
       "<table class=\"simpletable\">\n",
       "<tr>\n",
       "       <td></td>          <th>coef</th>     <th>std err</th>      <th>t</th>      <th>P>|t|</th>  <th>[0.025</th>    <th>0.975]</th>  \n",
       "</tr>\n",
       "<tr>\n",
       "  <th>const</th>       <td> 1050.4358</td> <td>   77.385</td> <td>   13.574</td> <td> 0.000</td> <td>  898.574</td> <td> 1202.298</td>\n",
       "</tr>\n",
       "<tr>\n",
       "  <th>O65</th>         <td>  166.5387</td> <td>  246.626</td> <td>    0.675</td> <td> 0.500</td> <td> -317.449</td> <td>  650.526</td>\n",
       "</tr>\n",
       "<tr>\n",
       "  <th>Bame</th>        <td>  517.3545</td> <td>   64.656</td> <td>    8.002</td> <td> 0.000</td> <td>  390.471</td> <td>  644.238</td>\n",
       "</tr>\n",
       "<tr>\n",
       "  <th>Income</th>      <td>-2677.6513</td> <td>  361.096</td> <td>   -7.415</td> <td> 0.000</td> <td>-3386.279</td> <td>-1969.024</td>\n",
       "</tr>\n",
       "<tr>\n",
       "  <th>HP</th>          <td> 2.063e-05</td> <td>    6e-05</td> <td>    0.344</td> <td> 0.731</td> <td>-9.72e-05</td> <td>    0.000</td>\n",
       "</tr>\n",
       "<tr>\n",
       "  <th>PR</th>          <td>   -1.2581</td> <td>    1.372</td> <td>   -0.917</td> <td> 0.359</td> <td>   -3.950</td> <td>    1.434</td>\n",
       "</tr>\n",
       "<tr>\n",
       "  <th>NP</th>          <td>   -1.8452</td> <td>    4.703</td> <td>   -0.392</td> <td> 0.695</td> <td>  -11.075</td> <td>    7.384</td>\n",
       "</tr>\n",
       "<tr>\n",
       "  <th>Geo</th>         <td>  -56.9937</td> <td>   25.387</td> <td>   -2.245</td> <td> 0.025</td> <td> -106.813</td> <td>   -7.174</td>\n",
       "</tr>\n",
       "<tr>\n",
       "  <th>Density</th>     <td>   -0.4595</td> <td>    0.204</td> <td>   -2.249</td> <td> 0.025</td> <td>   -0.860</td> <td>   -0.059</td>\n",
       "</tr>\n",
       "<tr>\n",
       "  <th>Health</th>      <td>   36.0244</td> <td>   30.815</td> <td>    1.169</td> <td> 0.243</td> <td>  -24.448</td> <td>   96.497</td>\n",
       "</tr>\n",
       "<tr>\n",
       "  <th>Education</th>   <td>   15.4932</td> <td>    1.812</td> <td>    8.549</td> <td> 0.000</td> <td>   11.937</td> <td>   19.049</td>\n",
       "</tr>\n",
       "<tr>\n",
       "  <th>Crime</th>       <td>   13.5358</td> <td>   31.178</td> <td>    0.434</td> <td> 0.664</td> <td>  -47.649</td> <td>   74.721</td>\n",
       "</tr>\n",
       "<tr>\n",
       "  <th>Environment</th> <td>   -1.4238</td> <td>    1.712</td> <td>   -0.831</td> <td> 0.406</td> <td>   -4.784</td> <td>    1.937</td>\n",
       "</tr>\n",
       "</table>\n",
       "<table class=\"simpletable\">\n",
       "<tr>\n",
       "  <th>Omnibus:</th>       <td>22.823</td> <th>  Durbin-Watson:     </th> <td>   1.097</td>\n",
       "</tr>\n",
       "<tr>\n",
       "  <th>Prob(Omnibus):</th> <td> 0.000</td> <th>  Jarque-Bera (JB):  </th> <td>  23.795</td>\n",
       "</tr>\n",
       "<tr>\n",
       "  <th>Skew:</th>          <td> 0.373</td> <th>  Prob(JB):          </th> <td>6.81e-06</td>\n",
       "</tr>\n",
       "<tr>\n",
       "  <th>Kurtosis:</th>      <td> 3.175</td> <th>  Cond. No.          </th> <td>2.40e+07</td>\n",
       "</tr>\n",
       "</table><br/><br/>Warnings:<br/>[1] Standard Errors assume that the covariance matrix of the errors is correctly specified.<br/>[2] The condition number is large, 2.4e+07. This might indicate that there are<br/>strong multicollinearity or other numerical problems."
      ],
      "text/plain": [
       "<class 'statsmodels.iolib.summary.Summary'>\n",
       "\"\"\"\n",
       "                            OLS Regression Results                            \n",
       "==============================================================================\n",
       "Dep. Variable:                      y   R-squared:                       0.164\n",
       "Model:                            OLS   Adj. R-squared:                  0.153\n",
       "Method:                 Least Squares   F-statistic:                     15.65\n",
       "Date:                Mon, 23 Aug 2021   Prob (F-statistic):           1.50e-30\n",
       "Time:                        21:51:43   Log-Likelihood:                -6847.2\n",
       "No. Observations:                 974   AIC:                         1.372e+04\n",
       "Df Residuals:                     961   BIC:                         1.378e+04\n",
       "Df Model:                          12                                         \n",
       "Covariance Type:            nonrobust                                         \n",
       "===============================================================================\n",
       "                  coef    std err          t      P>|t|      [0.025      0.975]\n",
       "-------------------------------------------------------------------------------\n",
       "const        1050.4358     77.385     13.574      0.000     898.574    1202.298\n",
       "O65           166.5387    246.626      0.675      0.500    -317.449     650.526\n",
       "Bame          517.3545     64.656      8.002      0.000     390.471     644.238\n",
       "Income      -2677.6513    361.096     -7.415      0.000   -3386.279   -1969.024\n",
       "HP           2.063e-05      6e-05      0.344      0.731   -9.72e-05       0.000\n",
       "PR             -1.2581      1.372     -0.917      0.359      -3.950       1.434\n",
       "NP             -1.8452      4.703     -0.392      0.695     -11.075       7.384\n",
       "Geo           -56.9937     25.387     -2.245      0.025    -106.813      -7.174\n",
       "Density        -0.4595      0.204     -2.249      0.025      -0.860      -0.059\n",
       "Health         36.0244     30.815      1.169      0.243     -24.448      96.497\n",
       "Education      15.4932      1.812      8.549      0.000      11.937      19.049\n",
       "Crime          13.5358     31.178      0.434      0.664     -47.649      74.721\n",
       "Environment    -1.4238      1.712     -0.831      0.406      -4.784       1.937\n",
       "==============================================================================\n",
       "Omnibus:                       22.823   Durbin-Watson:                   1.097\n",
       "Prob(Omnibus):                  0.000   Jarque-Bera (JB):               23.795\n",
       "Skew:                           0.373   Prob(JB):                     6.81e-06\n",
       "Kurtosis:                       3.175   Cond. No.                     2.40e+07\n",
       "==============================================================================\n",
       "\n",
       "Warnings:\n",
       "[1] Standard Errors assume that the covariance matrix of the errors is correctly specified.\n",
       "[2] The condition number is large, 2.4e+07. This might indicate that there are\n",
       "strong multicollinearity or other numerical problems.\n",
       "\"\"\""
      ]
     },
     "execution_count": 88,
     "metadata": {},
     "output_type": "execute_result"
    }
   ],
   "source": [
    "predictors_lockdown2_final = lockdown2_final.drop({'Cases2','Residual','SR','IMD','Employment','AS','NUK','OO','OML'}, axis=1)\n",
    "response_lockdown2_final = lockdown2_final['Cases2']\n",
    "model2_final=predictors_lockdown2_final\n",
    "OLS_out2_final = sm.OLS(endog=response_lockdown2_final.values.tolist(), exog=sm.add_constant(model2_final)).fit()\n",
    "OLS_out2_final.summary()"
   ]
  },
  {
   "cell_type": "markdown",
   "metadata": {},
   "source": [
    "### 2.3.3 Lasso"
   ]
  },
  {
   "cell_type": "code",
   "execution_count": 89,
   "metadata": {},
   "outputs": [
    {
     "data": {
      "text/plain": [
       "Lasso(max_iter=100000000.0, normalize=True)"
      ]
     },
     "execution_count": 89,
     "metadata": {},
     "output_type": "execute_result"
    }
   ],
   "source": [
    "# increase the max_iter to guarantee convergence\n",
    "lasso_model2 = linear_model.Lasso(max_iter=10e7, normalize=True)\n",
    "response_data2 = lockdown2[['Cases2']]\n",
    "predictors_data2 = lockdown2.drop(columns=['Cases2','Residual'], axis=1)\n",
    "lasso_model2.fit(X=predictors_data2, y=response_data2)"
   ]
  },
  {
   "cell_type": "code",
   "execution_count": 90,
   "metadata": {},
   "outputs": [
    {
     "data": {
      "text/plain": [
       "0.1311153103004562"
      ]
     },
     "execution_count": 90,
     "metadata": {},
     "output_type": "execute_result"
    }
   ],
   "source": [
    "lasso_model2.score(X=predictors_data2, y=response_data2)"
   ]
  },
  {
   "cell_type": "code",
   "execution_count": 91,
   "metadata": {},
   "outputs": [
    {
     "name": "stdout",
     "output_type": "stream",
     "text": [
      "            var                                     coef\n",
      "0           NUK                                   0.0000\n",
      "1           O65                                   0.0000\n",
      "2          Bame                                  10.9974\n",
      "3        Income                                  -0.0000\n",
      "4            HP                                  -0.0000\n",
      "5            OO                                   0.0000\n",
      "6           OML                                   0.0000\n",
      "7            SR                                  -1.9216\n",
      "8            PR                                   0.0000\n",
      "9            NP                                   0.0000\n",
      "10          Geo                                  -0.0000\n",
      "11      Density                                  -0.0000\n",
      "12          IMD                                  -0.0000\n",
      "13       Health                                  -0.0000\n",
      "14           AS                                 897.4315\n",
      "15   Employment                                  -0.0000\n",
      "16    Education                                   0.0000\n",
      "17        Crime                                  -0.0000\n",
      "18  Environment                                  -0.0000\n"
     ]
    }
   ],
   "source": [
    "# print(lasso_model.coef_)\n",
    "df_coef_lasso2 = pd.DataFrame({\"var\":predictors_data2.columns.values, \"coef\":lasso_model2.coef_})\n",
    "print(df_coef_lasso2)"
   ]
  },
  {
   "cell_type": "code",
   "execution_count": 92,
   "metadata": {},
   "outputs": [
    {
     "name": "stderr",
     "output_type": "stream",
     "text": [
      "D:\\Anaconda\\lib\\site-packages\\sklearn\\linear_model\\_coordinate_descent.py:525: ConvergenceWarning: Objective did not converge. You might want to increase the number of iterations. Duality gap: 157133.8030436337, tolerance: 116204.62927800001\n",
      "  model = cd_fast.enet_coordinate_descent_gram(\n",
      "D:\\Anaconda\\lib\\site-packages\\sklearn\\linear_model\\_coordinate_descent.py:525: ConvergenceWarning: Objective did not converge. You might want to increase the number of iterations. Duality gap: 4552600.927608937, tolerance: 116204.62927800001\n",
      "  model = cd_fast.enet_coordinate_descent_gram(\n"
     ]
    },
    {
     "data": {
      "text/plain": [
       "(-1.25, 4.25, -232.09942189705987, 299.7863946111163)"
      ]
     },
     "execution_count": 92,
     "metadata": {},
     "output_type": "execute_result"
    },
    {
     "name": "stderr",
     "output_type": "stream",
     "text": [
      "D:\\Anaconda\\lib\\site-packages\\matplotlib\\backends\\backend_agg.py:214: RuntimeWarning: Glyph 8722 missing from current font.\n",
      "  font.set_text(s, 0.0, flags=flags)\n",
      "D:\\Anaconda\\lib\\site-packages\\matplotlib\\backends\\backend_agg.py:183: RuntimeWarning: Glyph 8722 missing from current font.\n",
      "  font.set_text(s, 0, flags=flags)\n"
     ]
    },
    {
     "data": {
      "image/png": "[encoded data removed]",
      "text/plain": [
       "<Figure size 432x288 with 1 Axes>"
      ]
     },
     "metadata": {
      "needs_background": "light"
     },
     "output_type": "display_data"
    }
   ],
   "source": [
    "predictors_data_standardised2 = predictors_data2/predictors_data2.std(axis=0)\n",
    "\n",
    "alphas_lasso2, coefs_lasso2, _ = lasso_path(predictors_data_standardised2, response_data2.values.reshape(-1),alphas = [.1, .5, 1, 10, 100, 1000, 10000], fit_intercept=False)\n",
    "\n",
    "log_alphas_lasso2 = np.log10(alphas_lasso2)\n",
    "for coef_2 in coefs_lasso2:\n",
    "    l2 = plt.plot(log_alphas_lasso2, coef_2)\n",
    "\n",
    "plt.xlabel('Log(alpha)')\n",
    "plt.ylabel('coefficients')\n",
    "plt.title('Figure 9: Lasso Path')\n",
    "plt.axis('tight')"
   ]
  },
  {
   "cell_type": "markdown",
   "metadata": {},
   "source": [
    "### 2.3.4 Regression Tree"
   ]
  },
  {
   "cell_type": "code",
   "execution_count": 93,
   "metadata": {},
   "outputs": [
    {
     "name": "stdout",
     "output_type": "stream",
     "text": [
      "(681, 19)\n",
      "(146, 19)\n",
      "(147, 19)\n"
     ]
    }
   ],
   "source": [
    "# We apply train_test_split twice to obtain the three train, dev and test sets\n",
    "y = lockdown2_final[['Cases2']]\n",
    "X = lockdown2_final.drop(columns=['Cases2','Residual'], axis=1)\n",
    "X_train, X_test, y_train, y_test = train_test_split(X, y, test_size=0.3, random_state=1)\n",
    "X_val, X_test, y_val, y_test = train_test_split(X_test, y_test, test_size=0.5, random_state=2020)\n",
    "print(X_train.shape)\n",
    "print(X_val.shape)\n",
    "print(X_test.shape)"
   ]
  },
  {
   "cell_type": "code",
   "execution_count": 94,
   "metadata": {},
   "outputs": [
    {
     "data": {
      "text/plain": [
       "0.6924248284893058"
      ]
     },
     "execution_count": 94,
     "metadata": {},
     "output_type": "execute_result"
    }
   ],
   "source": [
    "reg_tree = DecisionTreeRegressor(random_state=0,max_depth=8)\n",
    "reg_tree.fit(X_train, y_train.values.ravel())\n",
    "reg_tree.score(X=X_train, y=y_train)"
   ]
  },
  {
   "cell_type": "code",
   "execution_count": 95,
   "metadata": {},
   "outputs": [
    {
     "data": {
      "text/plain": [
       "-0.22694808031614966"
      ]
     },
     "execution_count": 95,
     "metadata": {},
     "output_type": "execute_result"
    }
   ],
   "source": [
    "reg_tree.score(X=X_val, y=y_val)"
   ]
  },
  {
   "cell_type": "markdown",
   "metadata": {},
   "source": [
    "### 2.3.4.1 Optimise hyperparameters of the ML model"
   ]
  },
  {
   "cell_type": "code",
   "execution_count": 96,
   "metadata": {},
   "outputs": [],
   "source": [
    "# number of trees to tune\n",
    "depth = [1,2,3,4,5,6,7,8,9,10,11,12,13,14,15,16,17,18,19,20]\n",
    "\n",
    "# process of tune the number of trees\n",
    "max_score = 0\n",
    "best_depth = None\n",
    "for t in depth:\n",
    "    m = DecisionTreeRegressor(random_state=0,max_depth=t).fit(X_train,y_train)\n",
    "    score = m.score(X_val, y_val)\n",
    "    if score > max_score:\n",
    "        max_score = score\n",
    "        best_depth = t"
   ]
  },
  {
   "cell_type": "code",
   "execution_count": 97,
   "metadata": {},
   "outputs": [
    {
     "data": {
      "text/plain": [
       "0.11200735583602672"
      ]
     },
     "execution_count": 97,
     "metadata": {},
     "output_type": "execute_result"
    }
   ],
   "source": [
    "max_score"
   ]
  },
  {
   "cell_type": "code",
   "execution_count": 98,
   "metadata": {},
   "outputs": [
    {
     "data": {
      "text/plain": [
       "2"
      ]
     },
     "execution_count": 98,
     "metadata": {},
     "output_type": "execute_result"
    }
   ],
   "source": [
    "best_depth"
   ]
  },
  {
   "cell_type": "code",
   "execution_count": 99,
   "metadata": {},
   "outputs": [
    {
     "data": {
      "text/plain": [
       "DecisionTreeRegressor(max_depth=2, random_state=0)"
      ]
     },
     "execution_count": 99,
     "metadata": {},
     "output_type": "execute_result"
    }
   ],
   "source": [
    "rt_final = DecisionTreeRegressor(random_state=0,max_depth=best_depth)\n",
    "rt_final.fit(X_train, y_train)"
   ]
  },
  {
   "cell_type": "code",
   "execution_count": 100,
   "metadata": {},
   "outputs": [
    {
     "name": "stdout",
     "output_type": "stream",
     "text": [
      "The score on the training data:\n",
      "0.17240270484172948\n",
      "The score on the development data:\n",
      "0.11200735583602672\n"
     ]
    }
   ],
   "source": [
    "print('The score on the training data:')\n",
    "print(rt_final.score(X_train, y_train))\n",
    "print('The score on the development data:')\n",
    "print(rt_final.score(X_val, y_val))"
   ]
  },
  {
   "cell_type": "markdown",
   "metadata": {},
   "source": [
    "### 2.3.4.2 Cross-validation"
   ]
  },
  {
   "cell_type": "code",
   "execution_count": 101,
   "metadata": {},
   "outputs": [
    {
     "name": "stdout",
     "output_type": "stream",
     "text": [
      "The best parameter value is: \n",
      "{'max_depth': 3}\n",
      "The best score is: \n",
      "0.09461334492643744\n"
     ]
    }
   ],
   "source": [
    "# values of n_estimators\n",
    "parameters = {'max_depth':[1,2,3,4,5,6,7,8,9,10,11,12,13,14,15,16,17,18,19,20]}\n",
    "rt = DecisionTreeRegressor()\n",
    "\n",
    "clt = model_selection.GridSearchCV(rt, parameters)\n",
    "\n",
    "clt.fit(X_train, y_train)\n",
    "\n",
    "# we can query the best parameter value and its accuracy score\n",
    "print (\"The best parameter value is: \")\n",
    "print (clt.best_params_)\n",
    "print (\"The best score is: \")\n",
    "print (clt.best_score_)"
   ]
  },
  {
   "cell_type": "code",
   "execution_count": 102,
   "metadata": {},
   "outputs": [],
   "source": [
    "max_depth_range = [1,2,3,4,5,6,7,8,9,10,11,12,13,14,15,16,17,18,19,20]\n",
    "\n",
    "train_scores, valid_scores = validation_curve(estimator=DecisionTreeRegressor(), \n",
    "                                              X=X_train, y=y_train, \n",
    "                                              param_name=\"max_depth\",\n",
    "                                              param_range=max_depth_range,\n",
    "                                              cv=5)           "
   ]
  },
  {
   "cell_type": "code",
   "execution_count": 103,
   "metadata": {},
   "outputs": [
    {
     "data": {
      "image/png": "[encoded data removed]",
      "text/plain": [
       "<Figure size 432x288 with 1 Axes>"
      ]
     },
     "metadata": {
      "needs_background": "light"
     },
     "output_type": "display_data"
    }
   ],
   "source": [
    "# plotting the validation curve\n",
    "train_scores_mean = np.mean(train_scores, axis=1)\n",
    "train_scores_std = np.std(train_scores, axis=1)\n",
    "valid_scores_mean = np.mean(valid_scores, axis=1)\n",
    "valid_scores_std = np.std(valid_scores, axis=1)\n",
    "\n",
    "plt.title(\"Figure 10: Validation Curve with Regression Tree\")\n",
    "plt.xlabel(r\"depth\")\n",
    "plt.ylabel(\"Score\")\n",
    "plt.ylim(0.1, 1.0)\n",
    "#plt.xlim(1, 20)\n",
    "lw = 2\n",
    "plt.semilogx(max_depth_range, train_scores_mean, label=\"Training score\",\n",
    "             color=\"darkorange\", lw=lw)\n",
    "plt.fill_between(max_depth_range, train_scores_mean - train_scores_std,\n",
    "                 train_scores_mean + train_scores_std, alpha=0.2,\n",
    "                 color=\"darkorange\", lw=lw)\n",
    "plt.semilogx(max_depth_range, valid_scores_mean, label=\"Cross-validation score\",\n",
    "             color=\"navy\", lw=lw)\n",
    "plt.fill_between(max_depth_range, valid_scores_mean - valid_scores_std,\n",
    "                 valid_scores_mean + valid_scores_std, alpha=0.2,\n",
    "                 color=\"navy\", lw=lw)\n",
    "plt.legend(loc=\"best\")\n",
    "plt.show()"
   ]
  },
  {
   "cell_type": "code",
   "execution_count": 104,
   "metadata": {},
   "outputs": [
    {
     "data": {
      "text/plain": [
       "0.06876858319380308"
      ]
     },
     "execution_count": 104,
     "metadata": {},
     "output_type": "execute_result"
    }
   ],
   "source": [
    "rt_final.score(X_test, y_test)"
   ]
  },
  {
   "cell_type": "code",
   "execution_count": 105,
   "metadata": {},
   "outputs": [
    {
     "name": "stdout",
     "output_type": "stream",
     "text": [
      "Feature: 0, Score: 0.00000\n",
      "Feature: 1, Score: 0.00000\n",
      "Feature: 2, Score: 0.09375\n",
      "Feature: 3, Score: 0.00000\n",
      "Feature: 4, Score: 0.00000\n",
      "Feature: 5, Score: 0.00000\n",
      "Feature: 6, Score: 0.00000\n",
      "Feature: 7, Score: 0.32001\n",
      "Feature: 8, Score: 0.00000\n",
      "Feature: 9, Score: 0.00000\n",
      "Feature: 10, Score: 0.00000\n",
      "Feature: 11, Score: 0.00000\n",
      "Feature: 12, Score: 0.00000\n",
      "Feature: 13, Score: 0.00000\n",
      "Feature: 14, Score: 0.58624\n",
      "Feature: 15, Score: 0.00000\n",
      "Feature: 16, Score: 0.00000\n",
      "Feature: 17, Score: 0.00000\n",
      "Feature: 18, Score: 0.00000\n"
     ]
    },
    {
     "data": {
      "image/png": "[encoded data removed]",
      "text/plain": [
       "<Figure size 432x288 with 1 Axes>"
      ]
     },
     "metadata": {
      "needs_background": "light"
     },
     "output_type": "display_data"
    }
   ],
   "source": [
    "importance = rt_final.feature_importances_\n",
    "# summarize feature importance\n",
    "for i,v in enumerate(importance):\n",
    " print('Feature: %0d, Score: %.5f' % (i,v))\n",
    "# plot feature importance\n",
    "plt.bar([x for x in range(len(importance))], importance)\n",
    "plt.title('Figure 11: Feature Importances of Regression Tree')\n",
    "plt.show()"
   ]
  },
  {
   "cell_type": "markdown",
   "metadata": {},
   "source": [
    "### 2.3.5 Random Forest"
   ]
  },
  {
   "cell_type": "code",
   "execution_count": 106,
   "metadata": {},
   "outputs": [
    {
     "data": {
      "text/plain": [
       "0.8942708488505393"
      ]
     },
     "execution_count": 106,
     "metadata": {},
     "output_type": "execute_result"
    }
   ],
   "source": [
    "rf = RandomForestRegressor(n_estimators=100)\n",
    "rf.fit(X_train,y_train.values.ravel())\n",
    "rf.score(X_train, y_train)"
   ]
  },
  {
   "cell_type": "code",
   "execution_count": 107,
   "metadata": {},
   "outputs": [
    {
     "data": {
      "text/plain": [
       "0.2606344869234948"
      ]
     },
     "execution_count": 107,
     "metadata": {},
     "output_type": "execute_result"
    }
   ],
   "source": [
    "rf.score(X_val, y_val)"
   ]
  },
  {
   "cell_type": "markdown",
   "metadata": {},
   "source": [
    "### 2.3.5.1 Optimise hyperparameters of the ML model"
   ]
  },
  {
   "cell_type": "code",
   "execution_count": 108,
   "metadata": {},
   "outputs": [],
   "source": [
    "# number of trees to tune\n",
    "no_trees = [10,20,30,40,50,70,100,150,200]\n",
    "\n",
    "# process of tune the number of trees\n",
    "max_score = 0\n",
    "best_no_trees = None\n",
    "for t in no_trees:\n",
    "    m = RandomForestRegressor(n_estimators=t).fit(X_train,y_train.values.ravel())\n",
    "    score = m.score(X_val, y_val)\n",
    "    if score > max_score:\n",
    "        max_score = score\n",
    "        best_no_trees = t"
   ]
  },
  {
   "cell_type": "code",
   "execution_count": 109,
   "metadata": {},
   "outputs": [
    {
     "data": {
      "text/plain": [
       "0.26889919308462906"
      ]
     },
     "execution_count": 109,
     "metadata": {},
     "output_type": "execute_result"
    }
   ],
   "source": [
    "max_score"
   ]
  },
  {
   "cell_type": "code",
   "execution_count": 110,
   "metadata": {},
   "outputs": [
    {
     "data": {
      "text/plain": [
       "30"
      ]
     },
     "execution_count": 110,
     "metadata": {},
     "output_type": "execute_result"
    }
   ],
   "source": [
    "best_no_trees"
   ]
  },
  {
   "cell_type": "code",
   "execution_count": 111,
   "metadata": {},
   "outputs": [
    {
     "data": {
      "text/plain": [
       "RandomForestRegressor(n_estimators=30)"
      ]
     },
     "execution_count": 111,
     "metadata": {},
     "output_type": "execute_result"
    }
   ],
   "source": [
    "rf_final = RandomForestRegressor(n_estimators=best_no_trees)\n",
    "rf_final.fit(X_train, y_train.values.ravel())"
   ]
  },
  {
   "cell_type": "code",
   "execution_count": 112,
   "metadata": {},
   "outputs": [
    {
     "name": "stdout",
     "output_type": "stream",
     "text": [
      "The score on the training data:\n",
      "0.8864240437610781\n",
      "The score on the development data:\n",
      "0.23133002087792642\n"
     ]
    }
   ],
   "source": [
    "print('The score on the training data:')\n",
    "print(rf_final.score(X_train, y_train))\n",
    "print('The score on the development data:')\n",
    "print(rf_final.score(X_val, y_val))"
   ]
  },
  {
   "cell_type": "markdown",
   "metadata": {},
   "source": [
    "### 2.3.5.2 Cross-validation"
   ]
  },
  {
   "cell_type": "code",
   "execution_count": 113,
   "metadata": {},
   "outputs": [
    {
     "name": "stdout",
     "output_type": "stream",
     "text": [
      "The best parameter value is: \n",
      "{'n_estimators': 150}\n",
      "The best score is: \n",
      "0.2541268610756431\n"
     ]
    }
   ],
   "source": [
    "# values of n_estimators\n",
    "parameters = {'n_estimators':[10,20,30,40,50,70,100,150,200]}\n",
    "rf = RandomForestRegressor()\n",
    "\n",
    "clf = model_selection.GridSearchCV(rf, parameters)\n",
    "\n",
    "clf.fit(X_train, y_train.values.ravel())\n",
    "\n",
    "# we can query the best parameter value and its accuracy score\n",
    "print (\"The best parameter value is: \")\n",
    "print (clf.best_params_)\n",
    "print (\"The best score is: \")\n",
    "print (clf.best_score_)"
   ]
  },
  {
   "cell_type": "code",
   "execution_count": 114,
   "metadata": {},
   "outputs": [],
   "source": [
    "n_estimators_range = [10,20,30,40,50,70,100,150,200]\n",
    "\n",
    "train_scores, valid_scores = validation_curve(estimator=RandomForestRegressor(), \n",
    "                                              X=X_train, y=y_train.values.ravel(),\n",
    "                                              param_name=\"n_estimators\",\n",
    "                                              param_range=n_estimators_range,\n",
    "                                              cv=5)"
   ]
  },
  {
   "cell_type": "code",
   "execution_count": 115,
   "metadata": {},
   "outputs": [
    {
     "data": {
      "image/png": "[encoded data removed]",
      "text/plain": [
       "<Figure size 432x288 with 1 Axes>"
      ]
     },
     "metadata": {
      "needs_background": "light"
     },
     "output_type": "display_data"
    }
   ],
   "source": [
    "# plotting the validation curve\n",
    "train_scores_mean = np.mean(train_scores, axis=1)\n",
    "train_scores_std = np.std(train_scores, axis=1)\n",
    "valid_scores_mean = np.mean(valid_scores, axis=1)\n",
    "valid_scores_std = np.std(valid_scores, axis=1)\n",
    "\n",
    "plt.title(\"Figure 12: Validation Curve with Random Forest\")\n",
    "plt.xlabel(r\"number of trees\")\n",
    "plt.ylabel(\"Score\")\n",
    "plt.ylim(0.3, 1.0)\n",
    "lw = 2\n",
    "plt.semilogx(n_estimators_range, train_scores_mean, label=\"Training score\",\n",
    "             color=\"darkorange\", lw=lw)\n",
    "plt.fill_between(n_estimators_range, train_scores_mean - train_scores_std,\n",
    "                 train_scores_mean + train_scores_std, alpha=0.2,\n",
    "                 color=\"darkorange\", lw=lw)\n",
    "plt.semilogx(n_estimators_range, valid_scores_mean, label=\"Cross-validation score\",\n",
    "             color=\"navy\", lw=lw)\n",
    "plt.fill_between(n_estimators_range, valid_scores_mean - valid_scores_std,\n",
    "                 valid_scores_mean + valid_scores_std, alpha=0.2,\n",
    "                 color=\"navy\", lw=lw)\n",
    "plt.legend(loc=\"best\")\n",
    "plt.show()"
   ]
  },
  {
   "cell_type": "code",
   "execution_count": 116,
   "metadata": {},
   "outputs": [
    {
     "data": {
      "text/plain": [
       "0.20780239411592805"
      ]
     },
     "execution_count": 116,
     "metadata": {},
     "output_type": "execute_result"
    }
   ],
   "source": [
    "rf_final.score(X_test, y_test)"
   ]
  },
  {
   "cell_type": "code",
   "execution_count": 117,
   "metadata": {},
   "outputs": [
    {
     "name": "stdout",
     "output_type": "stream",
     "text": [
      "Feature: 0, Score: 0.07835\n",
      "Feature: 1, Score: 0.04852\n",
      "Feature: 2, Score: 0.11000\n",
      "Feature: 3, Score: 0.02717\n",
      "Feature: 4, Score: 0.04877\n",
      "Feature: 5, Score: 0.04504\n",
      "Feature: 6, Score: 0.04239\n",
      "Feature: 7, Score: 0.05338\n",
      "Feature: 8, Score: 0.03660\n",
      "Feature: 9, Score: 0.03140\n",
      "Feature: 10, Score: 0.03979\n",
      "Feature: 11, Score: 0.05141\n",
      "Feature: 12, Score: 0.02109\n",
      "Feature: 13, Score: 0.03007\n",
      "Feature: 14, Score: 0.17409\n",
      "Feature: 15, Score: 0.03596\n",
      "Feature: 16, Score: 0.04967\n",
      "Feature: 17, Score: 0.03870\n",
      "Feature: 18, Score: 0.03761\n"
     ]
    },
    {
     "data": {
      "image/png": "[encoded data removed]",
      "text/plain": [
       "<Figure size 432x288 with 1 Axes>"
      ]
     },
     "metadata": {
      "needs_background": "light"
     },
     "output_type": "display_data"
    }
   ],
   "source": [
    "importance = rf_final.feature_importances_\n",
    "# summarize feature importance\n",
    "for i,v in enumerate(importance):\n",
    " print('Feature: %0d, Score: %.5f' % (i,v))\n",
    "# plot feature importance\n",
    "plt.bar([x for x in range(len(importance))], importance)\n",
    "plt.title('Figure 13: Feature Importances of Random Forest')\n",
    "plt.show()"
   ]
  },
  {
   "cell_type": "code",
   "execution_count": null,
   "metadata": {},
   "outputs": [],
   "source": []
  },
  {
   "cell_type": "markdown",
   "metadata": {},
   "source": [
    "## 2.4 Lockdown3"
   ]
  },
  {
   "cell_type": "markdown",
   "metadata": {},
   "source": [
    "### 2.4.1 Linear regression"
   ]
  },
  {
   "cell_type": "code",
   "execution_count": 118,
   "metadata": {},
   "outputs": [],
   "source": [
    "lockdown3 = covid.drop(columns=['MSOA Code','Cases1','Cases2'], axis=1)"
   ]
  },
  {
   "cell_type": "code",
   "execution_count": 119,
   "metadata": {},
   "outputs": [],
   "source": [
    "lockdown3.dropna(inplace=True)  "
   ]
  },
  {
   "cell_type": "code",
   "execution_count": 120,
   "metadata": {},
   "outputs": [
    {
     "name": "stdout",
     "output_type": "stream",
     "text": [
      "<class 'pandas.core.frame.DataFrame'>\n",
      "Int64Index: 983 entries, 0 to 982\n",
      "Data columns (total 20 columns):\n",
      " #   Column       Non-Null Count  Dtype  \n",
      "---  ------       --------------  -----  \n",
      " 0   Cases3       983 non-null    float64\n",
      " 1   NUK          983 non-null    float64\n",
      " 2   O65          983 non-null    float64\n",
      " 3   Bame         983 non-null    float64\n",
      " 4   Income       983 non-null    float64\n",
      " 5   HP           983 non-null    float64\n",
      " 6   OO           983 non-null    float64\n",
      " 7   OML          983 non-null    float64\n",
      " 8   SR           983 non-null    float64\n",
      " 9   PR           983 non-null    float64\n",
      " 10  NP           983 non-null    float64\n",
      " 11  Geo          983 non-null    float64\n",
      " 12  Density      983 non-null    float64\n",
      " 13  IMD          983 non-null    float64\n",
      " 14  Health       983 non-null    float64\n",
      " 15  AS           983 non-null    float64\n",
      " 16  Employment   983 non-null    float64\n",
      " 17  Education    983 non-null    float64\n",
      " 18  Crime        983 non-null    float64\n",
      " 19  Environment  983 non-null    float64\n",
      "dtypes: float64(20)\n",
      "memory usage: 161.3 KB\n"
     ]
    }
   ],
   "source": [
    "lockdown3.info()"
   ]
  },
  {
   "cell_type": "code",
   "execution_count": 121,
   "metadata": {},
   "outputs": [
    {
     "name": "stdout",
     "output_type": "stream",
     "text": [
      "Max VIF: 4.402340336366497\n",
      "The columns remaining after VIF selection are:\n",
      "Index(['O65', 'Bame', 'Income', 'HP', 'PR', 'NP', 'Geo', 'Density', 'Health',\n",
      "       'Education', 'Crime', 'Environment'],\n",
      "      dtype='object')\n"
     ]
    }
   ],
   "source": [
    "# Omit the process of sequentially deleting vif greater than 5\n",
    "# using VIF on the case rate 3 dataset\n",
    "predictors_lockdown3 = lockdown3.drop({'Cases3','SR','IMD','Employment','AS','NUK','OO','OML'}, axis=1)\n",
    "response_lockdown3 = lockdown3['Cases3']\n",
    "\n",
    "# this is a list of dummy variables that represent a categorical variable with three or more categories. They should not be removed even if it has a high VIF. \n",
    "# list_var_not_to_remove = ['all_bame_prop','population_prop_over65','Income Score (rate)']\n",
    "list_var_not_to_remove = ['Income' ]\n",
    "df_predictors_select_VIF = drop_column_using_vif_(predictors_lockdown3,list_var_not_to_remove, thresh=5)\n",
    "print(\"The columns remaining after VIF selection are:\")\n",
    "print(df_predictors_select_VIF.columns)"
   ]
  },
  {
   "cell_type": "code",
   "execution_count": 122,
   "metadata": {},
   "outputs": [
    {
     "data": {
      "text/html": [
       "<table class=\"simpletable\">\n",
       "<caption>OLS Regression Results</caption>\n",
       "<tr>\n",
       "  <th>Dep. Variable:</th>            <td>y</td>        <th>  R-squared:         </th> <td>   0.301</td> \n",
       "</tr>\n",
       "<tr>\n",
       "  <th>Model:</th>                   <td>OLS</td>       <th>  Adj. R-squared:    </th> <td>   0.292</td> \n",
       "</tr>\n",
       "<tr>\n",
       "  <th>Method:</th>             <td>Least Squares</td>  <th>  F-statistic:       </th> <td>   34.74</td> \n",
       "</tr>\n",
       "<tr>\n",
       "  <th>Date:</th>             <td>Mon, 23 Aug 2021</td> <th>  Prob (F-statistic):</th> <td>2.87e-67</td> \n",
       "</tr>\n",
       "<tr>\n",
       "  <th>Time:</th>                 <td>21:52:47</td>     <th>  Log-Likelihood:    </th> <td> -7223.4</td> \n",
       "</tr>\n",
       "<tr>\n",
       "  <th>No. Observations:</th>      <td>   983</td>      <th>  AIC:               </th> <td>1.447e+04</td>\n",
       "</tr>\n",
       "<tr>\n",
       "  <th>Df Residuals:</th>          <td>   970</td>      <th>  BIC:               </th> <td>1.454e+04</td>\n",
       "</tr>\n",
       "<tr>\n",
       "  <th>Df Model:</th>              <td>    12</td>      <th>                     </th>     <td> </td>    \n",
       "</tr>\n",
       "<tr>\n",
       "  <th>Covariance Type:</th>      <td>nonrobust</td>    <th>                     </th>     <td> </td>    \n",
       "</tr>\n",
       "</table>\n",
       "<table class=\"simpletable\">\n",
       "<tr>\n",
       "       <td></td>          <th>coef</th>     <th>std err</th>      <th>t</th>      <th>P>|t|</th>  <th>[0.025</th>    <th>0.975]</th>  \n",
       "</tr>\n",
       "<tr>\n",
       "  <th>const</th>       <td> 2495.7053</td> <td>  105.666</td> <td>   23.619</td> <td> 0.000</td> <td> 2288.345</td> <td> 2703.066</td>\n",
       "</tr>\n",
       "<tr>\n",
       "  <th>O65</th>         <td> -965.6739</td> <td>  337.789</td> <td>   -2.859</td> <td> 0.004</td> <td>-1628.555</td> <td> -302.792</td>\n",
       "</tr>\n",
       "<tr>\n",
       "  <th>Bame</th>        <td>  231.0270</td> <td>   87.929</td> <td>    2.627</td> <td> 0.009</td> <td>   58.474</td> <td>  403.580</td>\n",
       "</tr>\n",
       "<tr>\n",
       "  <th>Income</th>      <td>-3755.2900</td> <td>  490.576</td> <td>   -7.655</td> <td> 0.000</td> <td>-4718.003</td> <td>-2792.577</td>\n",
       "</tr>\n",
       "<tr>\n",
       "  <th>HP</th>          <td>   -0.0003</td> <td>  8.2e-05</td> <td>   -4.071</td> <td> 0.000</td> <td>   -0.000</td> <td>   -0.000</td>\n",
       "</tr>\n",
       "<tr>\n",
       "  <th>PR</th>          <td>   -8.5681</td> <td>    1.868</td> <td>   -4.587</td> <td> 0.000</td> <td>  -12.234</td> <td>   -4.902</td>\n",
       "</tr>\n",
       "<tr>\n",
       "  <th>NP</th>          <td>  -19.3223</td> <td>    6.441</td> <td>   -3.000</td> <td> 0.003</td> <td>  -31.962</td> <td>   -6.682</td>\n",
       "</tr>\n",
       "<tr>\n",
       "  <th>Geo</th>         <td>  -53.7722</td> <td>   34.667</td> <td>   -1.551</td> <td> 0.121</td> <td> -121.802</td> <td>   14.258</td>\n",
       "</tr>\n",
       "<tr>\n",
       "  <th>Density</th>     <td>   -0.6110</td> <td>    0.280</td> <td>   -2.181</td> <td> 0.029</td> <td>   -1.161</td> <td>   -0.061</td>\n",
       "</tr>\n",
       "<tr>\n",
       "  <th>Health</th>      <td>   52.4227</td> <td>   42.092</td> <td>    1.245</td> <td> 0.213</td> <td>  -30.178</td> <td>  135.024</td>\n",
       "</tr>\n",
       "<tr>\n",
       "  <th>Education</th>   <td>   17.0931</td> <td>    2.405</td> <td>    7.108</td> <td> 0.000</td> <td>   12.374</td> <td>   21.812</td>\n",
       "</tr>\n",
       "<tr>\n",
       "  <th>Crime</th>       <td>  152.6950</td> <td>   42.573</td> <td>    3.587</td> <td> 0.000</td> <td>   69.150</td> <td>  236.240</td>\n",
       "</tr>\n",
       "<tr>\n",
       "  <th>Environment</th> <td>   -4.8179</td> <td>    2.346</td> <td>   -2.054</td> <td> 0.040</td> <td>   -9.421</td> <td>   -0.214</td>\n",
       "</tr>\n",
       "</table>\n",
       "<table class=\"simpletable\">\n",
       "<tr>\n",
       "  <th>Omnibus:</th>       <td>32.585</td> <th>  Durbin-Watson:     </th> <td>   1.114</td>\n",
       "</tr>\n",
       "<tr>\n",
       "  <th>Prob(Omnibus):</th> <td> 0.000</td> <th>  Jarque-Bera (JB):  </th> <td>  35.120</td>\n",
       "</tr>\n",
       "<tr>\n",
       "  <th>Skew:</th>          <td> 0.461</td> <th>  Prob(JB):          </th> <td>2.36e-08</td>\n",
       "</tr>\n",
       "<tr>\n",
       "  <th>Kurtosis:</th>      <td> 3.077</td> <th>  Cond. No.          </th> <td>2.38e+07</td>\n",
       "</tr>\n",
       "</table><br/><br/>Warnings:<br/>[1] Standard Errors assume that the covariance matrix of the errors is correctly specified.<br/>[2] The condition number is large, 2.38e+07. This might indicate that there are<br/>strong multicollinearity or other numerical problems."
      ],
      "text/plain": [
       "<class 'statsmodels.iolib.summary.Summary'>\n",
       "\"\"\"\n",
       "                            OLS Regression Results                            \n",
       "==============================================================================\n",
       "Dep. Variable:                      y   R-squared:                       0.301\n",
       "Model:                            OLS   Adj. R-squared:                  0.292\n",
       "Method:                 Least Squares   F-statistic:                     34.74\n",
       "Date:                Mon, 23 Aug 2021   Prob (F-statistic):           2.87e-67\n",
       "Time:                        21:52:47   Log-Likelihood:                -7223.4\n",
       "No. Observations:                 983   AIC:                         1.447e+04\n",
       "Df Residuals:                     970   BIC:                         1.454e+04\n",
       "Df Model:                          12                                         \n",
       "Covariance Type:            nonrobust                                         \n",
       "===============================================================================\n",
       "                  coef    std err          t      P>|t|      [0.025      0.975]\n",
       "-------------------------------------------------------------------------------\n",
       "const        2495.7053    105.666     23.619      0.000    2288.345    2703.066\n",
       "O65          -965.6739    337.789     -2.859      0.004   -1628.555    -302.792\n",
       "Bame          231.0270     87.929      2.627      0.009      58.474     403.580\n",
       "Income      -3755.2900    490.576     -7.655      0.000   -4718.003   -2792.577\n",
       "HP             -0.0003    8.2e-05     -4.071      0.000      -0.000      -0.000\n",
       "PR             -8.5681      1.868     -4.587      0.000     -12.234      -4.902\n",
       "NP            -19.3223      6.441     -3.000      0.003     -31.962      -6.682\n",
       "Geo           -53.7722     34.667     -1.551      0.121    -121.802      14.258\n",
       "Density        -0.6110      0.280     -2.181      0.029      -1.161      -0.061\n",
       "Health         52.4227     42.092      1.245      0.213     -30.178     135.024\n",
       "Education      17.0931      2.405      7.108      0.000      12.374      21.812\n",
       "Crime         152.6950     42.573      3.587      0.000      69.150     236.240\n",
       "Environment    -4.8179      2.346     -2.054      0.040      -9.421      -0.214\n",
       "==============================================================================\n",
       "Omnibus:                       32.585   Durbin-Watson:                   1.114\n",
       "Prob(Omnibus):                  0.000   Jarque-Bera (JB):               35.120\n",
       "Skew:                           0.461   Prob(JB):                     2.36e-08\n",
       "Kurtosis:                       3.077   Cond. No.                     2.38e+07\n",
       "==============================================================================\n",
       "\n",
       "Warnings:\n",
       "[1] Standard Errors assume that the covariance matrix of the errors is correctly specified.\n",
       "[2] The condition number is large, 2.38e+07. This might indicate that there are\n",
       "strong multicollinearity or other numerical problems.\n",
       "\"\"\""
      ]
     },
     "execution_count": 122,
     "metadata": {},
     "output_type": "execute_result"
    }
   ],
   "source": [
    "model3=predictors_lockdown3\n",
    "OLS_out3 = sm.OLS(endog=response_lockdown3.values.tolist(), exog=sm.add_constant(model3)).fit()\n",
    "OLS_out3.summary()"
   ]
  },
  {
   "cell_type": "markdown",
   "metadata": {},
   "source": [
    "### 2.4.2 Residual test analysis"
   ]
  },
  {
   "cell_type": "code",
   "execution_count": 123,
   "metadata": {},
   "outputs": [
    {
     "name": "stderr",
     "output_type": "stream",
     "text": [
      "D:\\Anaconda\\lib\\site-packages\\matplotlib\\backends\\backend_agg.py:214: RuntimeWarning: Glyph 8722 missing from current font.\n",
      "  font.set_text(s, 0.0, flags=flags)\n",
      "D:\\Anaconda\\lib\\site-packages\\matplotlib\\backends\\backend_agg.py:183: RuntimeWarning: Glyph 8722 missing from current font.\n",
      "  font.set_text(s, 0, flags=flags)\n"
     ]
    },
    {
     "data": {
      "image/png": "[encoded data removed]",
      "text/plain": [
       "<Figure size 432x288 with 1 Axes>"
      ]
     },
     "metadata": {
      "needs_background": "light"
     },
     "output_type": "display_data"
    }
   ],
   "source": [
    "import matplotlib.pyplot as plt\n",
    "\n",
    "import sys\n",
    "PATH = sys.path[0]\n",
    "figure_3 = plt.figure()\n",
    "\n",
    "student_resid3 = sm.regression.linear_model.OLSResults.outlier_test(OLS_out3)\n",
    "plt.scatter(OLS_out3.fittedvalues, student_resid3.student_resid)\n",
    "plt.xlabel('Fitted cases rate 3')\n",
    "plt.ylabel('Residual')\n",
    "#plt.title('Figure 6: Residual vs. Fitted Plot of cases rate 3')\n",
    "plt.show()\n",
    "\n",
    "figure_3.savefig(PATH + '/res_3.png', dpi=300)"
   ]
  },
  {
   "cell_type": "code",
   "execution_count": 124,
   "metadata": {},
   "outputs": [],
   "source": [
    "df_temp3 = sm.regression.linear_model.OLSResults.outlier_test(OLS_out3)\n",
    "df_temp3 = df_temp3[[\"student_resid\"]]\n",
    "lockdown3['Residual'] = df_temp3"
   ]
  },
  {
   "cell_type": "code",
   "execution_count": 125,
   "metadata": {},
   "outputs": [
    {
     "name": "stdout",
     "output_type": "stream",
     "text": [
      "count                                   983.0000\n",
      "mean                                      0.0005\n",
      "std                                       1.0016\n",
      "min                                      -2.6118\n",
      "25%                                      -0.6881\n",
      "50%                                      -0.1247\n",
      "75%                                       0.6159\n",
      "max                                       3.2675\n",
      "Name: Residual, dtype: float64\n",
      "count                                   979.0000\n",
      "mean                                     -0.0125\n",
      "std                                       0.9828\n",
      "min                                      -2.6118\n",
      "25%                                      -0.6904\n",
      "50%                                      -0.1277\n",
      "75%                                       0.6078\n",
      "max                                       2.8538\n",
      "Name: Residual, dtype: float64\n"
     ]
    }
   ],
   "source": [
    "print(lockdown3.Residual.describe())\n",
    "lockdown3_final = lockdown3[(lockdown3[\"Residual\"]<3) & (lockdown3[\"Residual\"]>-3)]\n",
    "print(lockdown3_final.Residual.describe())"
   ]
  },
  {
   "cell_type": "code",
   "execution_count": 126,
   "metadata": {},
   "outputs": [
    {
     "name": "stdout",
     "output_type": "stream",
     "text": [
      "<class 'pandas.core.frame.DataFrame'>\n",
      "Int64Index: 979 entries, 0 to 982\n",
      "Data columns (total 21 columns):\n",
      " #   Column       Non-Null Count  Dtype  \n",
      "---  ------       --------------  -----  \n",
      " 0   Cases3       979 non-null    float64\n",
      " 1   NUK          979 non-null    float64\n",
      " 2   O65          979 non-null    float64\n",
      " 3   Bame         979 non-null    float64\n",
      " 4   Income       979 non-null    float64\n",
      " 5   HP           979 non-null    float64\n",
      " 6   OO           979 non-null    float64\n",
      " 7   OML          979 non-null    float64\n",
      " 8   SR           979 non-null    float64\n",
      " 9   PR           979 non-null    float64\n",
      " 10  NP           979 non-null    float64\n",
      " 11  Geo          979 non-null    float64\n",
      " 12  Density      979 non-null    float64\n",
      " 13  IMD          979 non-null    float64\n",
      " 14  Health       979 non-null    float64\n",
      " 15  AS           979 non-null    float64\n",
      " 16  Employment   979 non-null    float64\n",
      " 17  Education    979 non-null    float64\n",
      " 18  Crime        979 non-null    float64\n",
      " 19  Environment  979 non-null    float64\n",
      " 20  Residual     979 non-null    float64\n",
      "dtypes: float64(21)\n",
      "memory usage: 168.3 KB\n"
     ]
    }
   ],
   "source": [
    "lockdown3_final.info()"
   ]
  },
  {
   "cell_type": "code",
   "execution_count": 127,
   "metadata": {},
   "outputs": [
    {
     "data": {
      "text/html": [
       "<table class=\"simpletable\">\n",
       "<caption>OLS Regression Results</caption>\n",
       "<tr>\n",
       "  <th>Dep. Variable:</th>            <td>y</td>        <th>  R-squared:         </th> <td>   0.302</td> \n",
       "</tr>\n",
       "<tr>\n",
       "  <th>Model:</th>                   <td>OLS</td>       <th>  Adj. R-squared:    </th> <td>   0.293</td> \n",
       "</tr>\n",
       "<tr>\n",
       "  <th>Method:</th>             <td>Least Squares</td>  <th>  F-statistic:       </th> <td>   34.76</td> \n",
       "</tr>\n",
       "<tr>\n",
       "  <th>Date:</th>             <td>Mon, 23 Aug 2021</td> <th>  Prob (F-statistic):</th> <td>2.91e-67</td> \n",
       "</tr>\n",
       "<tr>\n",
       "  <th>Time:</th>                 <td>21:52:51</td>     <th>  Log-Likelihood:    </th> <td> -7175.1</td> \n",
       "</tr>\n",
       "<tr>\n",
       "  <th>No. Observations:</th>      <td>   979</td>      <th>  AIC:               </th> <td>1.438e+04</td>\n",
       "</tr>\n",
       "<tr>\n",
       "  <th>Df Residuals:</th>          <td>   966</td>      <th>  BIC:               </th> <td>1.444e+04</td>\n",
       "</tr>\n",
       "<tr>\n",
       "  <th>Df Model:</th>              <td>    12</td>      <th>                     </th>     <td> </td>    \n",
       "</tr>\n",
       "<tr>\n",
       "  <th>Covariance Type:</th>      <td>nonrobust</td>    <th>                     </th>     <td> </td>    \n",
       "</tr>\n",
       "</table>\n",
       "<table class=\"simpletable\">\n",
       "<tr>\n",
       "       <td></td>          <th>coef</th>     <th>std err</th>      <th>t</th>      <th>P>|t|</th>  <th>[0.025</th>    <th>0.975]</th>  \n",
       "</tr>\n",
       "<tr>\n",
       "  <th>const</th>       <td> 2460.2062</td> <td>  103.824</td> <td>   23.696</td> <td> 0.000</td> <td> 2256.460</td> <td> 2663.952</td>\n",
       "</tr>\n",
       "<tr>\n",
       "  <th>O65</th>         <td> -934.4918</td> <td>  331.587</td> <td>   -2.818</td> <td> 0.005</td> <td>-1585.205</td> <td> -283.779</td>\n",
       "</tr>\n",
       "<tr>\n",
       "  <th>Bame</th>        <td>  189.2974</td> <td>   86.656</td> <td>    2.184</td> <td> 0.029</td> <td>   19.241</td> <td>  359.354</td>\n",
       "</tr>\n",
       "<tr>\n",
       "  <th>Income</th>      <td>-3573.8497</td> <td>  482.273</td> <td>   -7.410</td> <td> 0.000</td> <td>-4520.274</td> <td>-2627.426</td>\n",
       "</tr>\n",
       "<tr>\n",
       "  <th>HP</th>          <td>   -0.0003</td> <td> 8.05e-05</td> <td>   -4.242</td> <td> 0.000</td> <td>   -0.000</td> <td>   -0.000</td>\n",
       "</tr>\n",
       "<tr>\n",
       "  <th>PR</th>          <td>   -7.6214</td> <td>    1.838</td> <td>   -4.146</td> <td> 0.000</td> <td>  -11.229</td> <td>   -4.014</td>\n",
       "</tr>\n",
       "<tr>\n",
       "  <th>NP</th>          <td>  -19.0532</td> <td>    6.320</td> <td>   -3.015</td> <td> 0.003</td> <td>  -31.457</td> <td>   -6.650</td>\n",
       "</tr>\n",
       "<tr>\n",
       "  <th>Geo</th>         <td>  -47.6940</td> <td>   34.082</td> <td>   -1.399</td> <td> 0.162</td> <td> -114.577</td> <td>   19.189</td>\n",
       "</tr>\n",
       "<tr>\n",
       "  <th>Density</th>     <td>   -0.5753</td> <td>    0.275</td> <td>   -2.093</td> <td> 0.037</td> <td>   -1.115</td> <td>   -0.036</td>\n",
       "</tr>\n",
       "<tr>\n",
       "  <th>Health</th>      <td>   57.8922</td> <td>   41.337</td> <td>    1.401</td> <td> 0.162</td> <td>  -23.228</td> <td>  139.012</td>\n",
       "</tr>\n",
       "<tr>\n",
       "  <th>Education</th>   <td>   17.2098</td> <td>    2.361</td> <td>    7.289</td> <td> 0.000</td> <td>   12.577</td> <td>   21.843</td>\n",
       "</tr>\n",
       "<tr>\n",
       "  <th>Crime</th>       <td>  136.3015</td> <td>   41.858</td> <td>    3.256</td> <td> 0.001</td> <td>   54.157</td> <td>  218.445</td>\n",
       "</tr>\n",
       "<tr>\n",
       "  <th>Environment</th> <td>   -4.6989</td> <td>    2.302</td> <td>   -2.041</td> <td> 0.042</td> <td>   -9.217</td> <td>   -0.181</td>\n",
       "</tr>\n",
       "</table>\n",
       "<table class=\"simpletable\">\n",
       "<tr>\n",
       "  <th>Omnibus:</th>       <td>25.688</td> <th>  Durbin-Watson:     </th> <td>   1.117</td>\n",
       "</tr>\n",
       "<tr>\n",
       "  <th>Prob(Omnibus):</th> <td> 0.000</td> <th>  Jarque-Bera (JB):  </th> <td>  27.340</td>\n",
       "</tr>\n",
       "<tr>\n",
       "  <th>Skew:</th>          <td> 0.408</td> <th>  Prob(JB):          </th> <td>1.16e-06</td>\n",
       "</tr>\n",
       "<tr>\n",
       "  <th>Kurtosis:</th>      <td> 2.934</td> <th>  Cond. No.          </th> <td>2.38e+07</td>\n",
       "</tr>\n",
       "</table><br/><br/>Warnings:<br/>[1] Standard Errors assume that the covariance matrix of the errors is correctly specified.<br/>[2] The condition number is large, 2.38e+07. This might indicate that there are<br/>strong multicollinearity or other numerical problems."
      ],
      "text/plain": [
       "<class 'statsmodels.iolib.summary.Summary'>\n",
       "\"\"\"\n",
       "                            OLS Regression Results                            \n",
       "==============================================================================\n",
       "Dep. Variable:                      y   R-squared:                       0.302\n",
       "Model:                            OLS   Adj. R-squared:                  0.293\n",
       "Method:                 Least Squares   F-statistic:                     34.76\n",
       "Date:                Mon, 23 Aug 2021   Prob (F-statistic):           2.91e-67\n",
       "Time:                        21:52:51   Log-Likelihood:                -7175.1\n",
       "No. Observations:                 979   AIC:                         1.438e+04\n",
       "Df Residuals:                     966   BIC:                         1.444e+04\n",
       "Df Model:                          12                                         \n",
       "Covariance Type:            nonrobust                                         \n",
       "===============================================================================\n",
       "                  coef    std err          t      P>|t|      [0.025      0.975]\n",
       "-------------------------------------------------------------------------------\n",
       "const        2460.2062    103.824     23.696      0.000    2256.460    2663.952\n",
       "O65          -934.4918    331.587     -2.818      0.005   -1585.205    -283.779\n",
       "Bame          189.2974     86.656      2.184      0.029      19.241     359.354\n",
       "Income      -3573.8497    482.273     -7.410      0.000   -4520.274   -2627.426\n",
       "HP             -0.0003   8.05e-05     -4.242      0.000      -0.000      -0.000\n",
       "PR             -7.6214      1.838     -4.146      0.000     -11.229      -4.014\n",
       "NP            -19.0532      6.320     -3.015      0.003     -31.457      -6.650\n",
       "Geo           -47.6940     34.082     -1.399      0.162    -114.577      19.189\n",
       "Density        -0.5753      0.275     -2.093      0.037      -1.115      -0.036\n",
       "Health         57.8922     41.337      1.401      0.162     -23.228     139.012\n",
       "Education      17.2098      2.361      7.289      0.000      12.577      21.843\n",
       "Crime         136.3015     41.858      3.256      0.001      54.157     218.445\n",
       "Environment    -4.6989      2.302     -2.041      0.042      -9.217      -0.181\n",
       "==============================================================================\n",
       "Omnibus:                       25.688   Durbin-Watson:                   1.117\n",
       "Prob(Omnibus):                  0.000   Jarque-Bera (JB):               27.340\n",
       "Skew:                           0.408   Prob(JB):                     1.16e-06\n",
       "Kurtosis:                       2.934   Cond. No.                     2.38e+07\n",
       "==============================================================================\n",
       "\n",
       "Warnings:\n",
       "[1] Standard Errors assume that the covariance matrix of the errors is correctly specified.\n",
       "[2] The condition number is large, 2.38e+07. This might indicate that there are\n",
       "strong multicollinearity or other numerical problems.\n",
       "\"\"\""
      ]
     },
     "execution_count": 127,
     "metadata": {},
     "output_type": "execute_result"
    }
   ],
   "source": [
    "predictors_lockdown3_final = lockdown3_final.drop({'Cases3','Residual','SR','IMD','Employment','AS','NUK','OO','OML'}, axis=1)\n",
    "response_lockdown3_final = lockdown3_final['Cases3']\n",
    "model3_final=predictors_lockdown3_final\n",
    "OLS_out3_final = sm.OLS(endog=response_lockdown3_final.values.tolist(), exog=sm.add_constant(model3_final)).fit()\n",
    "OLS_out3_final.summary()"
   ]
  },
  {
   "cell_type": "markdown",
   "metadata": {},
   "source": [
    "### 2.4.3 Lasso"
   ]
  },
  {
   "cell_type": "code",
   "execution_count": 128,
   "metadata": {},
   "outputs": [
    {
     "data": {
      "text/plain": [
       "Lasso(max_iter=100000000.0, normalize=True)"
      ]
     },
     "execution_count": 128,
     "metadata": {},
     "output_type": "execute_result"
    }
   ],
   "source": [
    "# increase the max_iter to guarantee convergence\n",
    "lasso_model3 = linear_model.Lasso(max_iter=10e7, normalize=True)\n",
    "response_data3 = lockdown3[['Cases3']]\n",
    "predictors_data3 = lockdown3.drop(columns=['Cases3','Residual'], axis=1)\n",
    "lasso_model3.fit(X=predictors_data3, y=response_data3)"
   ]
  },
  {
   "cell_type": "code",
   "execution_count": 129,
   "metadata": {},
   "outputs": [
    {
     "data": {
      "text/plain": [
       "0.3616163679131458"
      ]
     },
     "execution_count": 129,
     "metadata": {},
     "output_type": "execute_result"
    }
   ],
   "source": [
    "lasso_model3.score(X=predictors_data3, y=response_data3)"
   ]
  },
  {
   "cell_type": "code",
   "execution_count": 130,
   "metadata": {},
   "outputs": [
    {
     "name": "stdout",
     "output_type": "stream",
     "text": [
      "            var                                     coef\n",
      "0           NUK                                  -5.0536\n",
      "1           O65                                  -0.0000\n",
      "2          Bame                                   0.0000\n",
      "3        Income                                  -0.0000\n",
      "4            HP                                  -0.0000\n",
      "5            OO                                   0.0000\n",
      "6           OML                                   2.6639\n",
      "7            SR                                  -3.9784\n",
      "8            PR                                  -0.0000\n",
      "9            NP                                 -15.6170\n",
      "10          Geo                                  -0.0000\n",
      "11      Density                                  -0.0000\n",
      "12          IMD                                  -0.0000\n",
      "13       Health                                   0.0000\n",
      "14           AS                               1,783.1685\n",
      "15   Employment                                  -0.0000\n",
      "16    Education                                  -0.0000\n",
      "17        Crime                                   0.0000\n",
      "18  Environment                                  -0.0000\n"
     ]
    }
   ],
   "source": [
    "# print(lasso_model.coef_)\n",
    "df_coef_lasso3 = pd.DataFrame({\"var\":predictors_data3.columns.values, \"coef\":lasso_model3.coef_})\n",
    "print(df_coef_lasso3)"
   ]
  },
  {
   "cell_type": "code",
   "execution_count": 131,
   "metadata": {},
   "outputs": [
    {
     "name": "stderr",
     "output_type": "stream",
     "text": [
      "D:\\Anaconda\\lib\\site-packages\\sklearn\\linear_model\\_coordinate_descent.py:525: ConvergenceWarning: Objective did not converge. You might want to increase the number of iterations. Duality gap: 14874938.805038534, tolerance: 266342.686226\n",
      "  model = cd_fast.enet_coordinate_descent_gram(\n",
      "D:\\Anaconda\\lib\\site-packages\\sklearn\\linear_model\\_coordinate_descent.py:525: ConvergenceWarning: Objective did not converge. You might want to increase the number of iterations. Duality gap: 1285369.295270294, tolerance: 266342.686226\n",
      "  model = cd_fast.enet_coordinate_descent_gram(\n",
      "D:\\Anaconda\\lib\\site-packages\\sklearn\\linear_model\\_coordinate_descent.py:525: ConvergenceWarning: Objective did not converge. You might want to increase the number of iterations. Duality gap: 12332822.334611543, tolerance: 266342.686226\n",
      "  model = cd_fast.enet_coordinate_descent_gram(\n"
     ]
    },
    {
     "data": {
      "text/plain": [
       "(-1.25, 4.25, -462.05458262632715, 441.5036806119149)"
      ]
     },
     "execution_count": 131,
     "metadata": {},
     "output_type": "execute_result"
    },
    {
     "name": "stderr",
     "output_type": "stream",
     "text": [
      "D:\\Anaconda\\lib\\site-packages\\matplotlib\\backends\\backend_agg.py:214: RuntimeWarning: Glyph 8722 missing from current font.\n",
      "  font.set_text(s, 0.0, flags=flags)\n",
      "D:\\Anaconda\\lib\\site-packages\\matplotlib\\backends\\backend_agg.py:183: RuntimeWarning: Glyph 8722 missing from current font.\n",
      "  font.set_text(s, 0, flags=flags)\n"
     ]
    },
    {
     "data": {
      "image/png": "[encoded data removed]",
      "text/plain": [
       "<Figure size 432x288 with 1 Axes>"
      ]
     },
     "metadata": {
      "needs_background": "light"
     },
     "output_type": "display_data"
    }
   ],
   "source": [
    "predictors_data_standardised3 = predictors_data3/predictors_data3.std(axis=0)\n",
    "\n",
    "alphas_lasso3, coefs_lasso3, _ = lasso_path(predictors_data_standardised3, response_data3.values.reshape(-1),alphas = [.1, .5, 1, 10, 100, 1000, 10000], fit_intercept=False)\n",
    "\n",
    "log_alphas_lasso3 = np.log10(alphas_lasso3)\n",
    "for coef_3 in coefs_lasso3:\n",
    "    l3 = plt.plot(log_alphas_lasso3, coef_3)\n",
    "\n",
    "plt.xlabel('Log(alpha)')\n",
    "plt.ylabel('coefficients')\n",
    "plt.title('Figure 9: Lasso Path')\n",
    "plt.axis('tight')"
   ]
  },
  {
   "cell_type": "markdown",
   "metadata": {},
   "source": [
    "### 2.4.4 Regression Tree"
   ]
  },
  {
   "cell_type": "code",
   "execution_count": 132,
   "metadata": {},
   "outputs": [
    {
     "name": "stdout",
     "output_type": "stream",
     "text": [
      "(685, 19)\n",
      "(147, 19)\n",
      "(147, 19)\n"
     ]
    }
   ],
   "source": [
    "# We apply train_test_split twice to obtain the three train, dev and test sets\n",
    "y = lockdown3_final[['Cases3']]\n",
    "X = lockdown3_final.drop(columns=['Cases3','Residual'], axis=1)\n",
    "X_train, X_test, y_train, y_test = train_test_split(X, y, test_size=0.3, random_state=1)\n",
    "X_val, X_test, y_val, y_test = train_test_split(X_test, y_test, test_size=0.5, random_state=2020)\n",
    "print(X_train.shape)\n",
    "print(X_val.shape)\n",
    "print(X_test.shape)"
   ]
  },
  {
   "cell_type": "code",
   "execution_count": 133,
   "metadata": {},
   "outputs": [
    {
     "data": {
      "text/plain": [
       "0.7693540737660611"
      ]
     },
     "execution_count": 133,
     "metadata": {},
     "output_type": "execute_result"
    }
   ],
   "source": [
    "reg_tree = DecisionTreeRegressor(random_state=0,max_depth=8)\n",
    "reg_tree.fit(X_train, y_train.values.ravel())\n",
    "reg_tree.score(X=X_train, y=y_train)"
   ]
  },
  {
   "cell_type": "code",
   "execution_count": 134,
   "metadata": {},
   "outputs": [
    {
     "data": {
      "text/plain": [
       "0.1868507819809636"
      ]
     },
     "execution_count": 134,
     "metadata": {},
     "output_type": "execute_result"
    }
   ],
   "source": [
    "reg_tree.score(X=X_val, y=y_val)"
   ]
  },
  {
   "cell_type": "markdown",
   "metadata": {},
   "source": [
    "### 2.4.4.1 Optimise hyperparameters of the ML model"
   ]
  },
  {
   "cell_type": "code",
   "execution_count": 135,
   "metadata": {},
   "outputs": [],
   "source": [
    "# number of trees to tune\n",
    "depth = [1,2,3,4,5,6,7,8,9,10,11,12,13,14,15,16,17,18,19,20]\n",
    "\n",
    "# process of tune the number of trees\n",
    "max_score = 0\n",
    "best_depth = None\n",
    "for t in depth:\n",
    "    m = DecisionTreeRegressor(random_state=0,max_depth=t).fit(X_train,y_train)\n",
    "    score = m.score(X_val, y_val)\n",
    "    if score > max_score:\n",
    "        max_score = score\n",
    "        best_depth = t"
   ]
  },
  {
   "cell_type": "code",
   "execution_count": 136,
   "metadata": {},
   "outputs": [
    {
     "data": {
      "text/plain": [
       "0.27555085050793937"
      ]
     },
     "execution_count": 136,
     "metadata": {},
     "output_type": "execute_result"
    }
   ],
   "source": [
    "max_score"
   ]
  },
  {
   "cell_type": "code",
   "execution_count": 137,
   "metadata": {},
   "outputs": [
    {
     "data": {
      "text/plain": [
       "6"
      ]
     },
     "execution_count": 137,
     "metadata": {},
     "output_type": "execute_result"
    }
   ],
   "source": [
    "best_depth"
   ]
  },
  {
   "cell_type": "code",
   "execution_count": 138,
   "metadata": {},
   "outputs": [
    {
     "data": {
      "text/plain": [
       "DecisionTreeRegressor(max_depth=6, random_state=0)"
      ]
     },
     "execution_count": 138,
     "metadata": {},
     "output_type": "execute_result"
    }
   ],
   "source": [
    "rt_final = DecisionTreeRegressor(random_state=0,max_depth=best_depth)\n",
    "rt_final.fit(X_train, y_train)"
   ]
  },
  {
   "cell_type": "code",
   "execution_count": 139,
   "metadata": {},
   "outputs": [
    {
     "name": "stdout",
     "output_type": "stream",
     "text": [
      "The score on the training data:\n",
      "0.615676770855906\n",
      "The score on the development data:\n",
      "0.27555085050793937\n"
     ]
    }
   ],
   "source": [
    "print('The score on the training data:')\n",
    "print(rt_final.score(X_train, y_train))\n",
    "print('The score on the development data:')\n",
    "print(rt_final.score(X_val, y_val))"
   ]
  },
  {
   "cell_type": "markdown",
   "metadata": {},
   "source": [
    "### 2.4.4.2 Cross-validation"
   ]
  },
  {
   "cell_type": "code",
   "execution_count": 140,
   "metadata": {},
   "outputs": [
    {
     "name": "stdout",
     "output_type": "stream",
     "text": [
      "The best parameter value is: \n",
      "{'max_depth': 3}\n",
      "The best score is: \n",
      "0.2654878724331655\n"
     ]
    }
   ],
   "source": [
    "# values of n_estimators\n",
    "parameters = {'max_depth':[1,2,3,4,5,6,7,8,9,10,11,12,13,14,15,16,17,18,19,20]}\n",
    "rt = DecisionTreeRegressor()\n",
    "\n",
    "clt = model_selection.GridSearchCV(rt, parameters)\n",
    "\n",
    "clt.fit(X_train, y_train)\n",
    "\n",
    "# we can query the best parameter value and its accuracy score\n",
    "print (\"The best parameter value is: \")\n",
    "print (clt.best_params_)\n",
    "print (\"The best score is: \")\n",
    "print (clt.best_score_)"
   ]
  },
  {
   "cell_type": "code",
   "execution_count": 141,
   "metadata": {},
   "outputs": [],
   "source": [
    "max_depth_range = [1,2,3,4,5,6,7,8,9,10,11,12,13,14,15,16,17,18,19,20]\n",
    "\n",
    "train_scores, valid_scores = validation_curve(estimator=DecisionTreeRegressor(), \n",
    "                                              X=X_train, y=y_train, \n",
    "                                              param_name=\"max_depth\",\n",
    "                                              param_range=max_depth_range,\n",
    "                                              cv=5)"
   ]
  },
  {
   "cell_type": "code",
   "execution_count": 142,
   "metadata": {},
   "outputs": [
    {
     "data": {
      "image/png": "[encoded data removed]",
      "text/plain": [
       "<Figure size 432x288 with 1 Axes>"
      ]
     },
     "metadata": {
      "needs_background": "light"
     },
     "output_type": "display_data"
    }
   ],
   "source": [
    "# plotting the validation curve\n",
    "train_scores_mean = np.mean(train_scores, axis=1)\n",
    "train_scores_std = np.std(train_scores, axis=1)\n",
    "valid_scores_mean = np.mean(valid_scores, axis=1)\n",
    "valid_scores_std = np.std(valid_scores, axis=1)\n",
    "\n",
    "plt.title(\"Figure 10: Validation Curve with Regression Tree\")\n",
    "plt.xlabel(r\"depth\")\n",
    "plt.ylabel(\"Score\")\n",
    "plt.ylim(0.1, 1.0)\n",
    "#plt.xlim(1, 20)\n",
    "lw = 2\n",
    "plt.semilogx(max_depth_range, train_scores_mean, label=\"Training score\",\n",
    "             color=\"darkorange\", lw=lw)\n",
    "plt.fill_between(max_depth_range, train_scores_mean - train_scores_std,\n",
    "                 train_scores_mean + train_scores_std, alpha=0.2,\n",
    "                 color=\"darkorange\", lw=lw)\n",
    "plt.semilogx(max_depth_range, valid_scores_mean, label=\"Cross-validation score\",\n",
    "             color=\"navy\", lw=lw)\n",
    "plt.fill_between(max_depth_range, valid_scores_mean - valid_scores_std,\n",
    "                 valid_scores_mean + valid_scores_std, alpha=0.2,\n",
    "                 color=\"navy\", lw=lw)\n",
    "plt.legend(loc=\"best\")\n",
    "plt.show()"
   ]
  },
  {
   "cell_type": "code",
   "execution_count": 143,
   "metadata": {},
   "outputs": [
    {
     "data": {
      "text/plain": [
       "0.27492731656863245"
      ]
     },
     "execution_count": 143,
     "metadata": {},
     "output_type": "execute_result"
    }
   ],
   "source": [
    "rt_final.score(X_test, y_test)"
   ]
  },
  {
   "cell_type": "code",
   "execution_count": 144,
   "metadata": {},
   "outputs": [
    {
     "name": "stdout",
     "output_type": "stream",
     "text": [
      "Feature: 0, Score: 0.06898\n",
      "Feature: 1, Score: 0.00194\n",
      "Feature: 2, Score: 0.03900\n",
      "Feature: 3, Score: 0.00050\n",
      "Feature: 4, Score: 0.07132\n",
      "Feature: 5, Score: 0.15668\n",
      "Feature: 6, Score: 0.00794\n",
      "Feature: 7, Score: 0.03667\n",
      "Feature: 8, Score: 0.01495\n",
      "Feature: 9, Score: 0.03231\n",
      "Feature: 10, Score: 0.06909\n",
      "Feature: 11, Score: 0.00050\n",
      "Feature: 12, Score: 0.00370\n",
      "Feature: 13, Score: 0.01718\n",
      "Feature: 14, Score: 0.39150\n",
      "Feature: 15, Score: 0.00000\n",
      "Feature: 16, Score: 0.02417\n",
      "Feature: 17, Score: 0.02010\n",
      "Feature: 18, Score: 0.04346\n"
     ]
    },
    {
     "data": {
      "image/png": "[encoded data removed]",
      "text/plain": [
       "<Figure size 432x288 with 1 Axes>"
      ]
     },
     "metadata": {
      "needs_background": "light"
     },
     "output_type": "display_data"
    }
   ],
   "source": [
    "importance = rt_final.feature_importances_\n",
    "# summarize feature importance\n",
    "for i,v in enumerate(importance):\n",
    " print('Feature: %0d, Score: %.5f' % (i,v))\n",
    "# plot feature importance\n",
    "plt.bar([x for x in range(len(importance))], importance)\n",
    "plt.title('Figure 11: Feature Importances of Regression Tree')\n",
    "plt.show()"
   ]
  },
  {
   "cell_type": "markdown",
   "metadata": {},
   "source": [
    "### 2.4.5 Random Forest"
   ]
  },
  {
   "cell_type": "code",
   "execution_count": 145,
   "metadata": {},
   "outputs": [
    {
     "data": {
      "text/plain": [
       "0.9218624252894702"
      ]
     },
     "execution_count": 145,
     "metadata": {},
     "output_type": "execute_result"
    }
   ],
   "source": [
    "rf = RandomForestRegressor(n_estimators=100)\n",
    "rf.fit(X_train,y_train.values.ravel())\n",
    "rf.score(X_train, y_train)"
   ]
  },
  {
   "cell_type": "code",
   "execution_count": 146,
   "metadata": {},
   "outputs": [
    {
     "data": {
      "text/plain": [
       "0.44302836090580944"
      ]
     },
     "execution_count": 146,
     "metadata": {},
     "output_type": "execute_result"
    }
   ],
   "source": [
    "rf.score(X_val, y_val)"
   ]
  },
  {
   "cell_type": "markdown",
   "metadata": {},
   "source": [
    "### 2.4.5.1 Optimise hyperparameters of the ML model"
   ]
  },
  {
   "cell_type": "code",
   "execution_count": 147,
   "metadata": {},
   "outputs": [],
   "source": [
    "# number of trees to tune\n",
    "no_trees = [10,20,30,40,50,70,100,150,200]\n",
    "\n",
    "# process of tune the number of trees\n",
    "max_score = 0\n",
    "best_no_trees = None\n",
    "for t in no_trees:\n",
    "    m = RandomForestRegressor(n_estimators=t).fit(X_train,y_train.values.ravel())\n",
    "    score = m.score(X_val, y_val)\n",
    "    if score > max_score:\n",
    "        max_score = score\n",
    "        best_no_trees = t"
   ]
  },
  {
   "cell_type": "code",
   "execution_count": 148,
   "metadata": {},
   "outputs": [
    {
     "data": {
      "text/plain": [
       "0.45645937239542866"
      ]
     },
     "execution_count": 148,
     "metadata": {},
     "output_type": "execute_result"
    }
   ],
   "source": [
    "max_score"
   ]
  },
  {
   "cell_type": "code",
   "execution_count": 149,
   "metadata": {},
   "outputs": [
    {
     "data": {
      "text/plain": [
       "70"
      ]
     },
     "execution_count": 149,
     "metadata": {},
     "output_type": "execute_result"
    }
   ],
   "source": [
    "best_no_trees"
   ]
  },
  {
   "cell_type": "code",
   "execution_count": 150,
   "metadata": {},
   "outputs": [
    {
     "data": {
      "text/plain": [
       "RandomForestRegressor(n_estimators=70)"
      ]
     },
     "execution_count": 150,
     "metadata": {},
     "output_type": "execute_result"
    }
   ],
   "source": [
    "rf_final = RandomForestRegressor(n_estimators=best_no_trees)\n",
    "rf_final.fit(X_train, y_train.values.ravel())"
   ]
  },
  {
   "cell_type": "code",
   "execution_count": 151,
   "metadata": {},
   "outputs": [
    {
     "name": "stdout",
     "output_type": "stream",
     "text": [
      "The score on the training data:\n",
      "0.9203234978669472\n",
      "The score on the development data:\n",
      "0.41864482206896036\n"
     ]
    }
   ],
   "source": [
    "print('The score on the training data:')\n",
    "print(rf_final.score(X_train, y_train))\n",
    "print('The score on the development data:')\n",
    "print(rf_final.score(X_val, y_val))"
   ]
  },
  {
   "cell_type": "markdown",
   "metadata": {},
   "source": [
    "### 2.4.5.2 Cross-validation"
   ]
  },
  {
   "cell_type": "code",
   "execution_count": 152,
   "metadata": {},
   "outputs": [
    {
     "name": "stdout",
     "output_type": "stream",
     "text": [
      "The best parameter value is: \n",
      "{'n_estimators': 200}\n",
      "The best score is: \n",
      "0.41597508734706795\n"
     ]
    }
   ],
   "source": [
    "# values of n_estimators\n",
    "parameters = {'n_estimators':[10,20,30,40,50,70,100,150,200]}\n",
    "rf = RandomForestRegressor()\n",
    "\n",
    "clf = model_selection.GridSearchCV(rf, parameters)\n",
    "\n",
    "clf.fit(X_train, y_train.values.ravel())\n",
    "\n",
    "# we can query the best parameter value and its accuracy score\n",
    "print (\"The best parameter value is: \")\n",
    "print (clf.best_params_)\n",
    "print (\"The best score is: \")\n",
    "print (clf.best_score_)"
   ]
  },
  {
   "cell_type": "code",
   "execution_count": 153,
   "metadata": {},
   "outputs": [],
   "source": [
    "n_estimators_range = [10,20,30,40,50,70,100,150,200]\n",
    "\n",
    "train_scores, valid_scores = validation_curve(estimator=RandomForestRegressor(), \n",
    "                                              X=X_train, y=y_train.values.ravel(),\n",
    "                                              param_name=\"n_estimators\",\n",
    "                                              param_range=n_estimators_range,\n",
    "                                              cv=5)"
   ]
  },
  {
   "cell_type": "code",
   "execution_count": 154,
   "metadata": {},
   "outputs": [
    {
     "data": {
      "image/png": "[encoded data removed]",
      "text/plain": [
       "<Figure size 432x288 with 1 Axes>"
      ]
     },
     "metadata": {
      "needs_background": "light"
     },
     "output_type": "display_data"
    }
   ],
   "source": [
    "# plotting the validation curve\n",
    "train_scores_mean = np.mean(train_scores, axis=1)\n",
    "train_scores_std = np.std(train_scores, axis=1)\n",
    "valid_scores_mean = np.mean(valid_scores, axis=1)\n",
    "valid_scores_std = np.std(valid_scores, axis=1)\n",
    "\n",
    "plt.title(\"Figure 12: Validation Curve with Random Forest\")\n",
    "plt.xlabel(r\"number of trees\")\n",
    "plt.ylabel(\"Score\")\n",
    "plt.ylim(0.3, 1.0)\n",
    "lw = 2\n",
    "plt.semilogx(n_estimators_range, train_scores_mean, label=\"Training score\",\n",
    "             color=\"darkorange\", lw=lw)\n",
    "plt.fill_between(n_estimators_range, train_scores_mean - train_scores_std,\n",
    "                 train_scores_mean + train_scores_std, alpha=0.2,\n",
    "                 color=\"darkorange\", lw=lw)\n",
    "plt.semilogx(n_estimators_range, valid_scores_mean, label=\"Cross-validation score\",\n",
    "             color=\"navy\", lw=lw)\n",
    "plt.fill_between(n_estimators_range, valid_scores_mean - valid_scores_std,\n",
    "                 valid_scores_mean + valid_scores_std, alpha=0.2,\n",
    "                 color=\"navy\", lw=lw)\n",
    "plt.legend(loc=\"best\")\n",
    "plt.show()"
   ]
  },
  {
   "cell_type": "code",
   "execution_count": 155,
   "metadata": {},
   "outputs": [
    {
     "data": {
      "text/plain": [
       "0.4405643024217938"
      ]
     },
     "execution_count": 155,
     "metadata": {},
     "output_type": "execute_result"
    }
   ],
   "source": [
    "rf_final.score(X_test, y_test)"
   ]
  },
  {
   "cell_type": "code",
   "execution_count": 156,
   "metadata": {},
   "outputs": [
    {
     "name": "stdout",
     "output_type": "stream",
     "text": [
      "Feature: 0, Score: 0.11428\n",
      "Feature: 1, Score: 0.03787\n",
      "Feature: 2, Score: 0.04497\n",
      "Feature: 3, Score: 0.01764\n",
      "Feature: 4, Score: 0.05636\n",
      "Feature: 5, Score: 0.07740\n",
      "Feature: 6, Score: 0.04819\n",
      "Feature: 7, Score: 0.03541\n",
      "Feature: 8, Score: 0.04984\n",
      "Feature: 9, Score: 0.03765\n",
      "Feature: 10, Score: 0.04270\n",
      "Feature: 11, Score: 0.03765\n",
      "Feature: 12, Score: 0.01754\n",
      "Feature: 13, Score: 0.02707\n",
      "Feature: 14, Score: 0.23830\n",
      "Feature: 15, Score: 0.02286\n",
      "Feature: 16, Score: 0.02506\n",
      "Feature: 17, Score: 0.03993\n",
      "Feature: 18, Score: 0.02929\n"
     ]
    },
    {
     "data": {
      "image/png": "[encoded data removed]",
      "text/plain": [
       "<Figure size 432x288 with 1 Axes>"
      ]
     },
     "metadata": {
      "needs_background": "light"
     },
     "output_type": "display_data"
    }
   ],
   "source": [
    "importance = rf_final.feature_importances_\n",
    "# summarize feature importance\n",
    "for i,v in enumerate(importance):\n",
    " print('Feature: %0d, Score: %.5f' % (i,v))\n",
    "# plot feature importance\n",
    "plt.bar([x for x in range(len(importance))], importance)\n",
    "plt.title('Figure 13: Feature Importances of Random Forest')\n",
    "plt.show()"
   ]
  },
  {
   "cell_type": "code",
   "execution_count": null,
   "metadata": {},
   "outputs": [],
   "source": []
  }
 ],
 "metadata": {
  "kernelspec": {
   "display_name": "Python 3",
   "language": "python",
   "name": "python3"
  },
  "language_info": {
   "codemirror_mode": {
    "name": "ipython",
    "version": 3
   },
   "file_extension": ".py",
   "mimetype": "text/x-python",
   "name": "python",
   "nbconvert_exporter": "python",
   "pygments_lexer": "ipython3",
   "version": "3.8.3"
  }
 },
 "nbformat": 4,
 "nbformat_minor": 4
}
